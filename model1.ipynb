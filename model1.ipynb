{
 "cells": [
  {
   "cell_type": "code",
   "execution_count": 3,
   "metadata": {},
   "outputs": [],
   "source": [
    "import pandas as pd\n",
    "import pathlib\n",
    "import spacy\n",
    "from spacy.lang.en import English\n",
    "from spacy.lang.en.stop_words import STOP_WORDS\n",
    "from string import punctuation\n",
    "from sklearn.feature_extraction.text import CountVectorizer,TfidfVectorizer\n",
    "from sklearn.metrics import accuracy_score\n",
    "from sklearn.base import TransformerMixin\n",
    "from sklearn.pipeline import Pipeline\n",
    "from sklearn.svm import LinearSVC\n",
    "from sklearn.model_selection import train_test_split\n",
    "from sklearn.metrics import classification_report, confusion_matrix, accuracy_score"
   ]
  },
  {
   "cell_type": "code",
   "execution_count": 4,
   "metadata": {},
   "outputs": [
    {
     "output_type": "execute_result",
     "data": {
      "text/plain": "2303"
     },
     "metadata": {},
     "execution_count": 4
    }
   ],
   "source": [
    "# Loading the dataset \n",
    "data_dir = pathlib.Path('/home/lv11/Documents/ProyectosPython/sentimentAnalysis/train')\n",
    "nf = pd.read_csv(data_dir / 'tweetsDataset1.csv',skiprows=1,names=['Message','Target'])\n",
    "len(nf)"
   ]
  },
  {
   "cell_type": "code",
   "execution_count": 5,
   "metadata": {
    "tags": []
   },
   "outputs": [
    {
     "output_type": "stream",
     "name": "stdout",
     "text": "{'can', 'forty', 'ours', 'no', 'over', 'thereupon', 'go', 'him', 'perhaps', \"'re\", 'upon', 'towards', 'hundred', 'latterly', 'then', 'twenty', 'yourselves', 'from', 'would', 'has', 'against', 'more', 'beyond', 'whereas', 'quite', 'of', 'fifteen', 'every', 'made', 'whenever', 'various', 'around', 'rather', 'between', 'bottom', 'only', 'hers', 'he', 'hereby', 'mine', 'call', 'unless', 'whether', 'top', 'whatever', 'had', 'seemed', 'thru', 'thereby', 'somewhere', 'herself', 'very', 'it', 'many', 'there', 'these', 'after', 'name', 'was', 'regarding', 'until', 'within', 'whoever', 'moreover', 'while', 'themselves', \"'ll\", 'another', 'that', 'front', 'ourselves', 'yourself', 'however', 'here', 'otherwise', \"'m\", \"'ve\", 'whereupon', 'next', 'several', 'wherein', '’re', 'back', 'n‘t', 'most', 'do', 'whose', 'although', '’ll', 'how', 'keep', 'too', 'sometime', 'toward', 'eleven', 'some', 'serious', 'what', 'hence', 'hereupon', 'except', 'before', 'ca', 'eight', 'became', 'cannot', 'else', '‘re', 'each', 'whom', 'third', 'beside', 'again', 'twelve', 'namely', 'into', 'along', 'about', 'as', 'someone', 'we', 'almost', 'please', 'whence', 'just', 'everywhere', 'nevertheless', 'himself', 'anyway', 'who', 'your', 'without', 'become', 'noone', 'yet', 'them', 'amount', 'mostly', 'either', 'up', 'ten', 'used', 'see', 're', 'make', 'among', 'put', 'five', 'anyhow', 'not', 'nowhere', 'his', 'six', 'must', 'enough', 'further', 'anything', 'say', 'during', 'seem', 'three', 'through', 'thereafter', 'nine', 'so', \"n't\", 'nothing', 'below', 'already', 'now', 'first', '‘ve', 'might', 'often', 'indeed', '‘m', 'across', 'itself', 'she', 'should', 'therefore', \"'s\", 'show', 'any', 'are', 'becomes', 'sometimes', 'also', '‘ll', 'due', '’s', \"'d\", 'does', 'even', '’m', 'sixty', 'their', 'all', 'above', 'been', 'done', 'give', 'under', 'were', 'ever', 'full', 'onto', 'her', 'such', 'those', 'hereafter', 'or', 'throughout', 'whereafter', 'i', 'whole', 'by', 'where', 'could', 'why', 'becoming', 'and', 'its', 'will', 'is', 'wherever', 'get', 'both', 'myself', 'seeming', 'everything', 'side', 'be', 'though', 'nor', 'at', 'somehow', 'therein', 'two', 'nobody', 'same', 'a', 'besides', 'empty', 'move', 'when', 'own', 'you', '‘d', '’d', 'few', 'everyone', 'much', 'neither', 'per', 'via', 'the', 'they', 'in', 'for', 'herein', 'doing', 'thus', 'others', 'well', 'whither', 'always', 'beforehand', 'my', 'anyone', 'least', 'being', 'four', 'on', 'elsewhere', 'meanwhile', 'part', 'may', 'latter', 'off', 'really', 'last', 'anywhere', 'me', 'seems', 'since', 'something', 'this', 'whereby', 'down', 'former', 'still', '‘s', 'to', 'because', 'other', 'n’t', 'amongst', 'did', 'which', 'if', 'with', 'one', 'have', 'yours', 'fifty', 'formerly', 'together', 'take', '’ve', 'out', 'an', 'alone', 'am', 'once', 'never', 'none', 'using', 'us', 'afterwards', 'less', 'but', 'our', 'than', 'thence', 'behind'}\n"
    }
   ],
   "source": [
    "nlp = English()\n",
    "stop_words = list(STOP_WORDS)\n",
    "print(STOP_WORDS)"
   ]
  },
  {
   "cell_type": "code",
   "execution_count": 6,
   "metadata": {},
   "outputs": [],
   "source": [
    "def spacy_tokenizer(sentence):\n",
    "    tokens = nlp(sentence)\n",
    "    tokens = [ word.lemma_.lower().strip() if word.lemma_ != '-PRON-' else word.lower_ for word in tokens ]\n",
    "    tokens = [ word for word in tokens if word not in stop_words and word not in punctuation ]\n",
    "    return tokens\n",
    "\n",
    "class predictors(TransformerMixin):\n",
    "    \n",
    "    def transform(self,x, **transform_params):\n",
    "        return [ clean_text(text) for text in x ]\n",
    "\n",
    "    def fit(self, x, y=None, **fit_params):\n",
    "        return self\n",
    "    \n",
    "    def get_params(self, deep=True):\n",
    "        return {}\n",
    "\n",
    "def clean_text(text):\n",
    "    return text.strip().lower()"
   ]
  },
  {
   "cell_type": "code",
   "execution_count": 7,
   "metadata": {},
   "outputs": [],
   "source": [
    "vectorizer = CountVectorizer(tokenizer=spacy_tokenizer,ngram_range=(1,1))\n",
    "classifier = LinearSVC(dual=False)\n",
    "tfvectorizer = TfidfVectorizer(tokenizer=spacy_tokenizer)"
   ]
  },
  {
   "cell_type": "code",
   "execution_count": 8,
   "metadata": {},
   "outputs": [],
   "source": [
    "x = nf['Message']\n",
    "ylabels = nf['Target']\n",
    "\n",
    "X_train, X_test, y_train, y_test = train_test_split(x, ylabels, test_size=0.2, random_state=42, shuffle=True)"
   ]
  },
  {
   "cell_type": "code",
   "execution_count": 9,
   "metadata": {},
   "outputs": [],
   "source": [
    "pipe = Pipeline(\n",
    "    [\n",
    "        ('cleaner', predictors()),\n",
    "        ('vectorizer', vectorizer),\n",
    "        ('classifier', classifier)\n",
    "    ]\n",
    ")"
   ]
  },
  {
   "cell_type": "code",
   "execution_count": 10,
   "metadata": {},
   "outputs": [],
   "source": [
    "pipe.fit(X_train, y_train)\n",
    "test_prediction = pipe.predict(X_test)"
   ]
  },
  {
   "cell_type": "code",
   "execution_count": 11,
   "metadata": {
    "tags": [
     "outputPrepend"
    ]
   },
   "outputs": [
    {
     "output_type": "stream",
     "name": "stdout",
     "text": "   PREDICTION ====>  0\nNot really an amount just loads of sections unhappy  I'll ride up to to netherton now meet me at Darby end ?  PREDICTION ====>  0\nTrue! Khilado kuch unhappy   PREDICTION ====>  0\nPls RT[NCT FIC] Love Song  PREDICTION ====>  1\nI used to like my neighbours  PREDICTION ====>  1\n I always know when it come but have no fucking clue how it goes unhappy    PREDICTION ====>  0\nAh awesome! Pixel art stuff by any chance? happy  PREDICTION ====>  1\nDon't think I'm pretty enough unhappy   PREDICTION ====>  0\n I'm so glad I have you   PREDICTION ====>  1\nIf you can't be there for someone at their worst then you don't deserve to be there at their best :)KISSES TheFashionIcon  PREDICTION ====>  1\n.the person who chose shut the fuck up: unhappy   PREDICTION ====>  0\n get a dog. :D  PREDICTION ====>  1\n- Thank you tons  PREDICTION ====>  1\n or SHIT for short :)*Thanks to my friend maddy over at  PREDICTION ====>  1\n no sign of Garry Barlow yet sad   PREDICTION ====>  0\n thanks so much for following us! We'd love to know what you think of our flooring range happy  PREDICTION ====>  1\nWatch this MayWard Fam!  PREDICTION ====>  1\nDefinitely my arms unhappy  .10  PREDICTION ====>  0\nHey Robert Rolih thanks for the follow! What does coastal living mean to you? Reply with photo :D  PREDICTION ====>  1\n I'm so sorry to see your tweet unhappy  Please could you DM your address details? I will look i   PREDICTION ====>  0\ntrashing others and having a possee behind you boosts your ego  PREDICTION ====>  0\n i want to explode like a grenade to the point where people will die with me. sad   PREDICTION ====>  0\nthis is damn.... theres people who sincerely want to attend BH birthday party but bcs of those people who try for fun make them ca.4  PREDICTION ====>  0\nSooooo feels like a Friday today unhappy   PREDICTION ====>  0\nStill not possible! unhappy   PREDICTION ====>  0\nunhappy  i saw somebody said his hair fell out and bighit trying to figure it out  PREDICTION ====>  0\naw BCC is having a PRIDE prom and i kind of want to go happy  PREDICTION ====>  1\nthank you! happy  PREDICTION ====>  1\nHave you ever been to AUSTRALIA! :D Love your vids. Lovo on youtube :D  PREDICTION ====>  1\nikr. I would have trauma if i ware him unhappy   PREDICTION ====>  0\nWell thanks for stoping by unhappy   PREDICTION ====>  0\nThis is why I made the video about improving your line work on YouTube  PREDICTION ====>  0\nUnnamed: 223  PREDICTION ====>  1\nHey guys could you help me by retweeting this? I've heard was legitimate and I really need a VPN account rig  PREDICTION ====>  1\nShihaaaa help me on my bishie hunttt equals  ^ equals )  PREDICTION ====>  0\na beautiful day happy  PREDICTION ====>  1\nKoalas are dying of thirst  and it's all because of us unhappy  .7  PREDICTION ====>  0\n but not your career. unhappy   PREDICTION ====>  0\nOPENING UP TO YOU LOT!RT LIKES WOULD BE LAAAAAVERLY :D .xxENJOY  PREDICTION ====>  1\nToo bad i can't watch it unhappy  that cake is cute and looks delicious  PREDICTION ====>  0\ni'm grateful to my mom for giving birth to me and not abort me crying with joy  PREDICTION ====>  1\nYG should have sent them to MCD. I want to see them holding the trophy unhappy  anyways .3  PREDICTION ====>  0\nWork at 7 this morning unhappy   PREDICTION ====>  0\nDid you notice? There is no killings of RSS / BJP workers in another Southern State? CM is dismantling Xtian infra in Munnar?.1  PREDICTION ====>  1\nthis is jimin to yoongi unhappy  .5  PREDICTION ====>  0\nYou too my friend. smile  PREDICTION ====>  1\nPlease follow me . I have been trying to get your follow for a long time unhappy  .   PREDICTION ====>  0\nRELATABLE unhappy   PREDICTION ====>  0\ni hate park jisung so much sad   PREDICTION ====>  0\nwhat a great thing to be sad about unhappy   PREDICTION ====>  0\nHello everyone.2  PREDICTION ====>  1\nmane has been amazing unhappy   PREDICTION ====>  0\npenge damit unhappy .1  PREDICTION ====>  0\nHold off the frowns until you've used the new application - which is made by the same team! happy  PREDICTION ====>  1\nI've been given a Custom Console Bundle to giveaway! happy  this tweet  be following me to enter! Ends  PREDICTION ====>  1\nAVI for my man :)Phone made like always wink  PREDICTION ====>  1\nI cried so much  PREDICTION ====>  1\nLet's not forget that it's also Gabriel Tenma White's birthday today!I miss unhappy    PREDICTION ====>  0\nNew second home coming soon! :D  PREDICTION ====>  1\nthis is damn.... theres people who sincerely want to attend BH birthday party but bcs of those people who try for fun make them ca.1  PREDICTION ====>  0\nA lot of games this month? :D  PREDICTION ====>  1\nhappy birthday ! happy  hope you have a good one  PREDICTION ====>  1\n love it unhappy   PREDICTION ====>  0\nHellooo.. happy  Lil strait (Daddyy_rat)  PREDICTION ====>  1\nI work so much better there unhappy   PREDICTION ====>  0\nWell  PREDICTION ====>  1\n I released a new video about game genres.RTs are super appreciated happy  PREDICTION ====>  1\nEpisode two now crying with joy  PREDICTION ====>  1\nI hope it was great   PREDICTION ====>  1\nthanks for the recent follow.3  PREDICTION ====>  1\nOne table last night told me I look like a graceful ballerina gliding through tables- then another told me I looked like a flash dancer unhappy   PREDICTION ====>  0\nto  pork pies happy  PREDICTION ====>  1\nHellooo.. happy  satans-daughter (taylynnox)  PREDICTION ====>  1\nWhen your online crush comes to the meet-up without their Snapchat filter unhappy    PREDICTION ====>  0\nHi instant message your friend  friend lang  PREDICTION ====>  1\nWth why did 4/20 have to happen during the Easter holidays it's one of the best days in Leeds unhappy   PREDICTION ====>  0\nthis is jimin to yoongi unhappy  .6  PREDICTION ====>  0\n Thank you happy  PREDICTION ====>  1\n and still not being rich - try getting a life  PREDICTION ====>  1\nApril is really really bloody. I'm so proud of our boys crying with joy  PREDICTION ====>  1\nWow i just made a JS compressor that actually checks scoped variables existing. Turns out i have a few issues happy  Linters may be useful happy  PREDICTION ====>  1\ni have bronchitis i love that happy  PREDICTION ====>  1\n will be a blessing tomorrow happy  Keep your faith stirred up each day!  PREDICTION ====>  1\ngood morning messages never fail to make me smile happy  PREDICTION ====>  1\n DM us happy  S.2  PREDICTION ====>  1\ndamn ify ate unhappy   PREDICTION ====>  0\narisun at town hall has pretty terrible service and rude staff. we only went there because ICG's fryer was broken unhappy   PREDICTION ====>  0\noh noooo baby unhappy   PREDICTION ====>  0\nafter that I was charged because of the driver happy  after waiting in the sun for 10 minutes! TEN!  PREDICTION ====>  1\nthis is damn.... theres people who sincerely want to attend BH birthday party but bcs of those people who try for fun make them ca.12  PREDICTION ====>  0\nI love it when Ben sleeps in because I get to watch all the programmes I want on Netflix without interruption !!!! happy  PREDICTION ====>  1\nRetweet if you are with us? Kaway kaway family :)MCLISSE StarMusicIfWeFallinLove  PREDICTION ====>  0\n Damn... this just Sucks! unhappy   PREDICTION ====>  0\nThere was nothing religious in it. is calling out sexism. I don't think I need to spell out my stand  PREDICTION ====>  0\n I know I'm not ready to say goodbye unhappy  So  PREDICTION ====>  0\nunhappy  i have to be strong today jfjfjkf  PREDICTION ====>  0\n flavorful dream   PREDICTION ====>  1\nwe would love to have you as a guest on podcast sometime!!! Only 15 minute smile  interested???  PREDICTION ====>  1\n I just hope everything goes right from now on unhappy   PREDICTION ====>  0\nYoungjae during fansign on 04/10/17 constantly massaging his back. Clearly something wrong but pretended he was not  PREDICTION ====>  1\nI write fiction. Some PR knob who writes sentence fragments on an iPad next to the Shoreditch House piss off  PREDICTION ====>  0\nSO PRECIOUS I REALLY MISS HIM unhappy   .2  PREDICTION ====>  0\ndon't miss you anymore unhappy   PREDICTION ====>  0\ncan't wait to see you in that film Karl! I wished you would be here were I'm bu  PREDICTION ====>  0\nDefinitely wasn't what I was looking for :/ But gave it a try anyway happy  PREDICTION ====>  1\nOh that feel when you have 10 gems :D  PREDICTION ====>  1\nPlease  PREDICTION ====>  1\nThanks for sharing happy  PREDICTION ====>  1\nCongratulations  PREDICTION ====>  1\nI would say quite a lot...but hey  PREDICTION ====>  1\nThat sucks unhappy   PREDICTION ====>  0\nAnother great song  Have a listen. Its good! You may well like it happy.1  PREDICTION ====>  1\nThink it would drive me mad once the synths and other robots turned up. unhappy   PREDICTION ====>  0\nI'm just really soft spoken unhappy   PREDICTION ====>  0\nthanks for the recent follow  PREDICTION ====>  1\nI prefer it to sharm - enjoy it happy  Gouna 20km away is also quite nice - honestly anywhere away from crazy cairo is  PREDICTION ====>  1\nsad  I don't  PREDICTION ====>  0\nI just did happy  PREDICTION ====>  1\nunhappy  they look dead  PREDICTION ====>  0\nThe most painful goodbyes are the onesthat are never said and never explained crying  unhappy  :/  PREDICTION ====>  0\n wifi  PREDICTION ====>  1\nJust win at weekend and it will be a late gift  PREDICTION ====>  0\n I'm aborting mission now have a nice day though x   PREDICTION ====>  1\nBe happy  PREDICTION ====>  1\n w  PREDICTION ====>  0\nYG should have sent them to MCD. I want to see them holding the trophy unhappy  anyways .9  PREDICTION ====>  0\n idea of saying No to almo  PREDICTION ====>  1\nI can't do it all on my own. (See what I did there? ) .1  PREDICTION ====>  0\nI dedicate this song to  PREDICTION ====>  1\nwish knock out lang talaga for the new school year are good and cooperative groupmates please unhappy   PREDICTION ====>  0\n you change your whole life happy  PREDICTION ====>  1\nCAN SOMEONE PLS GIFT ME XAYAH USING PI PLSSSS? unhappy   PREDICTION ====>  0\nDon't be buffalo unhappy   PREDICTION ====>  0\nI check Beautiful News every single day  PREDICTION ====>  1\ndo you even care at all unhappy   PREDICTION ====>  0\n3. That's a lot cheaper and easier than make your own. My schematic needs special cables that doesn't come easy. unhappy   PREDICTION ====>  0\nit's that A*dy guy from pop Asia and then the translator so they'll probs go with them around Aus unhappy   PREDICTION ====>  0\ntalking to my over driver about where I'm goinghe said he'd love to go to New York too but since Trump it's probably not.2  PREDICTION ====>  0\nDefinitely my arms unhappy  .5  PREDICTION ====>  0\n if i get 900 retweets and 900 likes. help me :(un.1  PREDICTION ====>  0\nI want to give him everything that makes him happy just to see this smile unhappy   PREDICTION ====>  0\nthanks for the recent follow. Much appreciated happy  Get this  PREDICTION ====>  1\nCharge to experience muna happy  PREDICTION ====>  1\nmore goodies spotted! :D  PREDICTION ====>  1\ncongrats! :D  PREDICTION ====>  1\nI lost two streaks and it's from my two favorite people silence  unhappy  good night  PREDICTION ====>  0\nThank you so much smile  PREDICTION ====>  1\nHi please rt my pinned post happy  PREDICTION ====>  1\nNote to self: Dont get to attached crying   PREDICTION ====>  0\nSO PRECIOUS I REALLY MISS HIM unhappy   .1  PREDICTION ====>  0\nThanks  PREDICTION ====>  1\ni love him so much i want to kindly stroke his penis :D  PREDICTION ====>  1\nTheres only one thing I want to change about you . Your Last Name happy  ALDUBOnly  PREDICTION ====>  1\nfuck. tried changing my settings but still in india. unhappy   PREDICTION ====>  0\n I know. happy  PREDICTION ====>  1\nThanks for being top engaged community members this week happy  Want this ?  PREDICTION ====>  1\nWhen Jongin asked each members whether they have eaten and felt so wronged because they ate without him unhappy    PREDICTION ====>  0\nI should never draw again unhappy   PREDICTION ====>  0\nWe All Know unhappy    PREDICTION ====>  0\nthey would have sustained their fame if they did unhappy   PREDICTION ====>  0\nKiera's Quest: Awakenings (Kiera's Quest  Book 1)  PREDICTION ====>  1\n- Thanks for being top engaged community members this week happy   Grow your followers with  PREDICTION ====>  1\n cheer up the new administrator team. happy  PREDICTION ====>  1\nwhat's wrong with you why don't you like animals unhappy   PREDICTION ====>  0\ngive me my own AHN MINHYUK juseyoooo unhappy   PREDICTION ====>  0\nI wish I could say the gangs all here but Daniel's not in this picture. unhappy   Rantoul Twp High   PREDICTION ====>  0\nOuch Elena Eremina's foot slip  PREDICTION ====>  1\nhungry unhappy  but no time to buy food  PREDICTION ====>  0\nWhy would Harvey be going to prison? unhappy   PREDICTION ====>  0\nthanks for the follow  PREDICTION ====>  1\nhappy  Me too I hope  PREDICTION ====>  1\nkoh  PREDICTION ====>  1\nSpeech-to-text doesnt understand my accent or Irish names unhappy   PREDICTION ====>  0\nIm getting one too smile  smile  smile  smile  PREDICTION ====>  1\nClose up of the animation 3I will post the second part soon! happy  PREDICTION ====>  1\nPreacher...... unhappy   PREDICTION ====>  0\n i got goosebumps   PREDICTION ====>  0\nAs if this process hasn't been frustrating enough  PREDICTION ====>  1\nfor trade ? happy  what yeah want ?  PREDICTION ====>  1\nfriendly reminder that you can enjoy a movie or television show without having to trash another happy  PREDICTION ====>  1\nslight buzy kasi besh unhappy  .1  PREDICTION ====>  0\ni feel bad for doing that AHAHA unhappy   PREDICTION ====>  0\nPozuelo (formerly of Swans) and Suso (Liverpool now AC)  PREDICTION ====>  1\nSydney tomorrow  PREDICTION ====>  0\nstill waiting unhappy   PREDICTION ====>  0\nmorning happy  PREDICTION ====>  1\nThanks for the recent follow Happy to connect happy  have a great Thursday. Want this ?  PREDICTION ====>  1\nwhen i'm enlisting can please turn up like this unhappy    PREDICTION ====>  0\nMy heart hurts. sad  I hate people   PREDICTION ====>  0\nYoungjae looked so sad in the video unhappy   PREDICTION ====>  0\n Updated the text for my video intro by drawing it with the line tool in Paint Tool Sai. happy  PREDICTION ====>  1\nWTF Canada 2017 and you are still in the 1700s. I Will Never support  PREDICTION ====>  0\nThank you mama bear! Ang ganda mo happy  PREDICTION ====>  1\nAnd this tweet made me cry!! crying   PREDICTION ====>  0\nyour system does not recognize spaces in last names so for 2nd time unable to check in  forced to wait in unnecessary lines unhappy   PREDICTION ====>  0\nI'm sorry but people have to  make a living happy  PREDICTION ====>  1\nNaeem Bokhari says... Mian has gone !! are so cute NB happy  But NS is ugly evil..1  PREDICTION ====>  1\nHOLY SHIT! 40 pages script of the opening scene of Man Of Steel on Krypton got compressed.I wish I could at least  PREDICTION ====>  0\nokay happy  PREDICTION ====>  1\nAww hating that I got sponsored  PREDICTION ====>  0\nThe manifesto  PREDICTION ====>  1\nDon't say that unhappy   PREDICTION ====>  0\nI woke up at 4:17  PREDICTION ====>  1\nWhen your efforts pay off... happy  PREDICTION ====>  1\ni love you but I can%27t be arsed i don%27t know why people keep saying it unhappy   PREDICTION ====>  0\nTo all FLA members and officers who are going to Cebu tomorrow silence  Godbless piss off mga ante and angkol!  happy  PREDICTION ====>  1\nAh alright  PREDICTION ====>  1\n months and years of bonding and happiness  family MCLISSE StarMu  PREDICTION ====>  0\nWhy do people on the internet have to be such asses annoyance  Here's some positivity for you. I love your art!!! :D It's so pretty!!  PREDICTION ====>  1\nThere isnt a new Riverdale tonight ? unhappy   PREDICTION ====>  0\nHey thanks for being top new followers this week! Much appreciated happy.3  PREDICTION ====>  1\nwho's selling an army bomb ver 2??? meet up on sad   PREDICTION ====>  0\nwe finally got jinyoung to wipe it for jaebum himself but their precious son blocks it for the world to witness it  PREDICTION ====>  1\nIF THE BELOW TWEET HITS 1000 IS GETTING RIAN HOLDING THE STICKER TOO!!! Click the below tweet  SM  PREDICTION ====>  1\nNever known how hard it is until last to  days how to resist temptation to enter politics debates on social media happy  stood firm so far  PREDICTION ====>  1\nI do it for 5/6 times a week leh sad  and yes closing is damn fuck opening so much better  PREDICTION ====>  0\nThat's shocking and evil unhappy   PREDICTION ====>  0\nThat would be a great trick happy.2  PREDICTION ====>  1\nYG should have sent them to MCD. I want to see them holding the trophy unhappy  anyways .10  PREDICTION ====>  0\nThe one with backward cap  PREDICTION ====>  1\nwhy did she delete the tweet  PREDICTION ====>  1\n 2017 at 07:00AM!! kamusta? don't forget to eat your breakfast guys! happy  PREDICTION ====>  1\nplease just stop confining animals in zoos unhappy    PREDICTION ====>  0\nGotta keep trying before i have to quit to work unhappy  pick me please! give   PREDICTION ====>  0\nThanks for the recent follow Happy to connect happy  have a great Thursday..9  PREDICTION ====>  1\nRuby was rehomed for times before she was for months old  now loves her forever home. Pls always consider rescue when  PREDICTION ====>  0\ncelebrate Hitler's birthday! =D  PREDICTION ====>  1\n froze mid install. Waited 3hrs he'd to pull plug crying   PREDICTION ====>  0\nThanks for the recent follow Happy to connect happy  have a great Thursday.  Get FREE?.1  PREDICTION ====>  1\nThanks for the recent follow Happy to connect happy  have a great Thursday.  Want this  PREDICTION ====>  1\n mine isn't in my inbox unhappy   PREDICTION ====>  0\n rather than the UK  PREDICTION ====>  1\nPlayoffs rematch complete!  Feels good going to worlds again :D  PREDICTION ====>  1\ncongratulations David! Well done Mrs V! Welcome Jessica! happy  PREDICTION ====>  1\nfor every like ill post an answer smile  PREDICTION ====>  1\nI'm happy   happy  PREDICTION ====>  1\nSomething is really wrong. I should be spending my days naked on a beach in the hot sunshine. Not working in the cold in King's Lynn sad   PREDICTION ====>  0\nSorry for being tired on stream. Will get some sleep and try be more fun tomorrow. Just wasn't feeling it tonight guys. Not  PREDICTION ====>  0\nCheers :D  PREDICTION ====>  1\n still strict  PREDICTION ====>  1\nThe road and traffic signs section of theory revision is such a myth unhappy   PREDICTION ====>  0\nSorry for no stream yesterday  PREDICTION ====>  0\n you need a direct coffee feed to Starbucks happy  PREDICTION ====>  1\nI can relate to this so so much unhappy    PREDICTION ====>  0\nShare the love: thanks for being top new followers this week happy.1  PREDICTION ====>  1\nHere is a new thesis by another genius.Sir  PREDICTION ====>  1\nPetronas blue/green isnt that far away from Billy Monger blue/green.  Just a thought happy  PREDICTION ====>  1\nMust Feel Like Shit When Men Can Stare Down The Barrel Of A Bong As They Spend Their Kid's Milk Money unhappy   PREDICTION ====>  0\nthis is damn.... theres people who sincerely want to attend BH birthday party but bcs of those people who try for fun make them ca.15  PREDICTION ====>  0\n whats crazy is when i walked through them doors EVERY ADMINISTRATION + HER WAS THERE THAT NIGHT. so why are her a  PREDICTION ====>  1\ni'm actually crying while typing this tweet i just can't take it anymore.. not applicablehulog not applicable knock out d unhappy   PREDICTION ====>  0\nsee the next tweet! I did about 5 different things while keeping very calm  PREDICTION ====>  1\nIf you can send me a DM with your postcode I can check a few of your local stores. Look forward to your reply happy  - Nathan 2/2  PREDICTION ====>  1\nunhappy  let's fight all those kids   PREDICTION ====>  0\nto WIN draw for free download of for Celebrate with us. Developed by for  PREDICTION ====>  0\nwhy is italian easier than spanish unhappy   PREDICTION ====>  0\nChin up Leo crying    PREDICTION ====>  0\nHey.1  PREDICTION ====>  1\n"
    }
   ],
   "source": [
    "for (sample, prediction) in zip(X_test, test_prediction):\n",
    "    print(sample,\" PREDICTION ====> \", prediction)"
   ]
  },
  {
   "cell_type": "code",
   "execution_count": 12,
   "metadata": {
    "tags": []
   },
   "outputs": [
    {
     "output_type": "stream",
     "name": "stdout",
     "text": "Accuracy test:  0.9067245119305857\nAccuracy of the algorithm:  1.0\nAccuracy train:  0.99457111834962\nConfusion matrix ---\n[[198  25]\n [ 18 220]]\nClassification report ---\n              precision    recall  f1-score   support\n\n           0       0.92      0.89      0.90       223\n           1       0.90      0.92      0.91       238\n\n    accuracy                           0.91       461\n   macro avg       0.91      0.91      0.91       461\nweighted avg       0.91      0.91      0.91       461\n\n0.9067245119305857\n"
    }
   ],
   "source": [
    "print(\"Accuracy test: \",pipe.score(X_test,y_test))\n",
    "print(\"Accuracy: \",pipe.score(X_test,test_prediction))\n",
    "print(\"Accuracy train: \",pipe.score(X_train,y_train))\n",
    "\n",
    "print(\"Confusion matrix ---\")\n",
    "print(confusion_matrix(y_test, test_prediction))\n",
    "print(\"Classification report ---\")\n",
    "print(classification_report(y_test, test_prediction))\n",
    "print(accuracy_score(y_test, test_prediction))\n",
    "\n"
   ]
  },
  {
   "cell_type": "code",
   "execution_count": 13,
   "metadata": {
    "tags": []
   },
   "outputs": [
    {
     "output_type": "stream",
     "name": "stdout",
     "text": "[1 0 1]\n"
    }
   ],
   "source": [
    "tweet = [\"That play was boring and stupid but it was good tough\",\"that's the dumbiest idea ever\",\"you're not the brighest but I can manage it\"]\n",
    "print(pipe.predict(tweet))"
   ]
  },
  {
   "cell_type": "code",
   "execution_count": null,
   "metadata": {},
   "outputs": [],
   "source": []
  }
 ],
 "metadata": {
  "kernelspec": {
   "display_name": "Python 3.6.9 64-bit",
   "language": "python",
   "name": "python36964bit83e830d1b6064148ae61d1aa05c0276d"
  },
  "language_info": {
   "codemirror_mode": {
    "name": "ipython",
    "version": 3
   },
   "file_extension": ".py",
   "mimetype": "text/x-python",
   "name": "python",
   "nbconvert_exporter": "python",
   "pygments_lexer": "ipython3",
   "version": "3.6.9-final"
  }
 },
 "nbformat": 4,
 "nbformat_minor": 2
}