{
 "metadata": {
  "language_info": {
   "codemirror_mode": {
    "name": "ipython",
    "version": 3
   },
   "file_extension": ".py",
   "mimetype": "text/x-python",
   "name": "python",
   "nbconvert_exporter": "python",
   "pygments_lexer": "ipython3",
   "version": "3.6.9-final"
  },
  "orig_nbformat": 2,
  "kernelspec": {
   "name": "python36964bit83e830d1b6064148ae61d1aa05c0276d",
   "display_name": "Python 3.6.9 64-bit"
  }
 },
 "nbformat": 4,
 "nbformat_minor": 2,
 "cells": [
  {
   "cell_type": "code",
   "execution_count": 20,
   "metadata": {},
   "outputs": [],
   "source": [
    "import numpy as np\n",
    "import pandas as pd \n",
    "import matplotlib.pyplot as plt\n",
    "import pathlib\n",
    "import spacy\n",
    "from spacy.lang.en import English\n",
    "from spacy.lang.en.stop_words import STOP_WORDS\n",
    "from string import punctuation\n",
    "from sklearn.feature_extraction.text import CountVectorizer\n",
    "from sklearn.model_selection import train_test_split\n",
    "from keras.models import Sequential\n",
    "from keras import layers\n",
    "import keras"
   ]
  },
  {
   "cell_type": "code",
   "execution_count": 21,
   "metadata": {
    "tags": []
   },
   "outputs": [
    {
     "output_type": "stream",
     "name": "stdout",
     "text": "Message  Target\n0                                             Hi Guys       1\n1             it's just got 3 years longer unhappy          0\n2   Hey thanks for being top new followers this we...       1\n3                                 I know how you feel       0\n4                                          huh? happy       1\n5                             Didn't keep it unhappy        0\n6                                These are for  happy       1\n7   unhappy  how come people like this have childr...       0\n8                                  Bapak Tom Cruise.        0\n9   help me too unhappy  as an early birthday gift...       0\n10  Shoutout to for the donation. Looks like I'm s...       1\n11                             Good luck Swampy happy       1\n12  lets agree she put her brain on knees crying w...       1\n13                                         Nitpicking       1\n14                 unhappy  :/ unhappy   feeling sick       0\n15                      which is good for him happy.1       1\n16             now i don%27t want to go camp unhappy        0\n17  A nice morning working from today. Lovely atmo...       1\n18  Let's not forget that it's also Gabriel Tenma ...       0\n19             I love them with all my hort unhappy         0\n['becomes', 'thereafter', 'cannot', 'thus', 'only', 'either', 'one', 'whenever', 'perhaps', 'third', 'we', 'eight', 'none', 'himself', 'since', '‘ll', '‘s', 'us', 'thereby', 'serious', 'so', 'anywhere', 'back', 'done', 'quite', 'forty', 'should', 'all', 'further', 'part', 'such', 'namely', 'whereas', 'from', 'myself', 'beyond', 'seemed', 'sixty', 'four', 'around', 'beforehand', 'nine', 'can', 'although', 'latterly', 'would', 'through', 'whoever', 'about', 'might', 'its', 'which', 'somewhere', 'whose', 'of', 'six', 'how', 'really', 'two', 'your', 'her', 'yourselves', 'more', 'otherwise', \"'ve\", 'than', \"'re\", 'anyway', 'his', 'herein', 'well', 'other', 'regarding', 'eleven', 'had', 'have', 'hundred', 'mostly', 'nevertheless', 'least', 'sometimes', 'what', '’ll', 'but', '’d', 'keep', 'did', 'herself', 'on', 'seems', 'it', 'onto', 'ten', 'is', 'seem', 'move', 'upon', 'put', 'five', 'rather', 'sometime', 'until', 'name', 'up', 'former', \"n't\", 'there', 'each', '’ve', 'anyone', 'along', '’re', 'wherein', 'within', 'been', 'many', 'last', 'ourselves', 'enough', 'nor', 'he', 'out', 'their', 'then', 'therein', 'when', 'an', 'whether', 'whole', 'else', 'hereby', 'even', 'becoming', 'whereupon', 're', 'three', 'whereafter', 'again', 'made', 'whom', 'doing', 'much', 'above', 'nothing', 'somehow', 'something', 'behind', 'see', 'not', 'where', 'yours', 'neither', 'hers', 'full', 'throughout', 'in', 'ours', 'now', 'hereupon', 'also', 'those', 'or', 'thru', 'except', 'toward', 'under', 'yet', 'before', 'own', 'per', 'became', 'always', 'alone', 'themselves', 'very', 'am', 'the', 'being', 'call', 'most', 'into', 'do', 'everything', 'never', 'same', 'mine', 'down', 'get', 'someone', 'both', 'him', 'these', 'towards', 'hence', 'i', 'here', 'among', 'fifteen', \"'s\", 'several', 'formerly', 'who', 'however', 'twelve', 'unless', 'whence', 'without', '‘re', 'empty', 'that', 'various', 'using', 'during', 'latter', 'just', 'together', 'next', 'first', 'used', 'below', 'say', 'if', 'why', 'this', 'be', 'wherever', 'you', 'yourself', 'top', 'thence', 'because', 'less', 'any', 'bottom', 'nobody', 'though', 'side', 'twenty', \"'d\", 'already', 'still', 'and', 'amongst', 'was', 'whither', 'every', \"'m\", 'itself', 'me', 'some', 'afterwards', 'no', 'over', 'will', '’s', 'has', \"'ll\", 'noone', 'meanwhile', 'to', 'hereafter', 'at', 'as', '‘m', 'moreover', 'with', 'almost', 'n‘t', 'anything', 'a', 'off', 'fifty', 'everywhere', 'give', 'elsewhere', 'our', 'go', 'make', 'seeming', 'thereupon', 'therefore', 'too', 'take', '‘d', 'after', 'become', 'against', 'besides', 'by', 'front', 'them', 'n’t', 'are', 'few', 'may', 'due', 'they', 'whereby', 'must', '‘ve', 'others', 'were', 'does', 'show', 'nowhere', 'across', 'anyhow', 'via', 'ever', 'my', 'beside', 'could', 'please', 'for', '’m', 'between', 'once', 'whatever', 'while', 'amount', 'everyone', 'she', 'ca', 'often', 'another', 'indeed']\n"
    }
   ],
   "source": [
    "# Loading the dataset \n",
    "data_dir = pathlib.Path('/home/lv11/Documents/ProyectosPython/sentimentAnalysis/train')\n",
    "nf = pd.read_csv(data_dir / 'tweetsDataset1.csv',skiprows=1,names=['Message','Target'])\n",
    "print(nf.head(20))\n",
    "\n",
    "nlp = English()\n",
    "stop_words = list(STOP_WORDS)\n",
    "print(stop_words)\n",
    "\n",
    "def spacy_tokenizer(sentence):\n",
    "    tokens = nlp(sentence)\n",
    "    tokens = [ word.lemma_.lower().strip() if word.lemma_ != '-PRON-' else word.lower_ for word in tokens ]\n",
    "    tokens = [ word for word in tokens if word not in stop_words and word not in punctuation ]\n",
    "    return tokens"
   ]
  },
  {
   "cell_type": "code",
   "execution_count": 24,
   "metadata": {
    "tags": [
     "outputPrepend"
    ]
   },
   "outputs": [
    {
     "output_type": "stream",
     "name": "stdout",
     "text": "3353, 'abeg': 1609, 'inspiring': 2894, 'visit': 4389, 'Luxor': 865, 'city': 2064, 'Egypt': 460, 'pleas': 3524, 'computer': 2118, 'failed': 2473, 'Even': 474, 'UE4': 1461, 'tr': 4251, 'confining': 2127, 'zoos': 4564, 'Beetle': 261, 'joins': 2959, 'Wall': 1522, 'gigs': 2645, 'rusty': 3759, 'Haven': 644, 'played': 3520, 'kept': 2997, 'crocodile': 2182, 'iris': 2917, 'missions': 3251, 'heroic': 2783, 'dungeons': 2353, 'japanese': 2938, 'Pixel': 1105, 'germany': 2636, 'authority': 1784, 'countries': 2161, 'Okey': 1035, 'Megan': 917, 'jittery': 2954, 'caffeine': 1974, 'cad': 1971, 'Quebec': 1138, 'taxes': 4150, 'DIGITAL': 396, 'MONSTERS': 884, 'WANT': 1501, 'WORK': 1513, 'BLACKPINK': 229, 'IT': 693, 'HAPPEN': 608, 'READING': 1142, 'HOPE': 623, 'SOMETHING': 1221, 'GREAT': 552, 'HAPPENS': 609, 'bet': 1854, 'sided': 3902, 'Tim': 1423, 'Tams': 1383, 'surprisingly': 4102, 'alt': 1678, 'roar': 3736, 'droll': 2338, 'Fad': 502, 'titties': 4219, 'fantastic': 2486, 'Kissy': 789, 'offering': 3377, 'seat': 3815, 'Khilado': 779, 'kuch': 3031, 'shops': 3887, 'Mike': 934, 'Blessings': 281, 'Dammit': 408, 'effect': 2378, 'linearts': 3095, 'nicely': 3335, 'Claaaaaaaaaaaaasse': 355, 'Huhu': 682, 'lucky': 3147, 'CLXSSlC': 319, 'chanyeol': 2029, 'oppa': 3406, 'richard': 3721, 'Kalau': 765, 'jadi': 2934, 'sayang': 3790, 'gimana': 2646, 'thinks': 4193, 'tfp': 4169, 'soundwave': 3987, 'trapped': 4261, 'void': 4396, 'realm': 3653, 'AFL': 116, 'Anzac': 181, 'Tuesday': 1445, 'VERY': 1480, 'tradition': 4256, 'horrizion': 2819, 'zero': 4563, 'dawn': 2219, 'katsudon': 2986, 'Tokyo': 1427, 'Diner': 434, 'Tho': 1412, 'sadly': 3764, 'forbid': 2574, 'signing': 3907, 'Qian': 1137, 'Liu': 845, 'Jared': 728, 'Wright': 1565, 'performance': 3475, 'Onegin': 1040, 'saddest': 3763, 'ryan': 3760, 'intensionly': 2900, 'told': 4225, 'bugger': 1951, 'hung': 2835, 'waned': 4413, 'pc': 3464, 'phoned': 3489, 'Gran': 590, 'prince': 3573, 'baekhyun': 1803, 'throw': 4204, 'dungeon': 2352, 'drug': 2343, 'smoked': 3948, 'Rockys': 1193, 'Ouuuuu': 1054, 'jewels': 2946, 'pity': 3512, 'Those': 1414, 'noooo': 3351, 'Coldplay': 365, 'Depeche': 427, 'Mode': 947, 'U2': 1459, 'typing': 4301, 'applicablehulog': 1726, 'knock': 3022, 'AWAY': 137, 'Yay': 1579, 'raffle': 3627, 'steam': 4033, 'trade': 4255, 'link': 3099, 'pake': 3440, 'ich': 2852, 'ned': 3316, 'chibis': 2043, 'Long': 851, 'chat': 2034, 'tak': 4134, 'ambik': 1687, 'package': 3431, 'cause': 2011, 'aromaterapi': 1744, 'massage': 3183, 'je': 2939, 'hajxjsjsj': 2722, 'uuuu': 4354, 'jwa': 2976, 'People': 1091, 'quiet': 3621, 'recognised': 3659, 'contribution': 2145, 'fashion': 2489, 'blast': 1880, 'almo': 1672, 'Typed': 1457, 'medical': 3203, 'shorthand': 3890, 'abbreviation': 1608, 'quizzz': 3625, 'current': 2196, 'clubs': 2081, 'Shame': 1261, 'PL': 1060, 'Hiii': 663, 'Reece': 1173, 'ReeceBoast': 1174, 'keep_smiling_y': 2992, 'Company': 371, 'photoshoot': 3496, 'fabulous': 2467, 'photographer': 3493, 'determination': 2263, 'concrete': 2123, 'shoes': 3884, 'lipstick': 3101, 'hilang': 2791, '12h': 18, 'Bday': 253, 'sleeping': 3935, 'Beautiful': 256, 'buried': 1958, 'alive': 1667, 'screaming': 3805, 'mid': 3228, 'install': 2896, 'Waited': 1521, '3hrs': 74, 'pull': 3602, 'plug': 3532, 'meeting': 3208, 'OA': 1020, 'woyould': 4511, 'hahaha': 2716, 'Sakho': 1238, 'influencers': 2883, 'partnership': 3453, 'bloggers': 1889, 'Glasses': 571, 'figured': 2523, 'Demit': 426, 'gocoh': 2662, 'ones': 3397, 'Die': 433, 'raven': 3642, 'posted': 3557, 'outside': 3421, 'stuck': 4063, 'Update': 1476, 'dame': 2209, 'decides': 2233, 'crash': 2168, 'RELATABLE': 1144, 'pussy': 3610, 'creepz_x': 2175, 'Need': 994, 'Ouchhhhh': 1052, 'improving': 2876, 'nicest': 3336, 'dude': 2348, 'BES': 224, 'RIP': 1151, 'Riverdale': 1186, 'silly': 3912, 'Sir': 1279, 'Rob': 1188, 'torture': 4240, 'Noted': 1015, 'Yeesh': 1583, 'fairly': 2475, 'warm': 4419, 'basketball': 1816, 'theyre': 4187, 'restrict': 3703, 'Threw': 1416, 'Aled': 157, 'hyped': 2846, 'snap': 3949, 'retweeting': 3711, 'heard': 2766, 'legitimate': 3070, 'VPN': 1486, 'rig': 3725, 'gray': 2691, 'hakyeon': 2723, 'turns': 4288, 'Kesh': 777, 'MzKeshNJ': 969, 'Mrs': 959, 'King': 786, 'Check': 345, 'classroom': 2070, 'shape': 3866, 'Lots': 857, 'math': 3190, 'Bring': 295, 'ginger': 2648, 'curls': 2195, 'Errr': 472, 'Asked': 196, 'league': 3061, 'memeber': 3211, 'table': 4130, 'graceful': 2685, 'ballerina': 1806, 'gliding': 2659, 'tables': 4131, 'flash': 2548, 'dancer': 2212, 'Stefan': 1320, 'confident': 2126, 'isolated': 2923, 'Broadcaster': 297, 'Fly': 524, 'Away': 210, 'friendly': 2598, 'movie': 3285, 'television': 4157, 'trash': 4262, 'AN': 123, 'MayWard': 911, 'Fam': 504, 'bot': 1913, 'cheering': 2042, 'congratyoulations': 2132, 'Been': 260, 'fifa': 2519, 'younboxing': 4543, 'extended': 2461, 'ahh': 1655, 'Girl': 569, 'dorky': 2318, 'playing': 3522, 'deleted': 2241, 'album': 1664, 'greatest': 2693, 'unsung': 4329, 'guitar': 2706, 'genius': 2632, 'met': 3224, 'backstage': 1799, 'south': 3989, 'Sure': 1339, 'GOG': 548, 'minmin': 3241, 'mon': 3265, 'Tweeps': 1450, 'julia': 2969, 'pleasee': 3527, 'protect': 3595, 'layer': 3056, 'fat': 2491, 'usually': 4352, 'speedboat': 3997, 'behind': 1843, 'river': 3732, 'FAMOUS': 486, 'facebook': 2469, 'rain': 3629, '26': 55, 'sooooo': 3978, 'sleepy': 3937, 'alcohol': 1665, 'Swanmen': 1345, 'setting': 3854, 'Pablo': 1074, 'unfortunate': 4319, 'spin': 4002, 'attempts': 1777, 'photography': 3494, 'Passer': 1086, 'domesticus': 2305, 'surprising': 4101, 'pretending': 3569, 'falling': 2478, 'allow': 1669, 'meds': 3204, 'Robert': 1189, 'Rolih': 1194, 'coastal': 2086, 'Reply': 1178, 'nailed': 3305, 'Brought': 298, 'tears': 4155, 'eyes': 2465, 'Jack': 719, 'toys': 4250, 'Sweep': 1348, 'puppet': 3604, 'bastard': 1817, 'squeak': 4014, 'busy': 1962, 'FAT': 487, 'ASS': 131, 'GIRL': 543, 'FETISH760': 489, 'HOT': 624, 'VIDEOS': 1482, 'ONLINE': 1023, 'ngam': 3332, 'cadet': 1972, 'pilot': 3505, 'shoyould': 3898, 'byout': 1968, 'yoyoure': 4558, 'stores': 4043, 'Nathan': 989, 'Ash': 193, 'Ketchum': 778, 'Princess': 1129, 'Ready': 1168, 'chocolate': 2051, 'female': 2513, 'Harlowe': 639, 'Sterling': 1321, 'Jones': 741, 'unfollowing': 4318, 'bye': 1967, 'six': 3927, 'pack': 3430, '4c': 87, 'valid': 4358, 'slept': 3938, 'Mmmmm': 945, 'acting': 1631, 'naked': 3306, 'got7': 2681, 'supports': 4096, 'Such': 1331, 'slave': 3933, 'Notice': 1017, 'unusual': 4333, 'Frooty': 537, 'Julie': 750, 'Evet': 480, 'customer': 2197, 'Marilyn': 908, 'pops': 3546, 'dirty': 2286, 'Cum': 388, 'Wht': 1548, 'sort': 3982, 'suffering': 4082, 'ths': 4206, 'bank': 1809, 'doubt': 2319, 'Take': 1382, 'io': 2915, 'Merry': 926, 'Christmas': 352, 'seminar': 3838, 'Palestine': 1078, 'beloved': 1848, 'LOVE': 816, 'MAN': 869, 'completely': 2115, 'tho': 4197, 'alone': 1674, 'vhope': 4375, 'banners': 1811, 'gathering': 2626, 'Hahaa': 631, 'iconic': 2853, 'stripes': 4058, 'turtleneck': 4289, 'voice': 4395, 'Louis': 858, 'lately': 3046, 'shameful': 3864, 'Stop': 1324, 'giant': 2642, 'corporations': 2154, 'foods': 2571, 'plea': 3523, 'PixelSavage': 1106, 'Pixel_Savage_Yo': 1107, 'Ummm': 1469, 'announced': 1703, 'Buffalo': 301, 'opener': 3402, 'costumes': 2158, 'asking': 1758, 'choke': 2054, 'Whaddup': 1541, 'enlisting': 2405, 'Sunnyside': 1335, 'nimesh': 3342, 'bronchitis': 1935, 'regarding': 3670, 'switched': 4120, 'jeez': 2942, 'crack': 2166, 'Celtics': 338, 'Bruins': 299, 'At': 199, 'Sale': 1239, 'pitching': 3511, 'Sox': 1300, 'opera': 3404, 'Nirjhor': 1005, 'claiming': 2066, 'Rosi': 1198, 'Seventeen': 1259, 'Yokohama': 1590, 'Concert': 372, 'English': 465, 'subs': 4073, 'DDL': 395, 'koh': 3027, '157': 26, 'dat': 2216, 'Tharakaram': 1398, 'accepted': 1622, 'Oo': 1043, 'Happy3YearsBraceUnited': 638, 'crisp': 2179, 'laurie': 3054, 'penny': 3469, 'whaaaaaaaat': 4449, 'tulips': 4280, 'staying': 4030, 'SA': 1209, 'student': 4064, 'myswlf': 3302, 'Shaandaar': 1260, '2010': 42, 'Week': 1532, 'mouse': 3281, 'moral': 3273, 'grounds': 2699, 'verdict': 4368, 'favor': 2494, 'PTI': 1073, 'becoz': 1837, 'judges': 2967, 'clearly': 2074, 'patches': 3459, 'dusty': 2355, 'dirt': 2285, 'million': 3233, 'dropping': 2342, 'bombs': 1901, 'expe': 2451, 'tipper': 4217, 'lorry': 3129, 'val': 4357, 'reggie': 3671, 'screentime': 3809, 'riverdale': 3733, 'wouldn': 4508, 'Should': 1272, 'Farnell': 506, 'Fursday': 540, 'Tax': 1386, 'Pounds': 1120, 'headphones': 2761, 'kms': 3017, '71': 98, '100m': 11, 'Weare': 1529, 'Read': 1167, 'appropriate': 1734, 'fight': 2520, 'hassle': 2744, 'senior': 3841, 'snaps': 3951, 'senti': 3846, 'delivering': 2245, 'Conservative': 376, 'stable': 4015, 'leadership': 3060, 'si': 3900, 'small': 3943, 'Gardens': 560, 'obvious': 3370, 'gorgeous': 2678, 'nail': 3304, 'polishes': 3540, 'Aren': 188, 'sketches': 3928, 'ohh': 3382, 'normally': 3354, 'cups': 2193, 'fansign': 2484, 'constantly': 2138, 'massaging': 3184, 'Clearly': 358, 'pretended': 3568, 'Vive': 1496, 'tracker': 4254, 'office': 3378, 'intern': 2903, 'Currently': 389, 'standing': 4019, 'shard': 3867, 'bag': 1804, 'bottles': 1915, 'tom': 4227, 'goosebumps': 2677, 'Slayin_Bodies': 1282, 'Live': 846, 'Tune': 1447, 'flooring': 2555, 'range': 3635, 'Tara': 1384, 'Allah': 160, 'ease': 2363, 'Lot': 856, 'Him': 664, 'comfortable': 2100, 'fansnim': 2485, 'changing': 2028, 'settings': 3855, 'india': 2881, 'knee': 3018, 'similar': 3914, 'colour': 2095, 'leny': 3073, 'Henry': 654, 'volunteer': 4397, 'Abbeydale': 139, 'Picture': 1100, 'House': 678, 'Used': 1478, 'Laugharne': 824, 'Weekend': 1533, 'fi': 2516, 'Carmarthenshire': 335, 'towns': 4248, 'Hobart': 671, 'Something': 1291, 'hot': 2822, 'Lynn': 866, 'A7atein': 112, 'A7a': 111, 'Isn': 710, 'Enough': 467, 'excuse': 2446, 'nama': 3307, 'NEED': 972, 'UNICORN': 1464, 'FRAPPUCCINO': 498, 'STAT': 1225, 'JUST': 717, 'FOUND': 497, 'OUT': 1026, 'THEY': 1363, 'LIMITED': 809, 'TIMEE': 1367, 'Che': 344, 'critiques': 2181, 'truuuu': 4276, 'reaper': 3654, 'grabe': 2684, 'nila': 3341, 'Jem': 729, 'Dark': 416, 'Star': 1309, 'Orianna': 1050, 'splash': 4004, 'assistance': 1766, 'Alex': 158, 'DRAGON': 401, 'MORE': 886, 'groove': 2697, 'tune': 4285, 'Thinking': 1410, 'Rewind': 1181, 'Charge': 341, 'muna': 3292, 'pies': 3504, 'freaking': 2590, 'TypingCure': 1458, 'Ahhhhh': 152, 'recognized': 3661, 'LOGAN': 811, 'Cinemax': 354, 'shows': 3897, 'BAD': 214, 'track': 4253, 'record': 3663, 'cancelled': 1992, 'Gentleman': 565, 'Commander': 368, 'Bryannousaurus': 300, 'Byron': 308, 'Levi': 836, 'country': 2162, 'Ravel': 1164, 'Morrison': 956, 'aando': 1606, 'uandhappy': 4302, 'googled': 2676, 'meandu': 3199, 'agaiand': 1648, 'hoax': 2801, 'ATBB': 133, 'Srk': 1307, 'movies': 3286, 'kil': 3004, 'moved': 3283, 'denied': 2248, 'friendlies': 2597, 'destination': 2259, 'overdramatic': 3425, 'Jabee': 718, '70rts': 97, 'minecraft': 3239, 'origin': 3412, 'randomly': 3634, 'retw': 3707, 'whats': 4452, 'Joo': 744, 'Thankfully': 1395, 'chop': 2055, 'Biggest': 273, 'paper': 3444, 'tum': 4281, '20yrs': 46, 'alright': 1676, 'attending': 1780, 'cosmic': 2156, 'latte': 3048, 'saturday': 3783, 'selu': 3836, 'shippers': 3877, 'KASI': 755, 'SELU': 1213, 'MONTH': 885, 'QAQO': 1136, 'nct': 3313, 'fangirl': 2482, 'buffalo': 1949, 'inspo': 2895, 'sale': 3772, 'station': 4027, 'Surely': 1340, 'combination': 2096, '0xx': 6, 'x938': 4521, 'fresh': 2593, 'totally': 4242, 'Alright': 163, 'chores': 2058, 'scenes': 3797, 'hits': 2799, '1K': 36, 'daily': 2208, 'study': 4068, 'uplifting': 4340, 'engrossed': 2401, 'door': 2315, 'pencil': 3466, 'dafaqcomonI': 2206, 'drawer': 2325, 'Bc': 252, 'MUZ': 888, 'duet': 2350, 'Amaal': 166, 'Petite': 1093, 'Yuri': 1600, 'suuuuuuuuss': 4108, 'Clay': 356, 'FL': 492, 'Done': 442, 'Inspired': 703, 'Hopyou': 677, 'dinneeeer': 2280, 'quote': 3626, 'calligraphy': 1981, 'ifb': 2859, 'fl': 2547, 'genres': 2634, 'RTs': 1156, 'sight': 3903, 'high': 2788, 'Europe': 473, 'spoons': 4008, 'messy': 3223, 'yours': 4549, 'Jackson': 721, 'aww': 1794, 'kitchen': 3016, 'experiments': 2456, 'career': 2002, 'sun': 4088, 'shining': 3876, 'eunji': 2421, 'congratulations': 2130, 'thesis': 4185, 'VIDEO': 1481, 'Stream': 1327, 'Montage': 952, 'unboxed': 4308, 'Spectrum': 1301, 'Knife': 790, 'yang': 4529, 'manja': 3174, 'sangat': 3780, 'edit': 2372, 'editing': 2373, 'software': 3960, 'ranks': 3637, 'rise': 3731, 'tmr': 4220, 'hobby': 2802, 'finding': 2531, 'negative': 3321, 'Maayos': 892, 'ang': 1695, 'lahat': 3037, 'Naila': 986, 'Raheem': 1158, 'Whew': 1545, 'TF': 1356, 'colorful': 2094, 'starbucks': 4020, 'lolo': 3120, 'bin': 1867, 'mental': 3216, 'Carlo': 334, 'nmn': 3343, 'Howdy': 680, 'flawed': 2551, 'opinion': 3405, 'health': 2763, 'wasnt': 4424, 'ano': 1705, 'bunny': 1957, 'pics': 3500, 'Pizza': 1108, 'Taiwan': 1381, 'swift': 4119, 'chillin': 2050, 'tough': 4245, 'areas': 1738, 'Paris': 1083, 'marked': 3180, 'Google': 583, 'maps': 3178, 'Nooo': 1011, 'olive': 3391, 'juice': 2968, 'impressed': 2873, 'musical': 3295, 'mojo': 3261, 'mountain': 3280, 'dew': 2268, 'cans': 1994, 'caffeinated': 1973, 'goal': 2661, '27m': 58, 'accomplish': 1625, 'harry': 2741, 'phonecase': 3488, 'hyoug': 2844, 'secs': 3819, 'Hyoug': 683, 'Golly': 578, 'gosh': 2679, 'simply': 3915, 'dreadful': 2327, 'havoc': 2753, 'must': 3296, 'wreaking': 4512, 'subsurface': 4074, 'Black': 280, 'salve': 3774, 'tats': 4146, 'aus': 1783, 'alisha': 1666, 'hottest': 2823, 'Reasons': 1171, 'producers': 3582, 'youth': 4552, '13RW': 21, 'audience': 1782, 'graphic': 2689, 'rape': 3638, 'suicide': 4084, 'copy': 2153, 'iOS': 2847, 'NMD': 975, 'R2': 1141, 'anniv': 1700, 'ming': 3240, 'papi': 3446, 'trashing': 4263, 'possee': 3551, 'boosts': 1907, 'ego': 2381, 'wings': 4469, 'hacks': 2712, 'TRYING': 1374, 'DUMB': 404, 'LIFE': 806, 'HACKS': 602, 'Prepare': 1125, 'inspired': 2893, 'Help': 653, 'endless': 2396, 'Save': 1244, 'backup': 1800, 'singers': 3919, 'pit': 3510, 'unhappiness': 4321, 'shocking': 3882, 'fiction': 2517, 'PR': 1067, 'knob': 3021, 'writes': 4516, 'sentence': 3844, 'fragments': 2588, 'iPad': 2848, 'Shoreditch': 1271, 'Ross': 1199, 'Chaplin': 340, 'MasonCooper4': 909, 'Hopefully': 676, 'OK': 1021, 'Charts': 343, 'depends': 2250, 'tides': 4211, 'directions': 2284, 'quintly': 3622, 'trial': 4267, 'Noah': 1009, 'skyranch': 3932, 'popping': 3545, 'Green': 592, 'Room': 1195, 'Sat': 1242, 'system': 4129, 'recognize': 3660, 'spaces': 3991, 'unable': 4307, 'forced': 2575, 'unnecessary': 4326, 'lines': 3097, 'sunburight': 4089, 'nobby': 3346, 'glasses': 2658, 'jinyoung': 2952, 'wipe': 4475, 'jaebum': 2935, 'precious': 3564, 'son': 3972, 'blocks': 1888, 'witness': 4481, 'interview': 2909, 'poppin': 3544, 'Bambam': 242, 'talks': 4141, 'red': 3666, 'velvet': 4364, 'killin': 3007, 'satans': 3781, 'taylynnox': 4151, 'WHY': 1508, 'WHIMPER': 1506, 'AT': 132, 'Worship': 1562, 'spoil': 4005, 'AHAHA': 117, 'Victoria': 1492, 'Wood': 1560, 'heaven': 2770, 'miserable': 3245, 'vulnerable': 4402, 'Josh': 745, 'Adam': 143, 'Close': 361, '3I': 71, 'Morgan': 954, 'Freeman': 532, 'sections': 3821, 'ride': 3723, 'netherton': 3325, 'Darby': 415, 'creeping': 2173, 'plus': 3533, 'Merc': 924, 'C63': 309, 'Sooo': 1294, 'type': 4300, 'aa': 1604, 'jao': 2937, 'David': 417, 'Jessica': 732, 'havin': 2751, 'Kylie': 798, 'advice': 1643, 'Blogging': 282, 'semester': 3837, 'vent': 4365, 'notifying': 3363, 'accordingly': 1626, 'voted': 4399, 'Wolf': 1557, 'Bite': 279, 'Greenlight': 593, 'Wolfie': 1558, 'Pigs': 1104, 'Yen': 1584, 'signings': 3908, 'role': 3740, 'model': 3259, 'Gorbachev': 584, 'fear': 2501, 'Thought': 1415, 'bold': 1899, 'implement': 2869, 'vision': 4387, 'Damp': 411, 'Squib': 1306, 'ABC': 113, 'ahold': 1657, 'seconds': 3817, 'transgender': 4259, 'Astaga': 198, 'Had': 629, 'taping': 4144, 'Mainit': 900, 'Pawisan': 1088, 'Dirty': 436, 'talaga': 4138, 'cooperative': 2152, 'groupmates': 2701, 'Cheers': 346, 'rumors': 3754, 'performances': 3476, 'streaminuteg': 4053, 'understanding': 4311, 'surrounds': 4103, 'recovery': 3664, 'ikr': 2865, 'trauma': 4264, 'ware': 4418, 'granted': 2688, 'eversince': 2429, '527': 92, 'Wanna': 1523, 'haircut': 2719, 'Kana': 766, 'Kanji': 767, 'Funtime': 539, 'Sadly': 1234, 'fixing': 2546, 'choristers': 2059, 'hem': 2779, 'undone': 4312, 'fabric': 2466, 'tape': 4143, 'uber': 4303, 'wild': 4466, 'Tuesdays': 1446, 'Jae': 723, 'Sheena': 1266, 'Easton': 459, 'triumphant': 4270, '42nd': 81, 'Street': 1329, 'End': 463, '91': 107, 'favour': 2497, 'unelectable': 4313, 'Corbyn': 379, 'guest': 2704, 'podcast': 3536, 'Everyone': 478, 'punched': 3603, 'Mekisha': 918, 'goodbye': 2671, 'Bluey': 283, 'xBlueys': 4522, 'certificate': 2017, 'signed': 3906, 'God': 575, 'YES': 1573, 'Neil': 995, 'Gaiman': 556, 'hang': 2729, 'Ruby': 1204, 'rehomed': 3672, 'consider': 2136, 'rescue': 3693, 'DON': 399, 'KNOW': 760, 'WHERE': 1504, 'WAS': 1502, 'TIME': 1366, 'HAVE': 611, 'RETWEETED': 1146, 'VE': 1479, 'BEEN': 222, 'WAITING': 1499, 'Five': 522, 'Below': 265, 'protective': 3596, 'bucks': 1947, 'happensould': 2735, 'Jin': 734, 'US': 1466, 'Mack': 894, 'Macktimus': 895, 'bloody': 1893, 'proud': 3597, 'considered': 2137, 'promise': 3590, 'HAHAHAHA': 606, 'Every': 477, 'Meredith': 925, 'flashbacks': 2549, 'Derek': 428, 'Shepherd': 1267, 'hold': 2804, 'sustained': 4106, 'fame': 2479, 'BEAUTIFUL': 220, 'PRINCESS': 1070, 'HELP': 614, 'Yolandi': 1591, 'Makes': 902, 'SeaWorld': 1249, 'eye': 2464, 'Eyounji': 484, 'Missing': 943, 'Seaside': 1250, 'Ishwar': 709, 'Roshan': 1197, 'trop': 4272, 'retard': 3704, 'Bill': 274, 'Nye': 1019, 'Answers': 180, 'Science': 1247, 'Questions': 1140, 'WIRED': 1511, 'Time': 1424, 'flies': 2553, 'Wrote': 1566, 'callie': 1980, 'gabbie': 2620, 'ghost': 2641, 'Westhoughton': 1539, 'AS': 129, 'Finn': 520, 'Harries': 640, 'embarrass': 2388, 'cried': 2177, 'Silver': 1276, 'Opening': 1047, 'sentences': 3845, '22': 48, 'blackmailed': 1879, 'chair': 2020, 'shamed': 3863, 'pu': 3601, 'Haay': 628, 'bus': 1960, 'Bangsar': 244, 'heading': 2760, 'Awan': 209, 'Besar': 267, 'cringed': 2178, 'shame': 3862, 'Ye': 1580, 'Joy': 748, 'unfair': 4314, 'sending': 3840, 'sob': 3956, 'needwe': 3320, 'flip': 2554, 'scr': 3802, 'Washington': 1525, 'owner': 3428, 'process': 3580, 'frustrating': 2606, 'Many': 905, 'fm': 2562, 'unlinks': 4324, 'spotify': 4011, 'scrobbles': 3811, 'assassin': 1762, 'shower': 3895, 'gel': 2629, 'included': 2880, 'nhc': 3333, 'scrapbook': 3803, 'usern': 4349, 'else': 2384, 'hole': 2807, 'closer': 2077, 'con': 2119, 'five': 2542, 'Lol': 849, 'chaged': 2019, 'Singto': 1278, 'TUNA': 1375, 'messed': 3222, 'Available': 205, 'Tony': 1430, 'christensen': 2061, 'notch': 3358, 'belt': 1850, 'MAJA': 867, 'SALVADOR': 1210, 'Congratulation': 374, 'Annoyingly': 178, 'variable': 4359, 'width': 4464, 'version': 4371, 'C64': 310, 'font': 2569, 'Hitches': 668, 'Ride': 1183, 'Final': 517, 'D2': 393, 'largely': 3043, 'SD': 1212, 'newer': 3329, 'versions': 4372, 'Mac': 893, 'OS': 1025, 'HD': 612, 'woul': 4506, 'Bae': 241, 'yummy': 4560, 'unfollowed': 4316, 'Gott': 586, 'youu': 4554, 'doors': 2316, 'ADMINISTRATION': 115, 'HER': 615, 'THERE': 1361, 'THAT': 1359, 'NIGHT': 974, 'Famfrit': 505, 'keeping': 2993, 'calm': 1983, 'insight': 2890, 'survived': 4104, 'hadn': 2714, 'meddling': 3201, 'clouds': 2079, 'delete': 2240, 'religious': 3681, 'calling': 1982, 'sexism': 3860, 'spell': 3998, 'stand': 4018, 'delivered': 2244, 'Managing': 904, 'Online': 1041, 'Customer': 391, 'Journey': 747, 'keynote': 2998, 'Autodesk': 203, 'Partner': 1085, 'Event': 475, 'Incredible': 700, 'oki': 3386, 'sam': 3775, 'aegyo': 1644, 'hindi': 2794, 'jin': 2951, 'men': 3215, 'indirect': 2882, 'kray': 3029, 'denial': 2247, 'bi': 1858, 'cheeky': 2040, 'twitch': 4296, 'orientation': 3411, 'Argentina': 189, 'paperwork': 3445, 'GIVING': 545, 'THESE': 1362, 'SOUVENIRS': 1223, 'LUCKY': 818, 'WINNERS': 1510, 'RTRolling': 1155, 'winners': 4472, '48': 86, 'charged': 2032, 'TEN': 1354, 'Power': 1121, 'Rangers': 1162, 'kaswa': 2985, 'memoriam': 3213, 'Alea': 156, 'Starbridge': 1312, 'forgotten': 2580, 'purple': 3609, 'flowercrown': 2558, 'display': 2293, 'American': 169, 'cultists': 2191}\n"
    }
   ],
   "source": [
    "vectorizer = CountVectorizer(min_df=0, lowercase=False)\n",
    "vectorizer.fit(nf['Message'])\n",
    "print(vectorizer.vocabulary_)\n",
    "\n",
    "vectorizer.transform(nf['Message']).toarray()\n",
    "\n",
    "messages = nf['Message']\n",
    "labels = nf['Target']"
   ]
  },
  {
   "cell_type": "code",
   "execution_count": 33,
   "metadata": {},
   "outputs": [
    {
     "output_type": "execute_result",
     "data": {
      "text/plain": "1727"
     },
     "metadata": {},
     "execution_count": 33
    }
   ],
   "source": [
    "x_train, x_test, y_train, y_test = train_test_split(messages,labels,test_size=0.25,random_state=1000,shuffle=True)\n",
    "\n",
    "len(x_train)"
   ]
  },
  {
   "cell_type": "code",
   "execution_count": 26,
   "metadata": {
    "tags": []
   },
   "outputs": [
    {
     "output_type": "stream",
     "name": "stdout",
     "text": "[[0 0 0 ... 0 0 0]\n [0 0 0 ... 0 0 0]\n [0 0 0 ... 0 0 0]\n ...\n [0 0 0 ... 0 0 0]\n [0 0 0 ... 0 0 0]\n [0 0 0 ... 0 0 0]]\n[[0 0 0 ... 0 0 0]\n [0 0 0 ... 0 0 0]\n [0 0 0 ... 0 0 0]\n ...\n [0 0 0 ... 0 0 0]\n [0 0 0 ... 0 0 0]\n [0 0 0 ... 0 0 0]]\n"
    }
   ],
   "source": [
    "vectorizer.fit(x_train)\n",
    "X_train = vectorizer.transform(x_train).toarray()\n",
    "X_test = vectorizer.transform(x_test).toarray()\n",
    "\n",
    "print(X_train)\n",
    "print(X_test)"
   ]
  },
  {
   "cell_type": "code",
   "execution_count": 34,
   "metadata": {},
   "outputs": [],
   "source": [
    "features = 1727\n",
    "shufle = True\n",
    "drop = 0.5\n",
    "layer1 = 512\n",
    "layer2 = 256\n",
    "epoch = 5\n",
    "lr = 0.002\n",
    "epsilon = None\n",
    "validation = 0.1"
   ]
  },
  {
   "cell_type": "code",
   "execution_count": 35,
   "metadata": {},
   "outputs": [],
   "source": [
    "model = Sequential()\n",
    "model.add(layers.Dense(layer1, input_dim=features,activation='relu'))\n",
    "model.add(layers.Dropout(drop))\n",
    "model.add(layers.Dense(layer2,activation='sigmoid'))\n",
    "model.add(layers.Dropout(drop))\n",
    "model.add(layers.Dense(3,activation='softmax'))"
   ]
  },
  {
   "cell_type": "code",
   "execution_count": 36,
   "metadata": {},
   "outputs": [],
   "source": [
    "optimizer = keras.optimizers.Adam(lr=lr, beta_1=0.9, beta_2=0.999, epsilon=epsilon,decay=0.0,amsgrad=False)"
   ]
  },
  {
   "cell_type": "code",
   "execution_count": 37,
   "metadata": {
    "tags": []
   },
   "outputs": [
    {
     "output_type": "stream",
     "name": "stdout",
     "text": "Model: \"sequential_4\"\n_________________________________________________________________\nLayer (type)                 Output Shape              Param #   \n=================================================================\ndense_6 (Dense)              (None, 512)               884736    \n_________________________________________________________________\ndropout_3 (Dropout)          (None, 512)               0         \n_________________________________________________________________\ndense_7 (Dense)              (None, 256)               131328    \n_________________________________________________________________\ndropout_4 (Dropout)          (None, 256)               0         \n_________________________________________________________________\ndense_8 (Dense)              (None, 3)                 771       \n=================================================================\nTotal params: 1,016,835\nTrainable params: 1,016,835\nNon-trainable params: 0\n_________________________________________________________________\n"
    }
   ],
   "source": [
    "model.compile(loss='sparse_categorical_crossentropy',optimizer=optimizer,metrics=['accuracy'])\n",
    "model.summary()"
   ]
  },
  {
   "cell_type": "code",
   "execution_count": 38,
   "metadata": {},
   "outputs": [
    {
     "output_type": "error",
     "ename": "ValueError",
     "evalue": "Error when checking input: expected dense_6_input to have shape (1727,) but got array with shape (3749,)",
     "traceback": [
      "\u001b[0;31m---------------------------------------------------------------------------\u001b[0m",
      "\u001b[0;31mValueError\u001b[0m                                Traceback (most recent call last)",
      "\u001b[0;32m<ipython-input-38-a67d21796701>\u001b[0m in \u001b[0;36m<module>\u001b[0;34m\u001b[0m\n\u001b[0;32m----> 1\u001b[0;31m \u001b[0mmodel\u001b[0m\u001b[0;34m.\u001b[0m\u001b[0mfit\u001b[0m\u001b[0;34m(\u001b[0m\u001b[0mnp\u001b[0m\u001b[0;34m.\u001b[0m\u001b[0marray\u001b[0m\u001b[0;34m(\u001b[0m\u001b[0mX_train\u001b[0m\u001b[0;34m)\u001b[0m\u001b[0;34m,\u001b[0m\u001b[0my_train\u001b[0m\u001b[0;34m,\u001b[0m\u001b[0mbatch_size\u001b[0m\u001b[0;34m=\u001b[0m\u001b[0;36m32\u001b[0m\u001b[0;34m,\u001b[0m\u001b[0mepochs\u001b[0m\u001b[0;34m=\u001b[0m\u001b[0mepoch\u001b[0m\u001b[0;34m,\u001b[0m\u001b[0mverbose\u001b[0m\u001b[0;34m=\u001b[0m\u001b[0;36m1\u001b[0m\u001b[0;34m,\u001b[0m\u001b[0mvalidation_split\u001b[0m\u001b[0;34m=\u001b[0m\u001b[0mvalidation\u001b[0m\u001b[0;34m,\u001b[0m\u001b[0mshuffle\u001b[0m\u001b[0;34m=\u001b[0m\u001b[0mshufle\u001b[0m\u001b[0;34m)\u001b[0m\u001b[0;34m\u001b[0m\u001b[0;34m\u001b[0m\u001b[0m\n\u001b[0m",
      "\u001b[0;32m~/conda-env/lib/python3.6/site-packages/keras/engine/training.py\u001b[0m in \u001b[0;36mfit\u001b[0;34m(self, x, y, batch_size, epochs, verbose, callbacks, validation_split, validation_data, shuffle, class_weight, sample_weight, initial_epoch, steps_per_epoch, validation_steps, validation_freq, max_queue_size, workers, use_multiprocessing, **kwargs)\u001b[0m\n\u001b[1;32m   1152\u001b[0m             \u001b[0msample_weight\u001b[0m\u001b[0;34m=\u001b[0m\u001b[0msample_weight\u001b[0m\u001b[0;34m,\u001b[0m\u001b[0;34m\u001b[0m\u001b[0;34m\u001b[0m\u001b[0m\n\u001b[1;32m   1153\u001b[0m             \u001b[0mclass_weight\u001b[0m\u001b[0;34m=\u001b[0m\u001b[0mclass_weight\u001b[0m\u001b[0;34m,\u001b[0m\u001b[0;34m\u001b[0m\u001b[0;34m\u001b[0m\u001b[0m\n\u001b[0;32m-> 1154\u001b[0;31m             batch_size=batch_size)\n\u001b[0m\u001b[1;32m   1155\u001b[0m \u001b[0;34m\u001b[0m\u001b[0m\n\u001b[1;32m   1156\u001b[0m         \u001b[0;31m# Prepare validation data.\u001b[0m\u001b[0;34m\u001b[0m\u001b[0;34m\u001b[0m\u001b[0;34m\u001b[0m\u001b[0m\n",
      "\u001b[0;32m~/conda-env/lib/python3.6/site-packages/keras/engine/training.py\u001b[0m in \u001b[0;36m_standardize_user_data\u001b[0;34m(self, x, y, sample_weight, class_weight, check_array_lengths, batch_size)\u001b[0m\n\u001b[1;32m    577\u001b[0m             \u001b[0mfeed_input_shapes\u001b[0m\u001b[0;34m,\u001b[0m\u001b[0;34m\u001b[0m\u001b[0;34m\u001b[0m\u001b[0m\n\u001b[1;32m    578\u001b[0m             \u001b[0mcheck_batch_axis\u001b[0m\u001b[0;34m=\u001b[0m\u001b[0;32mFalse\u001b[0m\u001b[0;34m,\u001b[0m  \u001b[0;31m# Don't enforce the batch size.\u001b[0m\u001b[0;34m\u001b[0m\u001b[0;34m\u001b[0m\u001b[0m\n\u001b[0;32m--> 579\u001b[0;31m             exception_prefix='input')\n\u001b[0m\u001b[1;32m    580\u001b[0m \u001b[0;34m\u001b[0m\u001b[0m\n\u001b[1;32m    581\u001b[0m         \u001b[0;32mif\u001b[0m \u001b[0my\u001b[0m \u001b[0;32mis\u001b[0m \u001b[0;32mnot\u001b[0m \u001b[0;32mNone\u001b[0m\u001b[0;34m:\u001b[0m\u001b[0;34m\u001b[0m\u001b[0;34m\u001b[0m\u001b[0m\n",
      "\u001b[0;32m~/conda-env/lib/python3.6/site-packages/keras/engine/training_utils.py\u001b[0m in \u001b[0;36mstandardize_input_data\u001b[0;34m(data, names, shapes, check_batch_axis, exception_prefix)\u001b[0m\n\u001b[1;32m    143\u001b[0m                             \u001b[0;34m': expected '\u001b[0m \u001b[0;34m+\u001b[0m \u001b[0mnames\u001b[0m\u001b[0;34m[\u001b[0m\u001b[0mi\u001b[0m\u001b[0;34m]\u001b[0m \u001b[0;34m+\u001b[0m \u001b[0;34m' to have shape '\u001b[0m \u001b[0;34m+\u001b[0m\u001b[0;34m\u001b[0m\u001b[0;34m\u001b[0m\u001b[0m\n\u001b[1;32m    144\u001b[0m                             \u001b[0mstr\u001b[0m\u001b[0;34m(\u001b[0m\u001b[0mshape\u001b[0m\u001b[0;34m)\u001b[0m \u001b[0;34m+\u001b[0m \u001b[0;34m' but got array with shape '\u001b[0m \u001b[0;34m+\u001b[0m\u001b[0;34m\u001b[0m\u001b[0;34m\u001b[0m\u001b[0m\n\u001b[0;32m--> 145\u001b[0;31m                             str(data_shape))\n\u001b[0m\u001b[1;32m    146\u001b[0m     \u001b[0;32mreturn\u001b[0m \u001b[0mdata\u001b[0m\u001b[0;34m\u001b[0m\u001b[0;34m\u001b[0m\u001b[0m\n\u001b[1;32m    147\u001b[0m \u001b[0;34m\u001b[0m\u001b[0m\n",
      "\u001b[0;31mValueError\u001b[0m: Error when checking input: expected dense_6_input to have shape (1727,) but got array with shape (3749,)"
     ]
    }
   ],
   "source": [
    "model.fit(np.array(X_train),y_train,batch_size=32,epochs=epoch,verbose=1,validation_split=validation,shuffle=shufle)"
   ]
  },
  {
   "cell_type": "code",
   "execution_count": null,
   "metadata": {},
   "outputs": [],
   "source": []
  }
 ]
}