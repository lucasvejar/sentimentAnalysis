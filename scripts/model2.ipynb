{
 "cells": [
  {
   "cell_type": "code",
   "execution_count": 2,
   "metadata": {},
   "outputs": [],
   "source": [
    "import numpy as np\n",
    "import pandas as pd\n",
    "import matplotlib.pyplot as plt\n",
    "import pathlib\n",
    "import spacy\n",
    "from spacy.lang.en import English\n",
    "from spacy.lang.en.stop_words import STOP_WORDS\n",
    "from string import punctuation\n",
    "from sklearn.feature_extraction.text import CountVectorizer\n",
    "from sklearn.model_selection import train_test_split\n",
    "from sklearn.linear_model import LogisticRegression"
   ]
  },
  {
   "cell_type": "code",
   "execution_count": 3,
   "metadata": {
    "tags": []
   },
   "outputs": [
    {
     "output_type": "stream",
     "name": "stdout",
     "text": "Message  Target\n0                                             Hi Guys       1\n1             it's just got 3 years longer unhappy          0\n2   Hey thanks for being top new followers this we...       1\n3                                 I know how you feel       0\n4                                          huh? happy       1\n5                             Didn't keep it unhappy        0\n6                                These are for  happy       1\n7   unhappy  how come people like this have childr...       0\n8                                  Bapak Tom Cruise.        0\n9   help me too unhappy  as an early birthday gift...       0\n10  Shoutout to for the donation. Looks like I'm s...       1\n11                             Good luck Swampy happy       1\n12  lets agree she put her brain on knees crying w...       1\n13                                         Nitpicking       1\n14                 unhappy  :/ unhappy   feeling sick       0\n15                      which is good for him happy.1       1\n16             now i don%27t want to go camp unhappy        0\n17  A nice morning working from today. Lovely atmo...       1\n18  Let's not forget that it's also Gabriel Tenma ...       0\n19             I love them with all my hort unhappy         0\n"
    }
   ],
   "source": [
    "# Loading the dataset \n",
    "data_dir = pathlib.Path('/home/lv11/Documents/ProyectosPython/sentimentAnalysis/train')\n",
    "nf = pd.read_csv(data_dir / 'tweetsDataset1.csv',skiprows=1,names=['Message','Target'])\n",
    "print(nf.head(20))"
   ]
  },
  {
   "cell_type": "code",
   "execution_count": 4,
   "metadata": {
    "tags": []
   },
   "outputs": [
    {
     "output_type": "stream",
     "name": "stdout",
     "text": "['beside', 'anyway', 'besides', 'whereby', 'therefore', 'meanwhile', 'perhaps', 'make', 'empty', 'really', 'whereupon', 'three', 'well', 'even', 'hers', 'on', 'onto', '’s', 'elsewhere', 'here', '’ve', 'after', 'than', 'thereafter', 'whereas', 'did', 'twenty', 'wherever', 'more', 'yours', 'were', '’re', '‘ve', 'to', 'this', \"'ll\", \"'d\", 'eleven', 'became', 'in', 'another', 'ourselves', 'throughout', 'whence', 'sixty', 'off', 'thru', 'seems', 'forty', 'seem', 'thereby', 'if', 'whither', 'fifteen', 'latter', 'yourselves', 'behind', 'top', 'fifty', 'one', 'most', 'yet', 'put', 'done', 'does', 'once', 'please', 'herself', 'sometimes', 'those', 'nobody', 'has', 'how', 'give', 'such', 'indeed', 'call', 'six', 'full', 'she', 'they', 'whenever', 'somewhere', 'twelve', 'much', 'whom', '‘s', 'however', 'so', 'thus', 'n‘t', 'therein', 'cannot', 'n’t', 'upon', 'why', '’d', 'as', 'by', 'themselves', 'doing', 'many', 'moreover', 'since', 'anyhow', 'itself', 'either', 'namely', 'towards', 'a', 'unless', 'amount', 'around', 'from', 'thereupon', 'although', 'also', 'nothing', 'every', 'along', 'otherwise', 'first', 'that', 'whatever', 'always', 'anyone', 'these', 'few', 'still', 'get', 'nine', 'never', 'now', 'but', 'say', 'serious', 'ten', '‘d', 'see', 'your', 'amongst', 'been', 'herein', 'whereafter', 'would', 'though', 'what', 'rather', 'an', 'yourself', 'four', 'per', 'each', 'due', 'across', 'none', 'are', 'about', 'back', 'same', 'we', 'wherein', 're', 'with', 'next', '’m', 'or', 'third', 'else', 'and', 'except', 'among', 'several', 'everything', 'thence', 'do', 'through', \"n't\", \"'m\", 'move', 'quite', 'be', 'eight', 'hereafter', 'must', 'my', 'our', 'within', \"'s\", 'something', 'him', 'two', 'into', 'less', 'i', 'me', 'too', 'afterwards', 'show', 'its', 'should', 'used', 'against', 'front', 'not', 'nowhere', 'ca', 'take', 'further', 'whose', 'will', 'his', 'enough', 'name', 'become', 'until', 'mostly', 'any', 'her', 'part', 'everyone', 'which', 'you', 'both', 'anywhere', 'is', 'ever', 'ours', 'very', 'again', 'between', 'regarding', 'seemed', 'while', 'whoever', 'somehow', 'over', 'during', 'various', 'keep', 'for', 'former', 'of', 'was', 'under', 'using', 'there', 'beforehand', \"'ve\", 'out', 'before', 'them', '’ll', 'other', 'via', 'up', 'then', 'latterly', 'can', 'hereupon', 'whether', 'already', 'being', 'might', 'someone', 'nor', 'own', 'sometime', 'everywhere', 'hence', 'go', 'just', 'himself', 'five', 'formerly', 'he', 'noone', 'becomes', 'above', 'often', 'toward', 'seeming', 'their', 'when', 'neither', 'nevertheless', '‘m', 'below', 'who', 'have', 'no', 'may', 'the', 'some', 'almost', 'had', 'becoming', 'hundred', 'us', 'where', 'together', 'bottom', 'because', 'least', 'could', 'side', 'hereby', \"'re\", 'down', 'last', 'only', 'whole', 'mine', 'alone', 'without', 'all', 'beyond', 'others', 'anything', 'it', '‘ll', 'made', '‘re', 'am', 'myself', 'at']\n"
    }
   ],
   "source": [
    "nlp = English()\n",
    "stop_words = list(STOP_WORDS)\n",
    "print(stop_words)"
   ]
  },
  {
   "cell_type": "code",
   "execution_count": 5,
   "metadata": {},
   "outputs": [],
   "source": [
    "def spacy_tokenizer(sentence):\n",
    "    tokens = nlp(sentence)\n",
    "    tokens = [ word.lemma_.lower().strip() if word.lemma_ != '-PRON-' else word.lower_ for word in tokens ]\n",
    "    tokens = [ word for word in tokens if word not in stop_words and word not in punctuation ]\n",
    "    return tokens"
   ]
  },
  {
   "cell_type": "code",
   "execution_count": 6,
   "metadata": {},
   "outputs": [
    {
     "output_type": "execute_result",
     "data": {
      "text/plain": "{'Hi': 660,\n 'Guys': 601,\n 'it': 2926,\n 'just': 2974,\n 'got': 2680,\n 'years': 4533,\n 'longer': 3123,\n 'unhappy': 4322,\n 'Hey': 659,\n 'thanks': 4172,\n 'for': 2573,\n 'being': 1844,\n 'top': 4237,\n 'new': 3328,\n 'followers': 2567,\n 'this': 4195,\n 'week': 4439,\n 'Much': 960,\n 'appreciated': 1733,\n 'happy': 2737,\n 'know': 3023,\n 'how': 2827,\n 'you': 4541,\n 'feel': 2505,\n 'huh': 2831,\n 'Didn': 432,\n 'keep': 2991,\n 'These': 1407,\n 'are': 1736,\n 'come': 2098,\n 'people': 3471,\n 'like': 3090,\n 'have': 2749,\n 'children': 2048,\n 'where': 4455,\n 'the': 4175,\n 'state': 4026,\n 'intervention': 2908,\n 'Bapak': 247,\n 'Tom': 1428,\n 'Cruise': 386,\n 'help': 2776,\n 'me': 3196,\n 'too': 4234,\n 'as': 1755,\n 'an': 1690,\n 'early': 2362,\n 'birthday': 1873,\n 'gift': 2644,\n 'huhu': 2832,\n 'Shoutout': 1273,\n 'to': 4221,\n 'donation': 2309,\n 'Looks': 854,\n 'streaming': 4052,\n 'some': 3963,\n 'Stanley': 1308,\n 'Parable': 1080,\n 'later': 3047,\n 'Good': 579,\n 'luck': 3145,\n 'Swampy': 1344,\n 'lets': 3079,\n 'agree': 1653,\n 'she': 3873,\n 'put': 3611,\n 'her': 2780,\n 'brain': 1924,\n 'on': 3394,\n 'knees': 3019,\n 'crying': 2187,\n 'with': 4478,\n 'joy': 2965,\n 'Nitpicking': 1006,\n 'feeling': 2506,\n 'sick': 3901,\n 'which': 4457,\n 'is': 2919,\n 'good': 2670,\n 'him': 2792,\n 'now': 3364,\n 'don': 2307,\n '27t': 59,\n 'want': 4414,\n 'go': 2660,\n 'camp': 1988,\n 'nice': 3334,\n 'morning': 3275,\n 'working': 4497,\n 'from': 2601,\n 'today': 4222,\n 'Lovely': 861,\n 'atmosphere': 1773,\n 'Let': 834,\n 'not': 3357,\n 'forget': 2578,\n 'that': 4173,\n 'also': 1677,\n 'Gabriel': 555,\n 'Tenma': 1393,\n 'White': 1546,\n 'miss': 3247,\n 'love': 3136,\n 'them': 4177,\n 'all': 1668,\n 'my': 3299,\n 'hort': 2820,\n 'Nick': 1003,\n 'Might': 933,\n 'he': 2756,\n 'deliver': 2243,\n 'WHEN': 1503,\n 'time': 4214,\n 'demands': 2246,\n 'Story': 1325,\n 'of': 3372,\n 'his': 2796,\n 'life': 3086,\n 'Offline': 1029,\n 'Autograph': 204,\n 'book': 1905,\n 'at': 1771,\n 'ready': 3648,\n 'still': 4034,\n 'strict': 4055,\n 'Welcome': 1534,\n 'DM': 397,\n 'us': 4345,\n 'but': 1963,\n 'what': 4450,\n 'camera': 1986,\n 'shooting': 3885,\n 'look': 3124,\n 'in': 2877,\n 'blue': 1894,\n 'Deep': 422,\n 'scratch': 3804,\n 'All': 159,\n 'paint': 3439,\n 'gone': 2669,\n 'see': 3823,\n 'bare': 1813,\n 'metal': 3225,\n 'So': 1285,\n 'needs': 3319,\n 'be': 1826,\n 'fixed': 2544,\n 'avoid': 1787,\n 'getting': 2640,\n 'rusting': 3758,\n 'car': 1999,\n 'soon': 3975,\n 'HAPPY': 610,\n 'BIRTHDAY': 227,\n 'To': 1425,\n 'cyoutest': 2203,\n 'fyounniest': 2619,\n 'Have': 643,\n 'day': 2220,\n 'Coreo': 380,\n 'Boreo': 288,\n 'An': 170,\n 'inspiration': 2892,\n 'aspects': 1759,\n 'Fashion': 507,\n 'Hello': 650,\n 'everyone': 2433,\n 'so': 3955,\n 'That': 1399,\n 'would': 4507,\n 'great': 2692,\n 'trick': 4268,\n 'friendzone': 2600,\n 'damn': 2211,\n 'sad': 3762,\n 'recent': 3658,\n 'follow': 2564,\n 'Want': 1524,\n 'Thanks': 1396,\n 'Happy': 637,\n 'connect': 2133,\n 'Thursday': 1421,\n 'mee': 3205,\n 'plss': 3531,\n 'Stats': 1316,\n 'arrived': 1748,\n 'follower': 2566,\n 'and': 1691,\n 'NO': 976,\n 'unfollowers': 4317,\n 'via': 4377,\n 'll': 3111,\n 'You': 1593,\n 'really': 3652,\n 'upsets': 4341,\n 'When': 1543,\n 'stranger': 4049,\n 'internet': 2904,\n 'isn': 2921,\n 'satisfied': 3782,\n 'entertainment': 2409,\n 'provide': 3599,\n 'was': 4422,\n 'mess': 3219,\n 'went': 4446,\n 'bed': 1838,\n 'numb': 3365,\n 'awful': 1793,\n 'wowwow': 4510,\n 'these': 4184,\n 'cute': 2200,\n 'wantt': 4417,\n 'Sixth': 1281,\n 'spot': 4010,\n 'applicable': 1724,\n 'Team': 1388,\n 'Higher': 662,\n 'pa': 3429,\n 'KISSES': 758,\n 'TheFashionIcon': 1402,\n 'Little': 844,\n 'things': 4190,\n 'when': 4454,\n 'sleep': 3934,\n 'starts': 4025,\n 'hitting': 2800,\n 'drink': 2333,\n 'coffee': 2088,\n 'or': 3408,\n 'energy': 2399,\n 'drinks': 2334,\n 'Roy': 1202,\n 'Dahildahil': 407,\n 'going': 2665,\n 'about': 1613,\n 'speak': 3995,\n 'live': 3109,\n 'near': 3314,\n 'they': 4186,\n 'use': 4346,\n 'didn': 2273,\n 'arrive': 1747,\n 'here': 2781,\n 'hoping': 2817,\n 'tomorrow': 4229,\n 'does': 2297,\n 'grateful': 2690,\n 'mom': 3262,\n 'giving': 2656,\n 'birth': 1871,\n 'abort': 1611,\n 'mine': 3238,\n 'inbox': 2878,\n 'could': 2159,\n 'write': 4514,\n 'paragraphs': 3447,\n 'xDShame': 4524,\n 'its': 2929,\n 'theoretically': 4179,\n 'impossible': 2872,\n 'real': 3649,\n 'And': 171,\n 'were': 4447,\n 'there': 4182,\n 'ok': 3383,\n 'taking': 4137,\n 'over': 3424,\n 'quarter': 3616,\n 'billboard': 1866,\n 'charts': 2033,\n 'while': 4458,\n '20': 38,\n 'off': 3373,\n 'Knight': 791,\n 'Day': 419,\n 'Jewellery': 733,\n 'ends': 2397,\n 'Sunday': 1334,\n 'Why': 1549,\n 'pick': 3498,\n 'up': 4335,\n 'something': 3967,\n 'Hellooo': 652,\n 'Kyle': 797,\n 'Davies': 418,\n 'RebelByACause': 1172,\n 'My': 966,\n 'husband': 2841,\n 'has': 2742,\n 'family': 2480,\n 'history': 2797,\n 'mafia': 3155,\n 'doesn': 2298,\n 'stories': 4044,\n 'We': 1528,\n 'Mmmm': 944,\n 'blood': 1892,\n 'enemies': 2398,\n 'RockSoc': 1192,\n 'beginning': 1842,\n 'smile': 3944,\n 'yet': 4538,\n 'if': 2858,\n 'parents': 3449,\n 'invest': 2912,\n 'child': 2046,\n 'emotional': 2390,\n 'education': 2375,\n 'by': 1966,\n 'out': 3419,\n 'school': 3799,\n 'holiday': 2808,\n 'un': 4306,\n 'SONE': 1222,\n 'who': 4460,\n 'cant': 1995,\n 'stream': 4051,\n 'Genie': 562,\n 'CAN': 312,\n 'TY': 1380,\n 'sharing': 3870,\n 'IDs': 685,\n 'If': 695,\n 'think': 4191,\n 'probably': 3576,\n 'beyond': 1857,\n 'repair': 3687,\n 'sounds': 3986,\n 'tea': 4153,\n 'etiquette': 2419,\n 'josie': 2964,\n 'eat': 2367,\n 'your': 4547,\n 'steak': 4031,\n 'well': 4445,\n 'done': 2310,\n 'please': 3525,\n 'unfollow': 4315,\n '2017': 44,\n '07': 4,\n '00AM': 1,\n 'kamusta': 2981,\n 'breakfast': 1927,\n 'guys': 2708,\n 'iiiiI': 2863,\n 'WOULD': 1514,\n 'LIKE': 807,\n 'BOOOK': 231,\n 'fuck': 2608,\n 'man': 3171,\n 'been': 1840,\n '2hrs': 63,\n 'since': 3916,\n 'their': 4176,\n 'vlive': 4391,\n 'nearly': 3315,\n 'sydney': 4122,\n 'ppl': 3561,\n 'goes': 2664,\n 'quick': 3618,\n 'appreciate': 1732,\n 'every': 2430,\n 'second': 3816,\n 'stay': 4028,\n 'cool': 2151,\n 'Pls': 1114,\n 'RT': 1154,\n 'NCT': 971,\n 'FIC': 491,\n 'Love': 860,\n 'Song': 1292,\n 'dying': 2358,\n 'thirst': 4194,\n 'because': 1834,\n 'strong': 4060,\n 'can': 1990,\n 'hard': 2738,\n 'xxx': 4527,\n 'vearey': 4363,\n 'moving': 3287,\n 'TWISTY': 1379,\n 'aaree': 1607,\n 'ever': 2428,\n 'AUSTRALIA': 134,\n 'vids': 4383,\n 'Lovo': 862,\n 'youtube': 4553,\n 'tell': 4158,\n 'fellow': 2511,\n 'Comm': 367,\n 'students': 4065,\n 'kind': 3011,\n 'suck': 4078,\n 'Aseek': 192,\n 'Lil': 841,\n 'strait': 4048,\n 'Daddyy_rat': 406,\n 'hi': 2787,\n 'cham': 2022,\n '420': 80,\n 'cry': 2186,\n 'watchman': 4429,\n 'comes': 2099,\n 'threatens': 4202,\n 'sorry': 3981,\n 'theres': 4183,\n 'sincerely': 3917,\n 'attend': 1778,\n 'BH': 226,\n 'party': 3454,\n 'bcs': 1825,\n 'those': 4198,\n 'try': 4277,\n 'fun': 2613,\n 'make': 3165,\n 'ca': 1969,\n '16': 28,\n 'Veronice': 1490,\n 'Jughead': 749,\n 'Sooooo': 1295,\n 'feels': 2508,\n 'Friday': 534,\n 'no': 3344,\n 'choice': 2053,\n 'cancel': 1991,\n 'honey': 2814,\n 'many': 3176,\n 'games': 2623,\n 'updates': 4339,\n 'release': 3677,\n 'TICKETS': 1365,\n 'AVAILABLE': 135,\n 'NOW': 982,\n 'The': 1401,\n '401': 77,\n 'Festival': 514,\n 'Running': 1206,\n 'They': 1408,\n 'pinched': 3506,\n 'free': 2591,\n 'His': 667,\n 'quality': 3615,\n 'FM': 494,\n 'Gentle': 564,\n 'reminder': 3684,\n 'our': 3417,\n 'TP': 1373,\n 'guidelines': 2705,\n 'read': 3646,\n 'spread': 4013,\n 'Thank': 1394,\n 'face': 2468,\n 'swapped': 4110,\n 'cat': 2009,\n 'dog': 2300,\n 'upsetting': 4342,\n 'Yeah': 1582,\n 'only': 3400,\n 'environments': 2412,\n 'disable': 2287,\n 'argument': 1740,\n 'actually': 1633,\n 'excludes': 2445,\n 'disabled': 2288,\n 'bought': 1917,\n '523': 91,\n 'litre': 3107,\n 'fridge': 2595,\n 'am': 1684,\n 'applying': 1731,\n 'cold': 2089,\n 'storage': 4041,\n 'license': 3084,\n 'Bhayander': 271,\n 'West': 1538,\n 'huge': 2829,\n 'thank': 4171,\n 'within': 4479,\n 'Social': 1287,\n 'Work': 1561,\n 'Care': 333,\n 'Sectors': 1251,\n 'Keep': 773,\n 'work': 4494,\n 'hope': 2815,\n 'little': 3108,\n 'beaand': 1827,\n 'andot': 1693,\n 'overworkiandg': 3426,\n 'himself': 2793,\n 'gettiandg': 2639,\n 'least': 3063,\n 'rest': 3702,\n 'difficult': 2279,\n 'get': 2637,\n 'chance': 2025,\n 'High': 661,\n 'Value': 1489,\n 'Members': 922,\n 'Aww': 212,\n 'hating': 2747,\n 'sponsored': 4007,\n 'What': 1542,\n 'texts': 4167,\n 'doing': 2302,\n 've': 4362,\n 'same': 3776,\n 'issue': 2924,\n 'Pretty': 1127,\n 'much': 3289,\n 'Twitters': 1454,\n 'jimin': 2950,\n 'yoongi': 4540,\n 'although': 1680,\n 'late': 3045,\n 'priceless': 3572,\n 'antiques': 1711,\n 'destroyed': 2260,\n 'Reg': 1175,\n 'Someone': 1290,\n 'build': 1952,\n 'house': 2825,\n 'do': 2296,\n 'believe': 1846,\n 'hasn': 2743,\n 'already': 1675,\n 'Annapurna': 174,\n 'studios': 4067,\n 'production': 3583,\n '29': 61,\n 'floors': 2556,\n 'In': 699,\n 'heat': 2769,\n 'we': 4431,\n 'turn': 4286,\n 'expre': 2460,\n 'Well': 1537,\n 'stoping': 4038,\n 'Molly': 949,\n 'wish': 4476,\n 'hair': 2718,\n 'Cutest': 392,\n 'Michael': 930,\n 'girl': 2649,\n 'milly': 3234,\n 'phone': 3487,\n 'HAIIIIIIR': 607,\n 'lips': 3100,\n 'Friend5': 535,\n 'Yes6': 1587,\n 'Jamie': 724,\n 'reset': 3695,\n 'CGa': 314,\n 'grandfinal': 2687,\n 'server': 3850,\n 'administrator': 1639,\n 'responding': 3700,\n 'Andy': 172,\n 'ally': 1670,\n 'poem': 3537,\n 'notice': 3361,\n 'yous': 4551,\n 'Wish': 1555,\n 'rt': 3750,\n 'pinned': 3507,\n 'post': 3554,\n 'everything': 2434,\n 'anything': 1716,\n 'days': 2221,\n 'MISSED': 882,\n 'YOU': 1576,\n 'WHOLE': 1507,\n 'LOT': 815,\n 'First': 521,\n 'round': 3748,\n 'exit': 2449,\n '15': 24,\n 'minutes': 3244,\n 'followed': 2565,\n '45': 82,\n 'tech': 4156,\n 'selling': 3834,\n 'army': 1743,\n 'bomb': 1900,\n 'ver': 4367,\n 'meet': 3207,\n 'penge': 3467,\n 'damit': 2210,\n 'Share': 1263,\n 'Yesterday': 1588,\n 'felt': 2512,\n 'friday': 2594,\n 'flavorful': 2550,\n 'dream': 2328,\n 'baby': 1796,\n 'bett': 1855,\n 'YO': 1575,\n 'THANK': 1358,\n 'FOR': 496,\n 'OVER': 1027,\n 'Nearly': 993,\n 'joining': 2958,\n 'next': 3331,\n 'Perfect': 1092,\n 'engaged': 2400,\n 'community': 2108,\n 'members': 3210,\n 'messages': 3221,\n 'never': 3327,\n 'fail': 2472,\n 'after': 1646,\n 'conference': 2124,\n 'will': 4467,\n 'dinner': 2281,\n 'favourite': 2498,\n 'biking': 1865,\n 'How': 679,\n 'joke': 2960,\n 'religion': 3680,\n 'online': 3399,\n 'Joke': 738,\n 'Just': 753,\n 'joking': 2961,\n 'WAITED': 1498,\n 'won': 4485,\n 'till': 4213,\n 'smiled': 3945,\n 'Never': 997,\n 'mutual': 3297,\n 'let': 3078,\n 'talk': 4139,\n 'more': 3274,\n 'sure': 4098,\n 'Remember': 1177,\n 'vocab': 4392,\n 'knowledge': 3024,\n 'worth': 4505,\n '75': 99,\n 'grade': 2686,\n 'Will': 1551,\n 'announce': 1702,\n 'winner': 4471,\n '10am': 14,\n 'purchase': 3607,\n 'This': 1411,\n 'picture': 3501,\n 'makes': 3166,\n 'Treaty': 1440,\n 'security': 3822,\n 'culture': 2192,\n 'development': 2265,\n 'roshhh': 3747,\n 'youuu': 4555,\n 'U4v9rr': 1460,\n 'had': 2713,\n 'noted': 3359,\n 'gentleman': 2635,\n 'name': 3308,\n 'find': 2530,\n 'Half': 634,\n 'load': 3113,\n 'Russell': 1208,\n '10': 7,\n 'possibility': 3552,\n 'From': 536,\n 'soup': 3988,\n 'sandwiches': 3779,\n 'slow': 3942,\n 'cooked': 2148,\n 'pork': 3548,\n 'Right': 1184,\n 'seriously': 3849,\n 'need': 3317,\n 'decent': 2231,\n 'Butterfly': 306,\n 'Tattoo': 1385,\n 'design': 2255,\n 'heeeeey': 2772,\n 'waaaaay': 4403,\n 're': 3643,\n 'sweetest': 4115,\n 'most': 3276,\n 'adorable': 1641,\n 'angel': 1696,\n 'moodbooster': 3272,\n 'juseyo': 2972,\n 'talking': 4140,\n 'yoyoyou': 4559,\n 'yoyou': 4556,\n 'younhappy': 4546,\n 'always': 1682,\n 'Follow': 525,\n 'Saga': 1235,\n 'diary': 2271,\n 'year': 4532,\n 'pens': 3470,\n 'TCs': 1353,\n 'jungkook': 2970,\n 'looks': 3127,\n 'gives': 2655,\n 'biggest': 1863,\n 'warmest': 4420,\n 'hugs': 2830,\n 'taught': 4149,\n 'Me': 914,\n 'National': 990,\n 'BitBucket': 278,\n 'Unfriending': 1472,\n 'save': 3786,\n 'boyfriend': 1921,\n 'mad': 3151,\n 'Haha': 630,\n 'mate': 3188,\n 'debte': 2229,\n 'wished': 4477,\n 'center': 2015,\n 'Definitely': 424,\n 'arms': 1742,\n 'professional': 3585,\n 'one': 3396,\n 'Give': 570,\n 'away': 1791,\n 'Random': 1161,\n 'win': 4468,\n '10USD': 13,\n 'iTunes': 2850,\n 'GP': 551,\n 'card': 2000,\n 'Winner': 1553,\n 'selected': 3830,\n 'few': 2514,\n 'aw': 1788,\n 'BCC': 217,\n 'having': 2752,\n 'PRIDE': 1069,\n 'prom': 3589,\n 'lost': 3132,\n 'two': 4298,\n 'streaks': 4050,\n 'favorite': 2495,\n 'silence': 3911,\n 'night': 3338,\n 'screenshot': 3808,\n 'sainyo': 3768,\n 'Hmm': 670,\n 'tumagal': 4282,\n 'sana': 3778,\n 'Stay': 1317,\n 'uu': 4353,\n 'Im': 697,\n 'fr': 2587,\n 'matter': 3192,\n 'Luv': 864,\n 'mats': 3191,\n 'wait': 4407,\n 'film': 2526,\n 'Karl': 769,\n 'bu': 1945,\n 'wifi': 4465,\n 'Koalas': 794,\n '12': 17,\n 'though': 4199,\n 'Who': 1547,\n 'wants': 4416,\n 'vibes': 4378,\n 'Watch': 1526,\n 'YouTube': 1594,\n 'TV100': 1376,\n 'application': 1729,\n 'FREE': 499,\n 'Another': 179,\n 'It': 712,\n 'April': 186,\n 'IF': 686,\n 'THE': 1360,\n 'BELOW': 223,\n 'TWEET': 1378,\n 'HITS': 620,\n '1000': 9,\n 'IS': 692,\n 'GETTING': 541,\n 'RIAN': 1149,\n 'HOLDING': 621,\n 'STICKER': 1227,\n 'TOO': 1371,\n 'Click': 359,\n 'below': 1849,\n 'tweet': 4291,\n 'SM': 1218,\n 'dye': 2357,\n 'lighter': 3088,\n 'Xbox': 1570,\n 'adHatter': 1634,\n 'XboxMadHatter': 1571,\n 'poor': 3542,\n 'hate': 2745,\n 'said': 3766,\n '13': 19,\n 'welcome': 4444,\n 'Thomas': 1413,\n 'Kim': 784,\n 'Seokjinie': 1256,\n 'Everland': 476,\n 'guess': 2703,\n 'forgot': 2579,\n 'idol': 2857,\n '24': 52,\n 'even': 2423,\n 'Helloo': 651,\n 'chammy': 2023,\n 'shamirakay': 3865,\n 'SHOULD': 1216,\n 'STAY': 1226,\n 'GO': 546,\n 'NOBODY': 977,\n 'KNOWS': 761,\n 'evening': 2425,\n 'faci': 2470,\n 'But': 304,\n '30': 66,\n 'Today': 1426,\n 'old': 3387,\n 'eeyer': 2377,\n 'Zabardast': 1601,\n 'Look': 852,\n 'congrats': 2129,\n 'fact': 2471,\n 'surprised': 4099,\n 'Adblocker': 144,\n 'Visual': 1495,\n 'Studio': 1330,\n 'Installation': 705,\n '89': 103,\n 'BSOD': 233,\n 'suddenly': 4081,\n 'justin': 2975,\n 'tonight': 4231,\n '7pm': 101,\n 'Surround': 1341,\n 'yourself': 4550,\n 'positivity': 3550,\n 'direct': 2282,\n 'feed': 2502,\n 'Starbucks': 1313,\n 'last': 3044,\n 'CJAY': 317,\n 'CJAY_100': 318,\n 'Puta': 1133,\n 'enough': 2406,\n 'pero': 3478,\n 'padin': 3433,\n 'main': 3162,\n 'reason': 3655,\n 'Total': 1435,\n 'selflessness': 3832,\n 'liked': 3091,\n 'seeing': 3826,\n 'posts': 3559,\n 'wri': 4513,\n 'suspect': 4105,\n 'New': 998,\n 'twitter': 4297,\n 'acc': 1620,\n 'Soon': 1293,\n 'arts': 1754,\n 'Jonny': 743,\n 'legs': 3071,\n 'okay': 3385,\n 'Willow': 1552,\n 'helped': 2777,\n 'ring': 3729,\n 'amazing': 1685,\n 'Ailes': 153,\n 'knew': 3020,\n 'network': 3326,\n 'Fox': 528,\n 'downhill': 2322,\n 'wi': 4463,\n 'Prime': 1128,\n 'Minster': 941,\n 'Pakistan': 1077,\n 'Nawaz': 991,\n 'Sharif': 1264,\n 'Hahahahah': 632,\n 'SorryUncle': 1297,\n 'No': 1007,\n 'worries': 4502,\n 'Sydney': 1349,\n 'blessing': 1883,\n 'faith': 2476,\n 'stirred': 4035,\n 'each': 2359,\n 'YG': 1574,\n 'should': 3892,\n 'sent': 3843,\n 'MCD': 873,\n 'holding': 2806,\n 'trophy': 4273,\n 'anyways': 1718,\n 'right': 3726,\n 'gave': 2627,\n 'pass': 3455,\n 'Everything': 479,\n 'OPENING': 1024,\n 'UP': 1465,\n 'TO': 1370,\n 'LIKES': 808,\n 'BE': 219,\n 'LAAAAAVERLY': 799,\n 'xxENJOY': 4526,\n 'hawhaw': 2754,\n 'touching': 4244,\n 'Great': 591,\n 'songs': 3974,\n 'favourtie': 2500,\n 'member': 3209,\n 'anymore': 1714,\n 'used': 4347,\n 'Got': 585,\n 'msg': 3288,\n 'Oops': 1045,\n 'loool': 3128,\n 'boys': 1922,\n 'started': 4022,\n 'own': 3427,\n 'local': 3115,\n 'very': 4374,\n 'nervous': 3323,\n 'college': 2092,\n 'friends': 2599,\n 'One': 1039,\n 'faves': 2493,\n 'tying': 4299,\n 'Vimeo': 1493,\n 'watch': 4426,\n 'Hehe': 649,\n 'take': 4135,\n 'care': 2001,\n 'friend': 2596,\n 'Ps4': 1131,\n 'crush': 2184,\n 'without': 4480,\n 'Snapchat': 1284,\n 'filter': 2527,\n 'retweet': 3708,\n 'especially': 2417,\n 'low': 3142,\n 'patience': 3460,\n 'level': 3082,\n 'credit': 2172,\n 'Ik': 696,\n 'Looking': 853,\n 'forward': 2583,\n 'reading': 3647,\n 'tweets': 4295,\n 'Not': 1013,\n 'amount': 1689,\n 'whole': 4461,\n 'cast': 2008,\n 'LOL': 812,\n 'Rl': 1187,\n 'Serius': 1258,\n 'puppies': 3605,\n 'deserves': 2253,\n 'better': 1856,\n 'positive': 3549,\n 'loving': 3141,\n 'beauty': 1833,\n 'scored': 3801,\n 'other': 3414,\n 'Hope': 675,\n 'Prettier': 1126,\n 'end': 2392,\n 'released': 3678,\n 'fixes': 2545,\n 'another': 1706,\n 'batch': 1820,\n 'edge': 2371,\n 'cases': 2006,\n 'internship': 2906,\n 'say': 3789,\n 'seem': 3827,\n 'sold': 3961,\n 'government': 2683,\n 'ago': 1652,\n 'harder': 2739,\n 'instant': 2897,\n 'message': 3220,\n 'perfectly': 3474,\n 'fine': 2532,\n 'ken': 2996,\n 'back': 1797,\n 'coconut': 2087,\n 'shinhwa': 3875,\n 'did': 2272,\n 'Play': 1110,\n 'part': 3451,\n 'raising': 3631,\n 'funds': 2615,\n 'Don': 441,\n ...}"
     },
     "metadata": {},
     "execution_count": 6
    }
   ],
   "source": [
    "vectorizer = CountVectorizer(min_df=0, lowercase=False)\n",
    "vectorizer.fit(nf['Message'])\n",
    "vectorizer.vocabulary_"
   ]
  },
  {
   "cell_type": "code",
   "execution_count": 7,
   "metadata": {},
   "outputs": [
    {
     "output_type": "execute_result",
     "data": {
      "text/plain": "array([[0, 0, 0, ..., 0, 0, 0],\n       [0, 0, 0, ..., 0, 0, 0],\n       [0, 0, 0, ..., 0, 0, 0],\n       ...,\n       [0, 0, 0, ..., 0, 0, 0],\n       [0, 0, 0, ..., 0, 0, 0],\n       [0, 0, 0, ..., 0, 0, 0]])"
     },
     "metadata": {},
     "execution_count": 7
    }
   ],
   "source": [
    "vectorizer.transform(nf['Message']).toarray()"
   ]
  },
  {
   "cell_type": "code",
   "execution_count": 8,
   "metadata": {},
   "outputs": [],
   "source": [
    "messages = nf['Message']\n",
    "labels = nf['Target']"
   ]
  },
  {
   "cell_type": "code",
   "execution_count": 9,
   "metadata": {},
   "outputs": [],
   "source": [
    "x_train, x_test, y_train, y_test = train_test_split(messages, labels, test_size=0.25, random_state=1000, shuffle=True)"
   ]
  },
  {
   "cell_type": "code",
   "execution_count": 10,
   "metadata": {},
   "outputs": [
    {
     "output_type": "execute_result",
     "data": {
      "text/plain": "<1727x3749 sparse matrix of type '<class 'numpy.int64'>'\n\twith 15512 stored elements in Compressed Sparse Row format>"
     },
     "metadata": {},
     "execution_count": 10
    }
   ],
   "source": [
    "vectorizer.fit(x_train)\n",
    "\n",
    "X_train = vectorizer.transform(x_train)\n",
    "X_test = vectorizer.transform(x_test)\n",
    "X_train"
   ]
  },
  {
   "cell_type": "code",
   "execution_count": 11,
   "metadata": {},
   "outputs": [
    {
     "output_type": "execute_result",
     "data": {
      "text/plain": "LogisticRegression(C=1.0, class_weight=None, dual=False, fit_intercept=True,\n                   intercept_scaling=1, l1_ratio=None, max_iter=100,\n                   multi_class='auto', n_jobs=None, penalty='l2',\n                   random_state=None, solver='lbfgs', tol=0.0001, verbose=0,\n                   warm_start=False)"
     },
     "metadata": {},
     "execution_count": 11
    }
   ],
   "source": [
    "classifier = LogisticRegression()\n",
    "classifier.fit(X_train, y_train)"
   ]
  },
  {
   "cell_type": "code",
   "execution_count": 12,
   "metadata": {
    "tags": []
   },
   "outputs": [
    {
     "output_type": "stream",
     "name": "stdout",
     "text": "Accuracy:  0.9184027777777778\n"
    }
   ],
   "source": [
    "result = classifier.score(X_test, y_test)\n",
    "print('Accuracy: ', result)"
   ]
  },
  {
   "cell_type": "code",
   "execution_count": 14,
   "metadata": {},
   "outputs": [],
   "source": [
    "vec = vectorizer.transform([\"That play was boring and stupid but it was good tough\",\"that's the dumbiest idea ever\",\"you're not the brighest but I can manage it\"])\n",
    "some = classifier.predict(vec)"
   ]
  },
  {
   "cell_type": "code",
   "execution_count": 15,
   "metadata": {},
   "outputs": [
    {
     "output_type": "execute_result",
     "data": {
      "text/plain": "array([0, 1, 0])"
     },
     "metadata": {},
     "execution_count": 15
    }
   ],
   "source": [
    "some"
   ]
  }
 ],
 "metadata": {
  "kernelspec": {
   "display_name": "Python 3.6.9 64-bit ('conda-env': venv)",
   "language": "python",
   "name": "python36964bitcondaenvvenv7826cefca42d4575bfa69ede04b4b777"
  },
  "language_info": {
   "codemirror_mode": {
    "name": "ipython",
    "version": 3
   },
   "file_extension": ".py",
   "mimetype": "text/x-python",
   "name": "python",
   "nbconvert_exporter": "python",
   "pygments_lexer": "ipython3",
   "version": "3.6.9-final"
  }
 },
 "nbformat": 4,
 "nbformat_minor": 2
}