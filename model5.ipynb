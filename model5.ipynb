{
 "metadata": {
  "language_info": {
   "codemirror_mode": {
    "name": "ipython",
    "version": 3
   },
   "file_extension": ".py",
   "mimetype": "text/x-python",
   "name": "python",
   "nbconvert_exporter": "python",
   "pygments_lexer": "ipython3",
   "version": "3.6.9-final"
  },
  "orig_nbformat": 2,
  "kernelspec": {
   "name": "python_defaultSpec_1597807227423",
   "display_name": "Python 3.6.9 64-bit"
  }
 },
 "nbformat": 4,
 "nbformat_minor": 2,
 "cells": [
  {
   "cell_type": "code",
   "execution_count": 4,
   "metadata": {
    "tags": []
   },
   "outputs": [],
   "source": [
    "import pandas as pd\n",
    "import numpy as np \n",
    "import pathlib\n",
    "import spacy\n",
    "from spacy.lang.en import English\n",
    "from spacy.lang.en.stop_words import STOP_WORDS\n",
    "from string import punctuation\n",
    "from sklearn.feature_extraction.text import CountVectorizer, TfidfVectorizer\n",
    "from sklearn.model_selection import train_test_split\n",
    "\n",
    "import keras\n",
    "from keras.models import Sequential, model_from_json\n",
    "from keras.layers import LSTM, Dense, Embedding, Bidirectional, Dropout\n",
    "from keras.layers import TimeDistributed\n",
    "from keras.optimizers import Adam"
   ]
  },
  {
   "cell_type": "code",
   "execution_count": 12,
   "metadata": {
    "tags": []
   },
   "outputs": [],
   "source": [
    "# Loading the dataset \n",
    "data_dir = pathlib.Path('/home/lv11/Documents/ProyectosPython/sentimentAnalysis/train')\n",
    "nf = pd.read_csv(data_dir / 'tweetsDataset1.csv',skiprows=1,names=['Message','Target'])\n",
    "#print(nf.head(20))\n"
   ]
  },
  {
   "cell_type": "code",
   "execution_count": 14,
   "metadata": {},
   "outputs": [],
   "source": [
    "nlp = English()\n",
    "stop_words = list(STOP_WORDS)\n",
    "\n",
    "messages = nf['Message']\n",
    "labels = nf['Target']\n",
    "#print(stop_words)\n",
    "\n",
    "def spacy_tokenizer(sentence):\n",
    "    tokens = nlp(sentence)\n",
    "    tokens = [ word.lemma_.lower().strip() if word.lemma_ != '-PRON-' else word.lower_ for word in tokens ]\n",
    "    tokens = [ word for word in tokens if word not in stop_words and word not in punctuation ]\n",
    "    return tokens"
   ]
  },
  {
   "cell_type": "code",
   "execution_count": 16,
   "metadata": {},
   "outputs": [],
   "source": [
    "def vectorization(tweets):\n",
    "    vector = CountVectorizer(tokenizer=spacy_tokenizer)\n",
    "    frequency_matrix = vector.fit_transform(tweets)\n",
    "    sum_frequencies = np.sum(frequency_matrix,axis=0)\n",
    "    frequency = np.squeeze(np.asarray(sum_frequencies))\n",
    "    frequency_dataFrame = pd.DataFrame([frequency],columns=vector.get_feature_names()).transpose()\n",
    "    return frequency_dataFrame"
   ]
  },
  {
   "cell_type": "code",
   "execution_count": 18,
   "metadata": {},
   "outputs": [],
   "source": [
    "def splitting(messages,labels):\n",
    "    X_train,X_test,y_train,y_test = train_test_split(messages,labels,test_size=0.25,random_state=42,shuffle=True)\n",
    "    return X_train,X_test,y_train,y_test"
   ]
  },
  {
   "cell_type": "code",
   "execution_count": null,
   "metadata": {
    "tags": []
   },
   "outputs": [],
   "source": [
    "def tokenization_tweets(dataset,features):\n",
    "    tokenization = TfidfVectorizer(max_features=features)\n",
    "    tokenization.fit(dataset)\n",
    "    dataset_transformed = tokenization.transform(dataset).toarray()\n",
    "    return dataset_transformed"
   ]
  },
  {
   "cell_type": "code",
   "execution_count": 21,
   "metadata": {},
   "outputs": [],
   "source": [
    "def train(X_train_mod, y_train, features, shuffle, drop, layer1, layer2, epoch, lr, epsilon, validation):\n",
    "    model_nn = Sequential()\n",
    "    model_nn.add(Dense(layer1, input_shape=(features,), activation='relu'))\n",
    "    model_nn.add(Dropout(drop))\n",
    "    model_nn.add(Dense(layer2, activation='sigmoid'))\n",
    "    model_nn.add(Dropout(drop))\n",
    "    model_nn.add(Dense(3, activation='softmax'))\n",
    "    \n",
    "    optimizer = keras.optimizers.Adam(lr=lr, beta_1=0.9, beta_2=0.999, epsilon=epsilon,decay=0.0, amsgrad=False)\n",
    "    model_nn.compile(loss='sparse_categorical_crossentropy',\n",
    "                 optimizer=optimizer,\n",
    "                 metrics=['accuracy'])\n",
    "    model_nn.fit(np.array(X_train_mod), y_train,\n",
    "                 batch_size=32,\n",
    "                 epochs=epoch,\n",
    "                 verbose=1,\n",
    "                 validation_split=validation,\n",
    "                 shuffle=True)\n",
    "    return model_nn"
   ]
  },
  {
   "cell_type": "code",
   "execution_count": 22,
   "metadata": {},
   "outputs": [],
   "source": [
    "def test(X_test,model):\n",
    "    predict = model.predict(X_test)\n",
    "    return predict"
   ]
  },
  {
   "cell_type": "code",
   "execution_count": 23,
   "metadata": {},
   "outputs": [],
   "source": [
    "def modelo1(X_train,y_train):\n",
    "    features = 1554 #1727 # puede ser 3727 o un valor asi que vi como len() del array de X_train \n",
    "    shuffle = True\n",
    "    drop = 0.5\n",
    "    layer1 = 512\n",
    "    layer2 = 256\n",
    "    epoch = 10\n",
    "    lr = 0.002\n",
    "    epsilon = 1e-9\n",
    "    validation = 0.1\n",
    "    X_train_mod = tokenization_tweets(X_train,features)\n",
    "    modelo = train(X_train_mod, y_train,features,shuffle,drop,layer1,layer2,epoch,lr,epsilon,validation)\n",
    "    return modelo "
   ]
  },
  {
   "cell_type": "code",
   "execution_count": 24,
   "metadata": {},
   "outputs": [],
   "source": [
    "frequency_dataFrame = vectorization(messages)"
   ]
  },
  {
   "cell_type": "code",
   "execution_count": 25,
   "metadata": {},
   "outputs": [],
   "source": [
    "X_train,X_test,y_train,y_test = splitting(messages,labels)"
   ]
  },
  {
   "cell_type": "code",
   "execution_count": 26,
   "metadata": {
    "tags": []
   },
   "outputs": [
    {
     "output_type": "stream",
     "name": "stdout",
     "text": "Train on 1554 samples, validate on 173 samples\nEpoch 1/10\n1554/1554 [==============================] - 2s 1ms/step - loss: 0.7193 - accuracy: 0.6171 - val_loss: 0.3311 - val_accuracy: 0.9017\nEpoch 2/10\n1554/1554 [==============================] - 1s 913us/step - loss: 0.2586 - accuracy: 0.8867 - val_loss: 0.2328 - val_accuracy: 0.8844\nEpoch 3/10\n1554/1554 [==============================] - 1s 902us/step - loss: 0.1260 - accuracy: 0.9498 - val_loss: 0.2262 - val_accuracy: 0.8960\nEpoch 4/10\n1554/1554 [==============================] - 1s 885us/step - loss: 0.0753 - accuracy: 0.9736 - val_loss: 0.2772 - val_accuracy: 0.8613\nEpoch 5/10\n1554/1554 [==============================] - 1s 883us/step - loss: 0.0409 - accuracy: 0.9826 - val_loss: 0.3995 - val_accuracy: 0.8728\nEpoch 6/10\n1554/1554 [==============================] - 1s 904us/step - loss: 0.0334 - accuracy: 0.9871 - val_loss: 0.3603 - val_accuracy: 0.8728\nEpoch 7/10\n1554/1554 [==============================] - 1s 876us/step - loss: 0.0292 - accuracy: 0.9891 - val_loss: 0.4039 - val_accuracy: 0.8555\nEpoch 8/10\n1554/1554 [==============================] - 1s 870us/step - loss: 0.0251 - accuracy: 0.9903 - val_loss: 0.4496 - val_accuracy: 0.8555\nEpoch 9/10\n1554/1554 [==============================] - 1s 911us/step - loss: 0.0206 - accuracy: 0.9936 - val_loss: 0.5233 - val_accuracy: 0.8382\nEpoch 10/10\n1554/1554 [==============================] - 1s 881us/step - loss: 0.0188 - accuracy: 0.9910 - val_loss: 0.5072 - val_accuracy: 0.8555\n"
    }
   ],
   "source": [
    "modelo = modelo1(X_train,y_train)"
   ]
  },
  {
   "cell_type": "code",
   "execution_count": 27,
   "metadata": {
    "tags": []
   },
   "outputs": [
    {
     "output_type": "stream",
     "name": "stdout",
     "text": "Model: \"sequential_2\"\n_________________________________________________________________\nLayer (type)                 Output Shape              Param #   \n=================================================================\ndense_4 (Dense)              (None, 512)               796160    \n_________________________________________________________________\ndropout_3 (Dropout)          (None, 512)               0         \n_________________________________________________________________\ndense_5 (Dense)              (None, 256)               131328    \n_________________________________________________________________\ndropout_4 (Dropout)          (None, 256)               0         \n_________________________________________________________________\ndense_6 (Dense)              (None, 3)                 771       \n=================================================================\nTotal params: 928,259\nTrainable params: 928,259\nNon-trainable params: 0\n_________________________________________________________________\n"
    }
   ],
   "source": [
    "modelo.summary()"
   ]
  },
  {
   "cell_type": "code",
   "execution_count": 36,
   "metadata": {},
   "outputs": [
    {
     "output_type": "execute_result",
     "data": {
      "text/plain": "array([[0., 0., 0., ..., 0., 0., 0.],\n       [0., 0., 0., ..., 0., 0., 0.],\n       [0., 0., 0., ..., 0., 0., 0.],\n       ...,\n       [0., 0., 0., ..., 0., 0., 0.],\n       [0., 0., 0., ..., 0., 0., 0.],\n       [0., 0., 0., ..., 0., 0., 0.]])"
     },
     "metadata": {},
     "execution_count": 36
    }
   ],
   "source": [
    "input_data = tokenization_tweets(X_test,1554)\n",
    "input_data"
   ]
  },
  {
   "cell_type": "code",
   "execution_count": 82,
   "metadata": {},
   "outputs": [
    {
     "output_type": "execute_result",
     "data": {
      "text/plain": "941                                   I miss you unhappy \n1298    Thanks for being top engaged community members...\n1313    I agree. My issue would be that it all has to ...\n1270                this is so sad what the fuck unhappy \n464     The video will definitely be a 30 minute episo...\n                              ...                        \n1185    this is damn.... theres people who sincerely w...\n377     so upsetting the abuse these kids get unhappy ...\n535                                             clauditte\n892                   base unver ajalah MINAHAES unhappy \n1761                                              so? sad\nName: Message, Length: 576, dtype: object"
     },
     "metadata": {},
     "execution_count": 82
    }
   ],
   "source": [
    "pred = modelo.predict(input_data)\n",
    "X_test"
   ]
  },
  {
   "cell_type": "code",
   "execution_count": 102,
   "metadata": {
    "tags": [
     "outputPrepend"
    ]
   },
   "outputs": [
    {
     "output_type": "stream",
     "name": "stdout",
     "text": "eet = The most painful goodbyes are the onesthat are never said and never explained crying  unhappy  :/, sentiment = 0\ntweet =  wifi, sentiment = 1\ntweet = Just win at weekend and it will be a late gift, sentiment = 0\ntweet =  I'm aborting mission now have a nice day though x , sentiment = 1\ntweet = Be happy, sentiment = 0\ntweet =  w, sentiment = 0\ntweet = YG should have sent them to MCD. I want to see them holding the trophy unhappy  anyways .9, sentiment = 1\ntweet =  idea of saying No to almo, sentiment = 0\ntweet = I can't do it all on my own. (See what I did there? ) .1, sentiment = 1\ntweet = I dedicate this song to, sentiment = 0\ntweet = wish knock out lang talaga for the new school year are good and cooperative groupmates please unhappy , sentiment = 1\ntweet =  you change your whole life happy, sentiment = 0\ntweet = CAN SOMEONE PLS GIFT ME XAYAH USING PI PLSSSS? unhappy , sentiment = 0\ntweet = Don't be buffalo unhappy , sentiment = 0\ntweet = I check Beautiful News every single day, sentiment = 1\ntweet = do you even care at all unhappy , sentiment = 1\ntweet = 3. That's a lot cheaper and easier than make your own. My schematic needs special cables that doesn't come easy. unhappy , sentiment = 1\ntweet = it's that A*dy guy from pop Asia and then the translator so they'll probs go with them around Aus unhappy , sentiment = 1\ntweet = talking to my over driver about where I'm goinghe said he'd love to go to New York too but since Trump it's probably not.2, sentiment = 1\ntweet = Definitely my arms unhappy  .5, sentiment = 1\ntweet =  if i get 900 retweets and 900 likes. help me :(un.1, sentiment = 0\ntweet = I want to give him everything that makes him happy just to see this smile unhappy , sentiment = 1\ntweet = thanks for the recent follow. Much appreciated happy  Get this, sentiment = 0\ntweet = Charge to experience muna happy, sentiment = 0\ntweet = more goodies spotted! :D, sentiment = 1\ntweet = congrats! :D, sentiment = 0\ntweet = I lost two streaks and it's from my two favorite people silence  unhappy  good night, sentiment = 0\ntweet = Thank you so much smile, sentiment = 0\ntweet = Hi please rt my pinned post happy, sentiment = 0\ntweet = Note to self: Dont get to attached crying , sentiment = 0\ntweet = SO PRECIOUS I REALLY MISS HIM unhappy   .1, sentiment = 0\ntweet = Thanks, sentiment = 0\ntweet = i love him so much i want to kindly stroke his penis :D, sentiment = 1\ntweet = Theres only one thing I want to change about you . Your Last Name happy  ALDUBOnly, sentiment = 1\ntweet = fuck. tried changing my settings but still in india. unhappy , sentiment = 1\ntweet =  I know. happy, sentiment = 0\ntweet = Thanks for being top engaged community members this week happy  Want this ?, sentiment = 0\ntweet = When Jongin asked each members whether they have eaten and felt so wronged because they ate without him unhappy  , sentiment = 0\ntweet = I should never draw again unhappy , sentiment = 0\ntweet = We All Know unhappy  , sentiment = 1\ntweet = they would have sustained their fame if they did unhappy , sentiment = 0\ntweet = Kiera's Quest: Awakenings (Kiera's Quest  Book 1), sentiment = 0\ntweet = - Thanks for being top engaged community members this week happy   Grow your followers with, sentiment = 0\ntweet =  cheer up the new administrator team. happy, sentiment = 0\ntweet = what's wrong with you why don't you like animals unhappy , sentiment = 0\ntweet = give me my own AHN MINHYUK juseyoooo unhappy , sentiment = 1\ntweet = I wish I could say the gangs all here but Daniel's not in this picture. unhappy   Rantoul Twp High , sentiment = 1\ntweet = Ouch Elena Eremina's foot slip, sentiment = 0\ntweet = hungry unhappy  but no time to buy food, sentiment = 0\ntweet = Why would Harvey be going to prison? unhappy , sentiment = 0\ntweet = thanks for the follow, sentiment = 0\ntweet = happy  Me too I hope, sentiment = 0\ntweet = koh, sentiment = 0\ntweet = Speech-to-text doesnt understand my accent or Irish names unhappy , sentiment = 1\ntweet = Im getting one too smile  smile  smile  smile, sentiment = 1\ntweet = Close up of the animation 3I will post the second part soon! happy, sentiment = 0\ntweet = Preacher...... unhappy , sentiment = 0\ntweet =  i got goosebumps , sentiment = 1\ntweet = As if this process hasn't been frustrating enough, sentiment = 1\ntweet = for trade ? happy  what yeah want ?, sentiment = 0\ntweet = friendly reminder that you can enjoy a movie or television show without having to trash another happy, sentiment = 1\ntweet = slight buzy kasi besh unhappy  .1, sentiment = 0\ntweet = i feel bad for doing that AHAHA unhappy , sentiment = 1\ntweet = Pozuelo (formerly of Swans) and Suso (Liverpool now AC), sentiment = 0\ntweet = Sydney tomorrow, sentiment = 0\ntweet = still waiting unhappy , sentiment = 1\ntweet = morning happy, sentiment = 1\ntweet = Thanks for the recent follow Happy to connect happy  have a great Thursday. Want this ?, sentiment = 0\ntweet = when i'm enlisting can please turn up like this unhappy  , sentiment = 0\ntweet = My heart hurts. sad  I hate people , sentiment = 1\ntweet = Youngjae looked so sad in the video unhappy , sentiment = 1\ntweet =  Updated the text for my video intro by drawing it with the line tool in Paint Tool Sai. happy, sentiment = 0\ntweet = WTF Canada 2017 and you are still in the 1700s. I Will Never support, sentiment = 0\ntweet = Thank you mama bear! Ang ganda mo happy, sentiment = 0\ntweet = And this tweet made me cry!! crying , sentiment = 0\ntweet = your system does not recognize spaces in last names so for 2nd time unable to check in  forced to wait in unnecessary lines unhappy , sentiment = 1\ntweet = I'm sorry but people have to  make a living happy, sentiment = 1\ntweet = Naeem Bokhari says... Mian has gone !! are so cute NB happy  But NS is ugly evil..1, sentiment = 1\ntweet = HOLY SHIT! 40 pages script of the opening scene of Man Of Steel on Krypton got compressed.I wish I could at least, sentiment = 0\ntweet = okay happy, sentiment = 1\ntweet = Aww hating that I got sponsored, sentiment = 1\ntweet = The manifesto, sentiment = 1\ntweet = Don't say that unhappy , sentiment = 0\ntweet = I woke up at 4:17, sentiment = 0\ntweet = When your efforts pay off... happy, sentiment = 0\ntweet = i love you but I can%27t be arsed i don%27t know why people keep saying it unhappy , sentiment = 0\ntweet = To all FLA members and officers who are going to Cebu tomorrow silence  Godbless piss off mga ante and angkol!  happy, sentiment = 1\ntweet = Ah alright, sentiment = 0\ntweet =  months and years of bonding and happiness  family MCLISSE StarMu, sentiment = 0\ntweet = Why do people on the internet have to be such asses annoyance  Here's some positivity for you. I love your art!!! :D It's so pretty!!, sentiment = 0\ntweet = There isnt a new Riverdale tonight ? unhappy , sentiment = 0\ntweet = Hey thanks for being top new followers this week! Much appreciated happy.3, sentiment = 0\ntweet = who's selling an army bomb ver 2??? meet up on sad , sentiment = 1\ntweet = we finally got jinyoung to wipe it for jaebum himself but their precious son blocks it for the world to witness it, sentiment = 1\ntweet = IF THE BELOW TWEET HITS 1000 IS GETTING RIAN HOLDING THE STICKER TOO!!! Click the below tweet  SM, sentiment = 1\ntweet = Never known how hard it is until last to  days how to resist temptation to enter politics debates on social media happy  stood firm so far, sentiment = 1\ntweet = I do it for 5/6 times a week leh sad  and yes closing is damn fuck opening so much better, sentiment = 0\ntweet = That's shocking and evil unhappy , sentiment = 1\ntweet = That would be a great trick happy.2, sentiment = 0\ntweet = YG should have sent them to MCD. I want to see them holding the trophy unhappy  anyways .10, sentiment = 1\ntweet = The one with backward cap, sentiment = 0\ntweet = why did she delete the tweet, sentiment = 0\ntweet =  2017 at 07:00AM!! kamusta? don't forget to eat your breakfast guys! happy, sentiment = 1\ntweet = please just stop confining animals in zoos unhappy  , sentiment = 0\ntweet = Gotta keep trying before i have to quit to work unhappy  pick me please! give , sentiment = 1\ntweet = Thanks for the recent follow Happy to connect happy  have a great Thursday..9, sentiment = 0\ntweet = Ruby was rehomed for times before she was for months old  now loves her forever home. Pls always consider rescue when, sentiment = 0\ntweet = celebrate Hitler's birthday! =D, sentiment = 1\ntweet =  froze mid install. Waited 3hrs he'd to pull plug crying , sentiment = 0\ntweet = Thanks for the recent follow Happy to connect happy  have a great Thursday.  Get FREE?.1, sentiment = 0\ntweet = Thanks for the recent follow Happy to connect happy  have a great Thursday.  Want this, sentiment = 0\ntweet =  mine isn't in my inbox unhappy , sentiment = 1\ntweet =  rather than the UK, sentiment = 1\ntweet = Playoffs rematch complete!  Feels good going to worlds again :D, sentiment = 0\ntweet = congratulations David! Well done Mrs V! Welcome Jessica! happy, sentiment = 1\ntweet = for every like ill post an answer smile, sentiment = 0\ntweet = I'm happy   happy, sentiment = 0\ntweet = Something is really wrong. I should be spending my days naked on a beach in the hot sunshine. Not working in the cold in King's Lynn sad , sentiment = 1\ntweet = Sorry for being tired on stream. Will get some sleep and try be more fun tomorrow. Just wasn't feeling it tonight guys. Not, sentiment = 0\ntweet = Cheers :D, sentiment = 1\ntweet =  still strict, sentiment = 1\ntweet = The road and traffic signs section of theory revision is such a myth unhappy , sentiment = 1\ntweet = Sorry for no stream yesterday, sentiment = 1\ntweet =  you need a direct coffee feed to Starbucks happy, sentiment = 1\ntweet = I can relate to this so so much unhappy  , sentiment = 0\ntweet = Share the love: thanks for being top new followers this week happy.1, sentiment = 0\ntweet = Here is a new thesis by another genius.Sir, sentiment = 1\ntweet = Petronas blue/green isnt that far away from Billy Monger blue/green.  Just a thought happy, sentiment = 1\ntweet = Must Feel Like Shit When Men Can Stare Down The Barrel Of A Bong As They Spend Their Kid's Milk Money unhappy , sentiment = 0\ntweet = this is damn.... theres people who sincerely want to attend BH birthday party but bcs of those people who try for fun make them ca.15, sentiment = 1\ntweet =  whats crazy is when i walked through them doors EVERY ADMINISTRATION + HER WAS THERE THAT NIGHT. so why are her a, sentiment = 1\ntweet = i'm actually crying while typing this tweet i just can't take it anymore.. not applicablehulog not applicable knock out d unhappy , sentiment = 0\ntweet = see the next tweet! I did about 5 different things while keeping very calm, sentiment = 1\ntweet = If you can send me a DM with your postcode I can check a few of your local stores. Look forward to your reply happy  - Nathan 2/2, sentiment = 1\ntweet = unhappy  let's fight all those kids , sentiment = 1\ntweet = to WIN draw for free download of for Celebrate with us. Developed by for, sentiment = 1\ntweet = why is italian easier than spanish unhappy , sentiment = 1\ntweet = Chin up Leo crying  , sentiment = 0\ntweet = Hey.1, sentiment = 1\ntweet =  our lovely lunch menu is sure to please! smile, sentiment = 1\ntweet = Client work for rt and favorite happy, sentiment = 0\ntweet = Bill Nye Answers Science Questions From Twitter | WIRED, sentiment = 1\ntweet = I honestly think that their just trying to get rid of me and make a mockery out of me in my Town because i just wont admit it. unhappy , sentiment = 0\ntweet = Lage unhappy , sentiment = 0\ntweet = Help... I want to stop tweeting. All I feel is endless suffering and pain. I tried to deactivate myself many times... Save me... unhappy , sentiment = 1\ntweet = same unhappy  , sentiment = 1\ntweet = Canberra is a land-locked capital. unhappy  , sentiment = 1\ntweet = Nice! Some really nice stuff there! Mostly black dresses which i won't get away with for a June wedding though unhappy , sentiment = 0\ntweet =  both look so so good at there current clubs. Shame they never cut it in the PL unhappy , sentiment = 0\ntweet = Ah, sentiment = 0\ntweet =  we've invited 24 people to propose visions of the future. Jom happy, sentiment = 1\ntweet = happy weed day without them is not the same anymore unhappy , sentiment = 1\ntweet = [thinks about how tfp soundwave is forever trapped in the void realm] unhappy , sentiment = 1\ntweet =  my tum is still like that 20yrs on. happy, sentiment = 0\ntweet = When are you going to notice yous? unhappy , sentiment = 1\ntweet =  but I liked seeing her posts and love her wri , sentiment = 1\ntweet = well..human. That's all i, sentiment = 1\ntweet = this is damn.... theres people who sincerely want to attend BH birthday party but bcs of those people who try for fun make them ca.6, sentiment = 1\ntweet = YG should have sent them to MCD. I want to see them holding the trophy unhappy  anyways .2, sentiment = 1\ntweet = mutual: let's talk more!me: for sure!mutual:  happy  me:.4, sentiment = 0\ntweet = Would really like it if the coandsole versioands and got the update to makr it like the Steam versioand. =(, sentiment = 0\ntweet = Morning. Coffee time happy, sentiment = 1\ntweet = I'm a building a LLVM backend so, sentiment = 0\ntweet = Her back unhappy  .3, sentiment = 1\ntweet = Same unhappy , sentiment = 1\ntweet = But I no have round ass crying  , sentiment = 1\ntweet =  she might have dressed a bit better., sentiment = 0\ntweet = Thanks for the follow! happy, sentiment = 0\ntweet = Congrats on your :D, sentiment = 0\ntweet = Golly gosh. This is simply dreadful What havoc must be wreaking subsurface? Black salve won't , sentiment = 0\ntweet = mata_tytan: almightyTANNER: good evening everyone happy  join our twitter party tonight. official tagline:TANN, sentiment = 1\ntweet = Does anybody out there need any motion design or animation help?  If so I am available happy, sentiment = 1\ntweet = Nitpicking, sentiment = 0\ntweet = I caught a cold. unhappy  It seems I've got tired than I expected...., sentiment = 1\ntweet = Thanks for your feedback! It' just the starting phase, sentiment = 0\ntweet = instant message cramping sad , sentiment = 0\ntweet =  he'll kil , sentiment = 1\ntweet = Bby unhappy  your emotion  , sentiment = 1\ntweet =  we buried it alive and now it's screaming in my head crying , sentiment = 1\ntweet = Sup guys? :D, sentiment = 1\ntweet = Sure do! happy, sentiment = 1\ntweet = If you're a CHAMPION, sentiment = 1\ntweet = Need your help guys crying  , sentiment = 0\ntweet = better be oldschool crying with joy  RS3 equals  aids 3, sentiment = 0\ntweet = 515 SUBSCRIBERS!!!! :DTHE CONTINUES!, sentiment = 0\ntweet = Happy 420 everyone happy, sentiment = 1\ntweet = Sister cyril came to our school once happy, sentiment = 1\ntweet = He's the best happy, sentiment = 1\ntweet = Do It Like It's Legal sweaters  ..More designs available at, sentiment = 0\ntweet = Nothing is ever as it seems. What looks bad today, sentiment = 0\ntweet = I just finished gym, sentiment = 1\ntweet = why is it so hard for you to notice me? Haay unhappy , sentiment = 0\ntweet = Goodmorning!! My Parents are taking kids for lunch today- they are off school-Report Card! I'm wor , sentiment = 0\ntweet = honestly college makes me want to curl up into a ball and cry for 3 days straight unhappy , sentiment = 1\ntweet = June 5 - June 16 unhappy  , sentiment = 1\ntweet = rt  quote with your name for a calligraphy of it happy  i'll try my best to make it pretty!! non mutuals/mutuals (ifb) fl, sentiment = 1\ntweet = this wasnt meant to sound ano sad , sentiment = 1\ntweet = Been streaminuteg for 45 minute not understanding a thing and still.. unhappy , sentiment = 0\ntweet = I've Just Wrote 30 Tweets About But Still Didn't Notice Me crying , sentiment = 1\ntweet = Thanks for the recent follow Happy to connect happy  have a great Thursday., sentiment = 0\ntweet = Bapak Tom Cruise. , sentiment = 0\ntweet = Faltan Russel  why Noodle unhappy , sentiment = 0\ntweet = Maayos didn%27t ang lahat happy  lets give him a space and time happy, sentiment = 0\ntweet = i miss jihoon sad .1, sentiment = 0\ntweet =  I sincerely hope not too many priceless antiques were destroyed. Reg , sentiment = 0\ntweet = PSA: REMEMBER THIS WHEN YOU ASK ARTISTS TO DRAW FOR YOU. I'd say the same thing for writers but apparently commissi , sentiment = 1\ntweet = me everything and anything these days, sentiment = 1\ntweet = unhappy  they not , sentiment = 0\ntweet = Made new logotypes for Really fun to work on  You should follow if you want to keep yourself updated, sentiment = 1\ntweet = wow unhappy  people are so mean  , sentiment = 0\ntweet = tonight 7pm, sentiment = 0\ntweet = Jamie can you please reset the CGa grandfinal server... no administrator are responding unhappy , sentiment = 1\ntweet = Can you do that when player kills you. Then the player rank would show up. happy, sentiment = 1\ntweet = I considered asking where that came from. :D, sentiment = 1\ntweet = Cleantha , sentiment = 0\ntweet = Tara, sentiment = 0\ntweet = Do you want me to follow you back? If you do this tweet and I will. happy  only, sentiment = 1\ntweet = Just delivered my Managing the Online Customer Journey keynote at the Autodesk Partner Event. Incredible event, sentiment = 1\ntweet = BES RIP  , sentiment = 1\ntweet = Yes, sentiment = 0\ntweet = Thanks for the retweets this week. Much appreciated happy   Want this? It's FREE!, sentiment = 0\ntweet = So many cool games and updates release today. happy, sentiment = 0\ntweet = i havent been this early to school since last semester unhappy , sentiment = 1\ntweet = Thank you crew happy.2, sentiment = 0\ntweet = we don%27t talk anymore like we used to do unhappy , sentiment = 0\ntweet = Good luck to Rich riding for great project in this Sunday. Can you donate?, sentiment = 1\ntweet =  this worked out beautifully. If you redesign the import page to suit the whole application would mak, sentiment = 1\ntweet = keep loving Deepika , sentiment = 1\ntweet = Thanks for the recent follow Happy to connect happy  have a great Thursday. Want this.7, sentiment = 0\ntweet = Claaaaaaaaaaaaasse ! , sentiment = 1\ntweet = Make them feel that you are there to listen to their problems, sentiment = 1\ntweet = Wtf?! Where's the What is this boring show that's on?! When did this happen?? This is what happens when I close all week. unhappy , sentiment = 1\ntweet = we finally got jinyoung to wipe it for jaebum himself but their precious son blocks it for the world to witness it.1, sentiment = 1\ntweet = That was a FUN night! Sorry I missed last night unhappy  We really need to sync our calendars with and , sentiment = 1\ntweet = 25x25? I can go first happy, sentiment = 1\ntweet = I'll be as strong as I can but it's hard unhappy  xxx, sentiment = 1\ntweet = if josie, sentiment = 1\ntweet = I miss my boo so much unhappy , sentiment = 0\ntweet = Biggest problem for paper books is storage unhappy , sentiment = 0\ntweet = haha! Very good tweet mate happy  heard your a big boy account! The King shit happensould we say happy  any chance of a shit happens, sentiment = 1\ntweet = good morning unhappy , sentiment = 1\ntweet = can you say Hi Mekisha? unhappy , sentiment = 0\ntweet = Merry Christmas everyone happy, sentiment = 1\ntweet = a little video i made for the love of my life, sentiment = 0\ntweet = i don%27t know doesnt seem fair to me..two against one happy, sentiment = 1\ntweet = AVI for my man :)Phone made like always wink.1, sentiment = 0\ntweet = I'm surprised you don't use an Adblocker! happy, sentiment = 1\ntweet = Never want to finish desperate housewives what will I do with my life unhappy , sentiment = 0\ntweet = Issa Throwback. happy, sentiment = 0\ntweet = this is damn.... theres people who sincerely want to attend BH birthday party but bcs of those people who try for fun make them ca.10, sentiment = 1\ntweet = so upsetting the abuse these kids get unhappy   3 , sentiment = 0\ntweet = clauditte, sentiment = 0\ntweet = base unver ajalah MINAHAES unhappy , sentiment = 1\ntweet =  so? sad, sentiment = 0\n"
    }
   ],
   "source": [
    "xtest = [x for x in X_test]\n",
    "pred[0][1]\n",
    "for i in range(len(pred)):\n",
    "    sent = (0 if pred[i][0] <= 0.5 else 1)\n",
    "    print(\"tweet = %s, sentiment = %s\" % (xtest[i],sent))"
   ]
  },
  {
   "cell_type": "code",
   "execution_count": null,
   "metadata": {},
   "outputs": [],
   "source": []
  }
 ]
}