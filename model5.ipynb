{
 "metadata": {
  "language_info": {
   "codemirror_mode": {
    "name": "ipython",
    "version": 3
   },
   "file_extension": ".py",
   "mimetype": "text/x-python",
   "name": "python",
   "nbconvert_exporter": "python",
   "pygments_lexer": "ipython3",
   "version": "3.6.9-final"
  },
  "orig_nbformat": 2,
  "kernelspec": {
   "name": "python_defaultSpec_1598369094763",
   "display_name": "Python 3.6.9 64-bit"
  }
 },
 "nbformat": 4,
 "nbformat_minor": 2,
 "cells": [
  {
   "cell_type": "code",
   "execution_count": 68,
   "metadata": {
    "tags": []
   },
   "outputs": [],
   "source": [
    "import pandas as pd\n",
    "import numpy as np \n",
    "import pathlib\n",
    "import matplotlib.pyplot as plt\n",
    "import spacy\n",
    "from spacy.lang.en import English\n",
    "from spacy.lang.en.stop_words import STOP_WORDS\n",
    "from string import punctuation\n",
    "from sklearn.feature_extraction.text import CountVectorizer, TfidfVectorizer\n",
    "from sklearn.model_selection import train_test_split\n",
    "\n",
    "import keras\n",
    "from keras.models import Sequential, model_from_json\n",
    "from keras.layers import LSTM, Dense, Embedding, Bidirectional, Dropout\n",
    "from keras.layers import TimeDistributed\n",
    "from keras.optimizers import Adam"
   ]
  },
  {
   "cell_type": "code",
   "execution_count": 69,
   "metadata": {
    "tags": []
   },
   "outputs": [],
   "source": [
    "# Loading the dataset \n",
    "data_dir = pathlib.Path('/home/lv11/Documents/ProyectosPython/sentimentAnalysis/train')\n",
    "nf = pd.read_csv(data_dir / 'tweetsDataset1.csv',skiprows=1,names=['Message','Target'])\n",
    "#print(nf.head(20))\n"
   ]
  },
  {
   "cell_type": "code",
   "execution_count": 70,
   "metadata": {},
   "outputs": [],
   "source": [
    "nlp = English()\n",
    "stop_words = list(STOP_WORDS)\n",
    "\n",
    "messages = nf['Message']\n",
    "labels = nf['Target']\n",
    "#print(stop_words)\n",
    "\n",
    "def spacy_tokenizer(sentence):\n",
    "    tokens = nlp(sentence)\n",
    "    tokens = [ word.lemma_.lower().strip() if word.lemma_ != '-PRON-' else word.lower_ for word in tokens ]\n",
    "    tokens = [ word for word in tokens if word not in stop_words and word not in punctuation ]\n",
    "    return tokens"
   ]
  },
  {
   "cell_type": "code",
   "execution_count": 71,
   "metadata": {},
   "outputs": [],
   "source": [
    "def vectorization(tweets):\n",
    "    vector = CountVectorizer(tokenizer=spacy_tokenizer)\n",
    "    frequency_matrix = vector.fit_transform(tweets)\n",
    "    sum_frequencies = np.sum(frequency_matrix,axis=0)\n",
    "    frequency = np.squeeze(np.asarray(sum_frequencies))\n",
    "    frequency_dataFrame = pd.DataFrame([frequency],columns=vector.get_feature_names()).transpose()\n",
    "    return frequency_dataFrame"
   ]
  },
  {
   "cell_type": "code",
   "execution_count": 72,
   "metadata": {},
   "outputs": [],
   "source": [
    "def splitting(messages,labels):\n",
    "    X_train,X_test,y_train,y_test = train_test_split(messages,labels,test_size=0.25,random_state=42,shuffle=True)\n",
    "    return X_train,X_test,y_train,y_test"
   ]
  },
  {
   "cell_type": "code",
   "execution_count": 73,
   "metadata": {
    "tags": []
   },
   "outputs": [],
   "source": [
    "def tokenization_tweets(dataset,features):\n",
    "    tokenization = TfidfVectorizer(max_features=features)\n",
    "    tokenization.fit(dataset)\n",
    "    dataset_transformed = tokenization.transform(dataset).toarray()\n",
    "    return dataset_transformed"
   ]
  },
  {
   "cell_type": "code",
   "execution_count": 74,
   "metadata": {},
   "outputs": [],
   "source": [
    "def train(X_train_mod, y_train, features, shuffle, drop, layer1, layer2, epoch, lr, epsilon, validation):\n",
    "    model_nn = Sequential()\n",
    "    model_nn.add(Dense(layer1, input_shape=(features,), activation='relu'))\n",
    "    model_nn.add(Dropout(drop))\n",
    "    model_nn.add(Dense(layer2, activation='sigmoid'))\n",
    "    model_nn.add(Dropout(drop))\n",
    "    model_nn.add(Dense(3, activation='softmax'))\n",
    "    \n",
    "    optimizer = keras.optimizers.Adam(lr=lr, beta_1=0.9, beta_2=0.999, epsilon=epsilon,decay=0.0, amsgrad=False)\n",
    "    model_nn.compile(loss='sparse_categorical_crossentropy',\n",
    "                 optimizer=optimizer,\n",
    "                 metrics=['accuracy'])\n",
    "    history = model_nn.fit(np.array(X_train_mod), y_train,\n",
    "                 batch_size=32,\n",
    "                 epochs=epoch,\n",
    "                 verbose=1,\n",
    "                 validation_split=validation,\n",
    "                 shuffle=True)\n",
    "    return model_nn, history"
   ]
  },
  {
   "cell_type": "code",
   "execution_count": 75,
   "metadata": {},
   "outputs": [],
   "source": [
    "def test(X_test,model):\n",
    "    predict = model.predict(X_test)\n",
    "    return predict"
   ]
  },
  {
   "cell_type": "code",
   "execution_count": 76,
   "metadata": {},
   "outputs": [],
   "source": [
    "def modelo1(X_train,y_train):\n",
    "    features = 1554 #1727 # puede ser 3727 o un valor asi que vi como len() del array de X_train \n",
    "    shuffle = True\n",
    "    drop = 0.5\n",
    "    layer1 = 512\n",
    "    layer2 = 256\n",
    "    epoch = 10\n",
    "    lr = 0.002\n",
    "    epsilon = 1e-9\n",
    "    validation = 0.1\n",
    "    X_train_mod = tokenization_tweets(X_train,features)\n",
    "    modelo, history = train(X_train_mod, y_train,features,shuffle,drop,layer1,layer2,epoch,lr,epsilon,validation)\n",
    "    return modelo, history"
   ]
  },
  {
   "cell_type": "code",
   "execution_count": 77,
   "metadata": {},
   "outputs": [],
   "source": [
    "frequency_dataFrame = vectorization(messages)"
   ]
  },
  {
   "cell_type": "code",
   "execution_count": 78,
   "metadata": {},
   "outputs": [],
   "source": [
    "X_train,X_test,y_train,y_test = splitting(messages,labels)"
   ]
  },
  {
   "cell_type": "code",
   "execution_count": 79,
   "metadata": {
    "tags": []
   },
   "outputs": [
    {
     "output_type": "stream",
     "name": "stdout",
     "text": "Train on 1554 samples, validate on 173 samples\nEpoch 1/10\n1554/1554 [==============================] - 2s 1ms/step - loss: 0.7602 - accuracy: 0.5927 - val_loss: 0.3602 - val_accuracy: 0.8844\nEpoch 2/10\n1554/1554 [==============================] - 2s 1ms/step - loss: 0.2694 - accuracy: 0.8842 - val_loss: 0.2611 - val_accuracy: 0.8728\nEpoch 3/10\n1554/1554 [==============================] - 2s 1ms/step - loss: 0.1329 - accuracy: 0.9511 - val_loss: 0.2565 - val_accuracy: 0.8786\nEpoch 4/10\n1554/1554 [==============================] - 2s 1ms/step - loss: 0.0689 - accuracy: 0.9730 - val_loss: 0.3244 - val_accuracy: 0.8613\nEpoch 5/10\n1554/1554 [==============================] - 2s 1ms/step - loss: 0.0500 - accuracy: 0.9826 - val_loss: 0.3571 - val_accuracy: 0.8439\nEpoch 6/10\n1554/1554 [==============================] - 2s 1ms/step - loss: 0.0284 - accuracy: 0.9878 - val_loss: 0.3930 - val_accuracy: 0.8555\nEpoch 7/10\n1554/1554 [==============================] - 2s 1ms/step - loss: 0.0289 - accuracy: 0.9891 - val_loss: 0.4223 - val_accuracy: 0.8671\nEpoch 8/10\n1554/1554 [==============================] - 2s 1ms/step - loss: 0.0210 - accuracy: 0.9923 - val_loss: 0.4505 - val_accuracy: 0.8497\nEpoch 9/10\n1554/1554 [==============================] - 2s 1ms/step - loss: 0.0237 - accuracy: 0.9903 - val_loss: 0.4767 - val_accuracy: 0.8555\nEpoch 10/10\n1554/1554 [==============================] - 2s 1ms/step - loss: 0.0174 - accuracy: 0.9903 - val_loss: 0.4718 - val_accuracy: 0.8555\n"
    }
   ],
   "source": [
    "modelo, history = modelo1(X_train,y_train)"
   ]
  },
  {
   "cell_type": "code",
   "execution_count": 80,
   "metadata": {
    "tags": []
   },
   "outputs": [
    {
     "output_type": "stream",
     "name": "stdout",
     "text": "Model: \"sequential_4\"\n_________________________________________________________________\nLayer (type)                 Output Shape              Param #   \n=================================================================\ndense_10 (Dense)             (None, 512)               796160    \n_________________________________________________________________\ndropout_7 (Dropout)          (None, 512)               0         \n_________________________________________________________________\ndense_11 (Dense)             (None, 256)               131328    \n_________________________________________________________________\ndropout_8 (Dropout)          (None, 256)               0         \n_________________________________________________________________\ndense_12 (Dense)             (None, 3)                 771       \n=================================================================\nTotal params: 928,259\nTrainable params: 928,259\nNon-trainable params: 0\n_________________________________________________________________\n"
    }
   ],
   "source": [
    "modelo.summary()"
   ]
  },
  {
   "cell_type": "code",
   "execution_count": 81,
   "metadata": {},
   "outputs": [],
   "source": [
    "input_data = tokenization_tweets(X_test,1554)\n",
    "#input_data"
   ]
  },
  {
   "cell_type": "code",
   "execution_count": 82,
   "metadata": {},
   "outputs": [],
   "source": [
    "pred = modelo.predict(input_data)\n",
    "#X_test"
   ]
  },
  {
   "cell_type": "code",
   "execution_count": 83,
   "metadata": {
    "tags": [
     "outputPrepend"
    ]
   },
   "outputs": [
    {
     "output_type": "stream",
     "name": "stdout",
     "text": "eet = The most painful goodbyes are the onesthat are never said and never explained crying  unhappy  :/, sentiment = 0\ntweet =  wifi, sentiment = 1\ntweet = Just win at weekend and it will be a late gift, sentiment = 0\ntweet =  I'm aborting mission now have a nice day though x , sentiment = 1\ntweet = Be happy, sentiment = 0\ntweet =  w, sentiment = 0\ntweet = YG should have sent them to MCD. I want to see them holding the trophy unhappy  anyways .9, sentiment = 1\ntweet =  idea of saying No to almo, sentiment = 0\ntweet = I can't do it all on my own. (See what I did there? ) .1, sentiment = 1\ntweet = I dedicate this song to, sentiment = 0\ntweet = wish knock out lang talaga for the new school year are good and cooperative groupmates please unhappy , sentiment = 1\ntweet =  you change your whole life happy, sentiment = 1\ntweet = CAN SOMEONE PLS GIFT ME XAYAH USING PI PLSSSS? unhappy , sentiment = 0\ntweet = Don't be buffalo unhappy , sentiment = 0\ntweet = I check Beautiful News every single day, sentiment = 1\ntweet = do you even care at all unhappy , sentiment = 1\ntweet = 3. That's a lot cheaper and easier than make your own. My schematic needs special cables that doesn't come easy. unhappy , sentiment = 0\ntweet = it's that A*dy guy from pop Asia and then the translator so they'll probs go with them around Aus unhappy , sentiment = 1\ntweet = talking to my over driver about where I'm goinghe said he'd love to go to New York too but since Trump it's probably not.2, sentiment = 1\ntweet = Definitely my arms unhappy  .5, sentiment = 1\ntweet =  if i get 900 retweets and 900 likes. help me :(un.1, sentiment = 1\ntweet = I want to give him everything that makes him happy just to see this smile unhappy , sentiment = 1\ntweet = thanks for the recent follow. Much appreciated happy  Get this, sentiment = 0\ntweet = Charge to experience muna happy, sentiment = 0\ntweet = more goodies spotted! :D, sentiment = 1\ntweet = congrats! :D, sentiment = 0\ntweet = I lost two streaks and it's from my two favorite people silence  unhappy  good night, sentiment = 0\ntweet = Thank you so much smile, sentiment = 0\ntweet = Hi please rt my pinned post happy, sentiment = 0\ntweet = Note to self: Dont get to attached crying , sentiment = 1\ntweet = SO PRECIOUS I REALLY MISS HIM unhappy   .1, sentiment = 0\ntweet = Thanks, sentiment = 0\ntweet = i love him so much i want to kindly stroke his penis :D, sentiment = 1\ntweet = Theres only one thing I want to change about you . Your Last Name happy  ALDUBOnly, sentiment = 1\ntweet = fuck. tried changing my settings but still in india. unhappy , sentiment = 1\ntweet =  I know. happy, sentiment = 0\ntweet = Thanks for being top engaged community members this week happy  Want this ?, sentiment = 0\ntweet = When Jongin asked each members whether they have eaten and felt so wronged because they ate without him unhappy  , sentiment = 0\ntweet = I should never draw again unhappy , sentiment = 0\ntweet = We All Know unhappy  , sentiment = 1\ntweet = they would have sustained their fame if they did unhappy , sentiment = 0\ntweet = Kiera's Quest: Awakenings (Kiera's Quest  Book 1), sentiment = 0\ntweet = - Thanks for being top engaged community members this week happy   Grow your followers with, sentiment = 0\ntweet =  cheer up the new administrator team. happy, sentiment = 0\ntweet = what's wrong with you why don't you like animals unhappy , sentiment = 0\ntweet = give me my own AHN MINHYUK juseyoooo unhappy , sentiment = 1\ntweet = I wish I could say the gangs all here but Daniel's not in this picture. unhappy   Rantoul Twp High , sentiment = 1\ntweet = Ouch Elena Eremina's foot slip, sentiment = 0\ntweet = hungry unhappy  but no time to buy food, sentiment = 0\ntweet = Why would Harvey be going to prison? unhappy , sentiment = 0\ntweet = thanks for the follow, sentiment = 0\ntweet = happy  Me too I hope, sentiment = 0\ntweet = koh, sentiment = 0\ntweet = Speech-to-text doesnt understand my accent or Irish names unhappy , sentiment = 1\ntweet = Im getting one too smile  smile  smile  smile, sentiment = 1\ntweet = Close up of the animation 3I will post the second part soon! happy, sentiment = 0\ntweet = Preacher...... unhappy , sentiment = 0\ntweet =  i got goosebumps , sentiment = 1\ntweet = As if this process hasn't been frustrating enough, sentiment = 1\ntweet = for trade ? happy  what yeah want ?, sentiment = 0\ntweet = friendly reminder that you can enjoy a movie or television show without having to trash another happy, sentiment = 1\ntweet = slight buzy kasi besh unhappy  .1, sentiment = 0\ntweet = i feel bad for doing that AHAHA unhappy , sentiment = 1\ntweet = Pozuelo (formerly of Swans) and Suso (Liverpool now AC), sentiment = 0\ntweet = Sydney tomorrow, sentiment = 0\ntweet = still waiting unhappy , sentiment = 1\ntweet = morning happy, sentiment = 1\ntweet = Thanks for the recent follow Happy to connect happy  have a great Thursday. Want this ?, sentiment = 0\ntweet = when i'm enlisting can please turn up like this unhappy  , sentiment = 0\ntweet = My heart hurts. sad  I hate people , sentiment = 1\ntweet = Youngjae looked so sad in the video unhappy , sentiment = 1\ntweet =  Updated the text for my video intro by drawing it with the line tool in Paint Tool Sai. happy, sentiment = 0\ntweet = WTF Canada 2017 and you are still in the 1700s. I Will Never support, sentiment = 0\ntweet = Thank you mama bear! Ang ganda mo happy, sentiment = 0\ntweet = And this tweet made me cry!! crying , sentiment = 0\ntweet = your system does not recognize spaces in last names so for 2nd time unable to check in  forced to wait in unnecessary lines unhappy , sentiment = 1\ntweet = I'm sorry but people have to  make a living happy, sentiment = 1\ntweet = Naeem Bokhari says... Mian has gone !! are so cute NB happy  But NS is ugly evil..1, sentiment = 1\ntweet = HOLY SHIT! 40 pages script of the opening scene of Man Of Steel on Krypton got compressed.I wish I could at least, sentiment = 0\ntweet = okay happy, sentiment = 1\ntweet = Aww hating that I got sponsored, sentiment = 1\ntweet = The manifesto, sentiment = 1\ntweet = Don't say that unhappy , sentiment = 0\ntweet = I woke up at 4:17, sentiment = 0\ntweet = When your efforts pay off... happy, sentiment = 0\ntweet = i love you but I can%27t be arsed i don%27t know why people keep saying it unhappy , sentiment = 0\ntweet = To all FLA members and officers who are going to Cebu tomorrow silence  Godbless piss off mga ante and angkol!  happy, sentiment = 1\ntweet = Ah alright, sentiment = 0\ntweet =  months and years of bonding and happiness  family MCLISSE StarMu, sentiment = 0\ntweet = Why do people on the internet have to be such asses annoyance  Here's some positivity for you. I love your art!!! :D It's so pretty!!, sentiment = 0\ntweet = There isnt a new Riverdale tonight ? unhappy , sentiment = 0\ntweet = Hey thanks for being top new followers this week! Much appreciated happy.3, sentiment = 0\ntweet = who's selling an army bomb ver 2??? meet up on sad , sentiment = 1\ntweet = we finally got jinyoung to wipe it for jaebum himself but their precious son blocks it for the world to witness it, sentiment = 1\ntweet = IF THE BELOW TWEET HITS 1000 IS GETTING RIAN HOLDING THE STICKER TOO!!! Click the below tweet  SM, sentiment = 1\ntweet = Never known how hard it is until last to  days how to resist temptation to enter politics debates on social media happy  stood firm so far, sentiment = 1\ntweet = I do it for 5/6 times a week leh sad  and yes closing is damn fuck opening so much better, sentiment = 0\ntweet = That's shocking and evil unhappy , sentiment = 1\ntweet = That would be a great trick happy.2, sentiment = 0\ntweet = YG should have sent them to MCD. I want to see them holding the trophy unhappy  anyways .10, sentiment = 1\ntweet = The one with backward cap, sentiment = 0\ntweet = why did she delete the tweet, sentiment = 0\ntweet =  2017 at 07:00AM!! kamusta? don't forget to eat your breakfast guys! happy, sentiment = 0\ntweet = please just stop confining animals in zoos unhappy  , sentiment = 0\ntweet = Gotta keep trying before i have to quit to work unhappy  pick me please! give , sentiment = 1\ntweet = Thanks for the recent follow Happy to connect happy  have a great Thursday..9, sentiment = 0\ntweet = Ruby was rehomed for times before she was for months old  now loves her forever home. Pls always consider rescue when, sentiment = 0\ntweet = celebrate Hitler's birthday! =D, sentiment = 1\ntweet =  froze mid install. Waited 3hrs he'd to pull plug crying , sentiment = 0\ntweet = Thanks for the recent follow Happy to connect happy  have a great Thursday.  Get FREE?.1, sentiment = 0\ntweet = Thanks for the recent follow Happy to connect happy  have a great Thursday.  Want this, sentiment = 0\ntweet =  mine isn't in my inbox unhappy , sentiment = 1\ntweet =  rather than the UK, sentiment = 1\ntweet = Playoffs rematch complete!  Feels good going to worlds again :D, sentiment = 0\ntweet = congratulations David! Well done Mrs V! Welcome Jessica! happy, sentiment = 1\ntweet = for every like ill post an answer smile, sentiment = 0\ntweet = I'm happy   happy, sentiment = 0\ntweet = Something is really wrong. I should be spending my days naked on a beach in the hot sunshine. Not working in the cold in King's Lynn sad , sentiment = 1\ntweet = Sorry for being tired on stream. Will get some sleep and try be more fun tomorrow. Just wasn't feeling it tonight guys. Not, sentiment = 0\ntweet = Cheers :D, sentiment = 1\ntweet =  still strict, sentiment = 1\ntweet = The road and traffic signs section of theory revision is such a myth unhappy , sentiment = 1\ntweet = Sorry for no stream yesterday, sentiment = 1\ntweet =  you need a direct coffee feed to Starbucks happy, sentiment = 1\ntweet = I can relate to this so so much unhappy  , sentiment = 0\ntweet = Share the love: thanks for being top new followers this week happy.1, sentiment = 0\ntweet = Here is a new thesis by another genius.Sir, sentiment = 1\ntweet = Petronas blue/green isnt that far away from Billy Monger blue/green.  Just a thought happy, sentiment = 1\ntweet = Must Feel Like Shit When Men Can Stare Down The Barrel Of A Bong As They Spend Their Kid's Milk Money unhappy , sentiment = 0\ntweet = this is damn.... theres people who sincerely want to attend BH birthday party but bcs of those people who try for fun make them ca.15, sentiment = 1\ntweet =  whats crazy is when i walked through them doors EVERY ADMINISTRATION + HER WAS THERE THAT NIGHT. so why are her a, sentiment = 1\ntweet = i'm actually crying while typing this tweet i just can't take it anymore.. not applicablehulog not applicable knock out d unhappy , sentiment = 0\ntweet = see the next tweet! I did about 5 different things while keeping very calm, sentiment = 1\ntweet = If you can send me a DM with your postcode I can check a few of your local stores. Look forward to your reply happy  - Nathan 2/2, sentiment = 1\ntweet = unhappy  let's fight all those kids , sentiment = 1\ntweet = to WIN draw for free download of for Celebrate with us. Developed by for, sentiment = 1\ntweet = why is italian easier than spanish unhappy , sentiment = 1\ntweet = Chin up Leo crying  , sentiment = 0\ntweet = Hey.1, sentiment = 1\ntweet =  our lovely lunch menu is sure to please! smile, sentiment = 1\ntweet = Client work for rt and favorite happy, sentiment = 0\ntweet = Bill Nye Answers Science Questions From Twitter | WIRED, sentiment = 1\ntweet = I honestly think that their just trying to get rid of me and make a mockery out of me in my Town because i just wont admit it. unhappy , sentiment = 0\ntweet = Lage unhappy , sentiment = 0\ntweet = Help... I want to stop tweeting. All I feel is endless suffering and pain. I tried to deactivate myself many times... Save me... unhappy , sentiment = 1\ntweet = same unhappy  , sentiment = 1\ntweet = Canberra is a land-locked capital. unhappy  , sentiment = 1\ntweet = Nice! Some really nice stuff there! Mostly black dresses which i won't get away with for a June wedding though unhappy , sentiment = 0\ntweet =  both look so so good at there current clubs. Shame they never cut it in the PL unhappy , sentiment = 0\ntweet = Ah, sentiment = 0\ntweet =  we've invited 24 people to propose visions of the future. Jom happy, sentiment = 1\ntweet = happy weed day without them is not the same anymore unhappy , sentiment = 1\ntweet = [thinks about how tfp soundwave is forever trapped in the void realm] unhappy , sentiment = 1\ntweet =  my tum is still like that 20yrs on. happy, sentiment = 0\ntweet = When are you going to notice yous? unhappy , sentiment = 1\ntweet =  but I liked seeing her posts and love her wri , sentiment = 1\ntweet = well..human. That's all i, sentiment = 1\ntweet = this is damn.... theres people who sincerely want to attend BH birthday party but bcs of those people who try for fun make them ca.6, sentiment = 1\ntweet = YG should have sent them to MCD. I want to see them holding the trophy unhappy  anyways .2, sentiment = 1\ntweet = mutual: let's talk more!me: for sure!mutual:  happy  me:.4, sentiment = 0\ntweet = Would really like it if the coandsole versioands and got the update to makr it like the Steam versioand. =(, sentiment = 0\ntweet = Morning. Coffee time happy, sentiment = 1\ntweet = I'm a building a LLVM backend so, sentiment = 0\ntweet = Her back unhappy  .3, sentiment = 1\ntweet = Same unhappy , sentiment = 1\ntweet = But I no have round ass crying  , sentiment = 1\ntweet =  she might have dressed a bit better., sentiment = 0\ntweet = Thanks for the follow! happy, sentiment = 0\ntweet = Congrats on your :D, sentiment = 0\ntweet = Golly gosh. This is simply dreadful What havoc must be wreaking subsurface? Black salve won't , sentiment = 0\ntweet = mata_tytan: almightyTANNER: good evening everyone happy  join our twitter party tonight. official tagline:TANN, sentiment = 1\ntweet = Does anybody out there need any motion design or animation help?  If so I am available happy, sentiment = 1\ntweet = Nitpicking, sentiment = 0\ntweet = I caught a cold. unhappy  It seems I've got tired than I expected...., sentiment = 0\ntweet = Thanks for your feedback! It' just the starting phase, sentiment = 0\ntweet = instant message cramping sad , sentiment = 0\ntweet =  he'll kil , sentiment = 1\ntweet = Bby unhappy  your emotion  , sentiment = 0\ntweet =  we buried it alive and now it's screaming in my head crying , sentiment = 1\ntweet = Sup guys? :D, sentiment = 1\ntweet = Sure do! happy, sentiment = 1\ntweet = If you're a CHAMPION, sentiment = 1\ntweet = Need your help guys crying  , sentiment = 1\ntweet = better be oldschool crying with joy  RS3 equals  aids 3, sentiment = 0\ntweet = 515 SUBSCRIBERS!!!! :DTHE CONTINUES!, sentiment = 0\ntweet = Happy 420 everyone happy, sentiment = 1\ntweet = Sister cyril came to our school once happy, sentiment = 1\ntweet = He's the best happy, sentiment = 1\ntweet = Do It Like It's Legal sweaters  ..More designs available at, sentiment = 0\ntweet = Nothing is ever as it seems. What looks bad today, sentiment = 0\ntweet = I just finished gym, sentiment = 1\ntweet = why is it so hard for you to notice me? Haay unhappy , sentiment = 0\ntweet = Goodmorning!! My Parents are taking kids for lunch today- they are off school-Report Card! I'm wor , sentiment = 0\ntweet = honestly college makes me want to curl up into a ball and cry for 3 days straight unhappy , sentiment = 1\ntweet = June 5 - June 16 unhappy  , sentiment = 1\ntweet = rt  quote with your name for a calligraphy of it happy  i'll try my best to make it pretty!! non mutuals/mutuals (ifb) fl, sentiment = 1\ntweet = this wasnt meant to sound ano sad , sentiment = 0\ntweet = Been streaminuteg for 45 minute not understanding a thing and still.. unhappy , sentiment = 0\ntweet = I've Just Wrote 30 Tweets About But Still Didn't Notice Me crying , sentiment = 1\ntweet = Thanks for the recent follow Happy to connect happy  have a great Thursday., sentiment = 0\ntweet = Bapak Tom Cruise. , sentiment = 0\ntweet = Faltan Russel  why Noodle unhappy , sentiment = 0\ntweet = Maayos didn%27t ang lahat happy  lets give him a space and time happy, sentiment = 0\ntweet = i miss jihoon sad .1, sentiment = 0\ntweet =  I sincerely hope not too many priceless antiques were destroyed. Reg , sentiment = 0\ntweet = PSA: REMEMBER THIS WHEN YOU ASK ARTISTS TO DRAW FOR YOU. I'd say the same thing for writers but apparently commissi , sentiment = 1\ntweet = me everything and anything these days, sentiment = 1\ntweet = unhappy  they not , sentiment = 0\ntweet = Made new logotypes for Really fun to work on  You should follow if you want to keep yourself updated, sentiment = 1\ntweet = wow unhappy  people are so mean  , sentiment = 0\ntweet = tonight 7pm, sentiment = 0\ntweet = Jamie can you please reset the CGa grandfinal server... no administrator are responding unhappy , sentiment = 0\ntweet = Can you do that when player kills you. Then the player rank would show up. happy, sentiment = 1\ntweet = I considered asking where that came from. :D, sentiment = 1\ntweet = Cleantha , sentiment = 0\ntweet = Tara, sentiment = 0\ntweet = Do you want me to follow you back? If you do this tweet and I will. happy  only, sentiment = 1\ntweet = Just delivered my Managing the Online Customer Journey keynote at the Autodesk Partner Event. Incredible event, sentiment = 1\ntweet = BES RIP  , sentiment = 1\ntweet = Yes, sentiment = 0\ntweet = Thanks for the retweets this week. Much appreciated happy   Want this? It's FREE!, sentiment = 0\ntweet = So many cool games and updates release today. happy, sentiment = 0\ntweet = i havent been this early to school since last semester unhappy , sentiment = 1\ntweet = Thank you crew happy.2, sentiment = 0\ntweet = we don%27t talk anymore like we used to do unhappy , sentiment = 0\ntweet = Good luck to Rich riding for great project in this Sunday. Can you donate?, sentiment = 1\ntweet =  this worked out beautifully. If you redesign the import page to suit the whole application would mak, sentiment = 1\ntweet = keep loving Deepika , sentiment = 1\ntweet = Thanks for the recent follow Happy to connect happy  have a great Thursday. Want this.7, sentiment = 0\ntweet = Claaaaaaaaaaaaasse ! , sentiment = 0\ntweet = Make them feel that you are there to listen to their problems, sentiment = 1\ntweet = Wtf?! Where's the What is this boring show that's on?! When did this happen?? This is what happens when I close all week. unhappy , sentiment = 1\ntweet = we finally got jinyoung to wipe it for jaebum himself but their precious son blocks it for the world to witness it.1, sentiment = 1\ntweet = That was a FUN night! Sorry I missed last night unhappy  We really need to sync our calendars with and , sentiment = 1\ntweet = 25x25? I can go first happy, sentiment = 1\ntweet = I'll be as strong as I can but it's hard unhappy  xxx, sentiment = 1\ntweet = if josie, sentiment = 1\ntweet = I miss my boo so much unhappy , sentiment = 0\ntweet = Biggest problem for paper books is storage unhappy , sentiment = 0\ntweet = haha! Very good tweet mate happy  heard your a big boy account! The King shit happensould we say happy  any chance of a shit happens, sentiment = 1\ntweet = good morning unhappy , sentiment = 1\ntweet = can you say Hi Mekisha? unhappy , sentiment = 0\ntweet = Merry Christmas everyone happy, sentiment = 1\ntweet = a little video i made for the love of my life, sentiment = 0\ntweet = i don%27t know doesnt seem fair to me..two against one happy, sentiment = 1\ntweet = AVI for my man :)Phone made like always wink.1, sentiment = 0\ntweet = I'm surprised you don't use an Adblocker! happy, sentiment = 1\ntweet = Never want to finish desperate housewives what will I do with my life unhappy , sentiment = 0\ntweet = Issa Throwback. happy, sentiment = 0\ntweet = this is damn.... theres people who sincerely want to attend BH birthday party but bcs of those people who try for fun make them ca.10, sentiment = 1\ntweet = so upsetting the abuse these kids get unhappy   3 , sentiment = 0\ntweet = clauditte, sentiment = 0\ntweet = base unver ajalah MINAHAES unhappy , sentiment = 1\ntweet =  so? sad, sentiment = 0\n"
    }
   ],
   "source": [
    "xtest = [x for x in X_test]\n",
    "for i in range(len(pred)):\n",
    "    sent = (1 if pred[i][0] >0.5 else 0)\n",
    "    print(\"tweet = %s, sentiment = %s\" % (xtest[i],sent))"
   ]
  },
  {
   "cell_type": "code",
   "execution_count": 84,
   "metadata": {
    "tags": [
     "outputPrepend"
    ]
   },
   "outputs": [
    {
     "output_type": "stream",
     "name": "stdout",
     "text": " new video about game genres.RTs are super appreciated happy  --->  1\nEpisode two now crying with joy  --->  1\nI hope it was great   --->  0\nthanks for the recent follow.3  --->  1\nOne table last night told me I look like a graceful ballerina gliding through tables- then another told me I looked like a flash dancer unhappy   --->  0\nto  pork pies happy  --->  1\nHellooo.. happy  satans-daughter (taylynnox)  --->  1\nWhen your online crush comes to the meet-up without their Snapchat filter unhappy    --->  0\nHi instant message your friend  friend lang  --->  0\nWth why did 4/20 have to happen during the Easter holidays it's one of the best days in Leeds unhappy   --->  0\nthis is jimin to yoongi unhappy  .6  --->  0\n Thank you happy  --->  1\n and still not being rich - try getting a life  --->  1\nApril is really really bloody. I'm so proud of our boys crying with joy  --->  1\nWow i just made a JS compressor that actually checks scoped variables existing. Turns out i have a few issues happy  Linters may be useful happy  --->  1\ni have bronchitis i love that happy  --->  1\n will be a blessing tomorrow happy  Keep your faith stirred up each day!  --->  1\ngood morning messages never fail to make me smile happy  --->  1\n DM us happy  S.2  --->  1\ndamn ify ate unhappy   --->  0\narisun at town hall has pretty terrible service and rude staff. we only went there because ICG's fryer was broken unhappy   --->  0\noh noooo baby unhappy   --->  0\nafter that I was charged because of the driver happy  after waiting in the sun for 10 minutes! TEN!  --->  1\nthis is damn.... theres people who sincerely want to attend BH birthday party but bcs of those people who try for fun make them ca.12  --->  0\nI love it when Ben sleeps in because I get to watch all the programmes I want on Netflix without interruption !!!! happy  --->  1\nRetweet if you are with us? Kaway kaway family :)MCLISSE StarMusicIfWeFallinLove  --->  1\n Damn... this just Sucks! unhappy   --->  0\nThere was nothing religious in it. is calling out sexism. I don't think I need to spell out my stand  --->  1\n I know I'm not ready to say goodbye unhappy  So  --->  0\nunhappy  i have to be strong today jfjfjkf  --->  0\n flavorful dream   --->  0\nwe would love to have you as a guest on podcast sometime!!! Only 15 minute smile  interested???  --->  1\n I just hope everything goes right from now on unhappy   --->  0\nYoungjae during fansign on 04/10/17 constantly massaging his back. Clearly something wrong but pretended he was not  --->  0\nI write fiction. Some PR knob who writes sentence fragments on an iPad next to the Shoreditch House piss off  --->  1\nSO PRECIOUS I REALLY MISS HIM unhappy   .2  --->  0\ndon't miss you anymore unhappy   --->  0\ncan't wait to see you in that film Karl! I wished you would be here were I'm bu  --->  0\nDefinitely wasn't what I was looking for :/ But gave it a try anyway happy  --->  1\nOh that feel when you have 10 gems :D  --->  1\nPlease  --->  1\nThanks for sharing happy  --->  1\nCongratulations  --->  1\nI would say quite a lot...but hey  --->  1\nThat sucks unhappy   --->  0\nAnother great song  Have a listen. Its good! You may well like it happy.1  --->  1\nThink it would drive me mad once the synths and other robots turned up. unhappy   --->  0\nI'm just really soft spoken unhappy   --->  0\nthanks for the recent follow  --->  1\nI prefer it to sharm - enjoy it happy  Gouna 20km away is also quite nice - honestly anywhere away from crazy cairo is  --->  1\nsad  I don't  --->  0\nI just did happy  --->  1\nunhappy  they look dead  --->  0\nThe most painful goodbyes are the onesthat are never said and never explained crying  unhappy  :/  --->  0\n wifi  --->  1\nJust win at weekend and it will be a late gift  --->  1\n I'm aborting mission now have a nice day though x   --->  0\nBe happy  --->  1\n w  --->  0\nYG should have sent them to MCD. I want to see them holding the trophy unhappy  anyways .9  --->  0\n idea of saying No to almo  --->  1\nI can't do it all on my own. (See what I did there? ) .1  --->  0\nI dedicate this song to  --->  1\nwish knock out lang talaga for the new school year are good and cooperative groupmates please unhappy   --->  0\n you change your whole life happy  --->  1\nCAN SOMEONE PLS GIFT ME XAYAH USING PI PLSSSS? unhappy   --->  0\nDon't be buffalo unhappy   --->  0\nI check Beautiful News every single day  --->  1\ndo you even care at all unhappy   --->  0\n3. That's a lot cheaper and easier than make your own. My schematic needs special cables that doesn't come easy. unhappy   --->  0\nit's that A*dy guy from pop Asia and then the translator so they'll probs go with them around Aus unhappy   --->  0\ntalking to my over driver about where I'm goinghe said he'd love to go to New York too but since Trump it's probably not.2  --->  0\nDefinitely my arms unhappy  .5  --->  0\n if i get 900 retweets and 900 likes. help me :(un.1  --->  0\nI want to give him everything that makes him happy just to see this smile unhappy   --->  0\nthanks for the recent follow. Much appreciated happy  Get this  --->  1\nCharge to experience muna happy  --->  1\nmore goodies spotted! :D  --->  1\ncongrats! :D  --->  1\nI lost two streaks and it's from my two favorite people silence  unhappy  good night  --->  0\nThank you so much smile  --->  1\nHi please rt my pinned post happy  --->  1\nNote to self: Dont get to attached crying   --->  0\nSO PRECIOUS I REALLY MISS HIM unhappy   .1  --->  0\nThanks  --->  1\ni love him so much i want to kindly stroke his penis :D  --->  1\nTheres only one thing I want to change about you . Your Last Name happy  ALDUBOnly  --->  1\nfuck. tried changing my settings but still in india. unhappy   --->  0\n I know. happy  --->  1\nThanks for being top engaged community members this week happy  Want this ?  --->  1\nWhen Jongin asked each members whether they have eaten and felt so wronged because they ate without him unhappy    --->  0\nI should never draw again unhappy   --->  0\nWe All Know unhappy    --->  0\nthey would have sustained their fame if they did unhappy   --->  0\nKiera's Quest: Awakenings (Kiera's Quest  Book 1)  --->  1\n- Thanks for being top engaged community members this week happy   Grow your followers with  --->  1\n cheer up the new administrator team. happy  --->  1\nwhat's wrong with you why don't you like animals unhappy   --->  0\ngive me my own AHN MINHYUK juseyoooo unhappy   --->  0\nI wish I could say the gangs all here but Daniel's not in this picture. unhappy   Rantoul Twp High   --->  0\nOuch Elena Eremina's foot slip  --->  0\nhungry unhappy  but no time to buy food  --->  0\nWhy would Harvey be going to prison? unhappy   --->  0\nthanks for the follow  --->  1\nhappy  Me too I hope  --->  1\nkoh  --->  0\nSpeech-to-text doesnt understand my accent or Irish names unhappy   --->  0\nIm getting one too smile  smile  smile  smile  --->  1\nClose up of the animation 3I will post the second part soon! happy  --->  1\nPreacher...... unhappy   --->  0\n i got goosebumps   --->  1\nAs if this process hasn't been frustrating enough  --->  0\nfor trade ? happy  what yeah want ?  --->  1\nfriendly reminder that you can enjoy a movie or television show without having to trash another happy  --->  1\nslight buzy kasi besh unhappy  .1  --->  0\ni feel bad for doing that AHAHA unhappy   --->  0\nPozuelo (formerly of Swans) and Suso (Liverpool now AC)  --->  0\nSydney tomorrow  --->  1\nstill waiting unhappy   --->  0\nmorning happy  --->  1\nThanks for the recent follow Happy to connect happy  have a great Thursday. Want this ?  --->  1\nwhen i'm enlisting can please turn up like this unhappy    --->  0\nMy heart hurts. sad  I hate people   --->  0\nYoungjae looked so sad in the video unhappy   --->  0\n Updated the text for my video intro by drawing it with the line tool in Paint Tool Sai. happy  --->  1\nWTF Canada 2017 and you are still in the 1700s. I Will Never support  --->  0\nThank you mama bear! Ang ganda mo happy  --->  1\nAnd this tweet made me cry!! crying   --->  0\nyour system does not recognize spaces in last names so for 2nd time unable to check in  forced to wait in unnecessary lines unhappy   --->  0\nI'm sorry but people have to  make a living happy  --->  1\nNaeem Bokhari says... Mian has gone !! are so cute NB happy  But NS is ugly evil..1  --->  1\nHOLY SHIT! 40 pages script of the opening scene of Man Of Steel on Krypton got compressed.I wish I could at least  --->  0\nokay happy  --->  1\nAww hating that I got sponsored  --->  1\nThe manifesto  --->  0\nDon't say that unhappy   --->  0\nI woke up at 4:17  --->  0\nWhen your efforts pay off... happy  --->  1\ni love you but I can%27t be arsed i don%27t know why people keep saying it unhappy   --->  0\nTo all FLA members and officers who are going to Cebu tomorrow silence  Godbless piss off mga ante and angkol!  happy  --->  1\nAh alright  --->  0\n months and years of bonding and happiness  family MCLISSE StarMu  --->  1\nWhy do people on the internet have to be such asses annoyance  Here's some positivity for you. I love your art!!! :D It's so pretty!!  --->  1\nThere isnt a new Riverdale tonight ? unhappy   --->  0\nHey thanks for being top new followers this week! Much appreciated happy.3  --->  1\nwho's selling an army bomb ver 2??? meet up on sad   --->  0\nwe finally got jinyoung to wipe it for jaebum himself but their precious son blocks it for the world to witness it  --->  1\nIF THE BELOW TWEET HITS 1000 IS GETTING RIAN HOLDING THE STICKER TOO!!! Click the below tweet  SM  --->  1\nNever known how hard it is until last to  days how to resist temptation to enter politics debates on social media happy  stood firm so far  --->  1\nI do it for 5/6 times a week leh sad  and yes closing is damn fuck opening so much better  --->  0\nThat's shocking and evil unhappy   --->  0\nThat would be a great trick happy.2  --->  1\nYG should have sent them to MCD. I want to see them holding the trophy unhappy  anyways .10  --->  0\nThe one with backward cap  --->  1\nwhy did she delete the tweet  --->  0\n 2017 at 07:00AM!! kamusta? don't forget to eat your breakfast guys! happy  --->  1\nplease just stop confining animals in zoos unhappy    --->  0\nGotta keep trying before i have to quit to work unhappy  pick me please! give   --->  0\nThanks for the recent follow Happy to connect happy  have a great Thursday..9  --->  1\nRuby was rehomed for times before she was for months old  now loves her forever home. Pls always consider rescue when  --->  1\ncelebrate Hitler's birthday! =D  --->  1\n froze mid install. Waited 3hrs he'd to pull plug crying   --->  0\nThanks for the recent follow Happy to connect happy  have a great Thursday.  Get FREE?.1  --->  1\nThanks for the recent follow Happy to connect happy  have a great Thursday.  Want this  --->  1\n mine isn't in my inbox unhappy   --->  0\n rather than the UK  --->  1\nPlayoffs rematch complete!  Feels good going to worlds again :D  --->  1\ncongratulations David! Well done Mrs V! Welcome Jessica! happy  --->  1\nfor every like ill post an answer smile  --->  1\nI'm happy   happy  --->  1\nSomething is really wrong. I should be spending my days naked on a beach in the hot sunshine. Not working in the cold in King's Lynn sad   --->  0\nSorry for being tired on stream. Will get some sleep and try be more fun tomorrow. Just wasn't feeling it tonight guys. Not  --->  0\nCheers :D  --->  1\n still strict  --->  0\nThe road and traffic signs section of theory revision is such a myth unhappy   --->  0\nSorry for no stream yesterday  --->  0\n you need a direct coffee feed to Starbucks happy  --->  1\nI can relate to this so so much unhappy    --->  0\nShare the love: thanks for being top new followers this week happy.1  --->  1\nHere is a new thesis by another genius.Sir  --->  1\nPetronas blue/green isnt that far away from Billy Monger blue/green.  Just a thought happy  --->  1\nMust Feel Like Shit When Men Can Stare Down The Barrel Of A Bong As They Spend Their Kid's Milk Money unhappy   --->  0\nthis is damn.... theres people who sincerely want to attend BH birthday party but bcs of those people who try for fun make them ca.15  --->  0\n whats crazy is when i walked through them doors EVERY ADMINISTRATION + HER WAS THERE THAT NIGHT. so why are her a  --->  0\ni'm actually crying while typing this tweet i just can't take it anymore.. not applicablehulog not applicable knock out d unhappy   --->  0\nsee the next tweet! I did about 5 different things while keeping very calm  --->  1\nIf you can send me a DM with your postcode I can check a few of your local stores. Look forward to your reply happy  - Nathan 2/2  --->  1\nunhappy  let's fight all those kids   --->  0\nto WIN draw for free download of for Celebrate with us. Developed by for  --->  1\nwhy is italian easier than spanish unhappy   --->  0\nChin up Leo crying    --->  0\nHey.1  --->  1\n our lovely lunch menu is sure to please! smile  --->  1\nClient work for rt and favorite happy  --->  1\nBill Nye Answers Science Questions From Twitter | WIRED  --->  1\nI honestly think that their just trying to get rid of me and make a mockery out of me in my Town because i just wont admit it. unhappy   --->  0\nLage unhappy   --->  0\nHelp... I want to stop tweeting. All I feel is endless suffering and pain. I tried to deactivate myself many times... Save me... unhappy   --->  0\nsame unhappy    --->  0\nCanberra is a land-locked capital. unhappy    --->  0\nNice! Some really nice stuff there! Mostly black dresses which i won't get away with for a June wedding though unhappy   --->  0\n both look so so good at there current clubs. Shame they never cut it in the PL unhappy   --->  0\nAh  --->  1\n we've invited 24 people to propose visions of the future. Jom happy  --->  1\nhappy weed day without them is not the same anymore unhappy   --->  0\n[thinks about how tfp soundwave is forever trapped in the void realm] unhappy   --->  0\n my tum is still like that 20yrs on. happy  --->  1\nWhen are you going to notice yous? unhappy   --->  0\n but I liked seeing her posts and love her wri   --->  0\nwell..human. That's all i  --->  1\nthis is damn.... theres people who sincerely want to attend BH birthday party but bcs of those people who try for fun make them ca.6  --->  0\nYG should have sent them to MCD. I want to see them holding the trophy unhappy  anyways .2  --->  0\nmutual: let's talk more!me: for sure!mutual:  happy  me:.4  --->  1\nWould really like it if the coandsole versioands and got the update to makr it like the Steam versioand. =(  --->  0\nMorning. Coffee time happy  --->  1\nI'm a building a LLVM backend so  --->  0\nHer back unhappy  .3  --->  0\nSame unhappy   --->  0\nBut I no have round ass crying    --->  0\n she might have dressed a bit better.  --->  1\nThanks for the follow! happy  --->  1\nCongrats on your :D  --->  1\nGolly gosh. This is simply dreadful What havoc must be wreaking subsurface? Black salve won't   --->  0\nmata_tytan: almightyTANNER: good evening everyone happy  join our twitter party tonight. official tagline:TANN  --->  1\nDoes anybody out there need any motion design or animation help?  If so I am available happy  --->  1\nNitpicking  --->  1\nI caught a cold. unhappy  It seems I've got tired than I expected....  --->  0\nThanks for your feedback! It' just the starting phase  --->  1\ninstant message cramping sad   --->  0\n he'll kil   --->  0\nBby unhappy  your emotion    --->  0\n we buried it alive and now it's screaming in my head crying   --->  0\nSup guys? :D  --->  1\nSure do! happy  --->  1\nIf you're a CHAMPION  --->  1\nNeed your help guys crying    --->  0\nbetter be oldschool crying with joy  RS3 equals  aids 3  --->  1\n515 SUBSCRIBERS!!!! :DTHE CONTINUES!  --->  1\nHappy 420 everyone happy  --->  1\nSister cyril came to our school once happy  --->  1\nHe's the best happy  --->  1\nDo It Like It's Legal sweaters  ..More designs available at  --->  1\nNothing is ever as it seems. What looks bad today  --->  1\nI just finished gym  --->  0\nwhy is it so hard for you to notice me? Haay unhappy   --->  0\nGoodmorning!! My Parents are taking kids for lunch today- they are off school-Report Card! I'm wor   --->  0\nhonestly college makes me want to curl up into a ball and cry for 3 days straight unhappy   --->  0\nJune 5 - June 16 unhappy    --->  0\nrt  quote with your name for a calligraphy of it happy  i'll try my best to make it pretty!! non mutuals/mutuals (ifb) fl  --->  1\nthis wasnt meant to sound ano sad   --->  0\nBeen streaminuteg for 45 minute not understanding a thing and still.. unhappy   --->  0\nI've Just Wrote 30 Tweets About But Still Didn't Notice Me crying   --->  0\nThanks for the recent follow Happy to connect happy  have a great Thursday.  --->  1\nBapak Tom Cruise.   --->  0\nFaltan Russel  why Noodle unhappy   --->  0\nMaayos didn%27t ang lahat happy  lets give him a space and time happy  --->  1\ni miss jihoon sad .1  --->  0\n I sincerely hope not too many priceless antiques were destroyed. Reg   --->  0\nPSA: REMEMBER THIS WHEN YOU ASK ARTISTS TO DRAW FOR YOU. I'd say the same thing for writers but apparently commissi   --->  0\nme everything and anything these days  --->  1\nunhappy  they not   --->  0\nMade new logotypes for Really fun to work on  You should follow if you want to keep yourself updated  --->  1\nwow unhappy  people are so mean    --->  0\ntonight 7pm  --->  1\nJamie can you please reset the CGa grandfinal server... no administrator are responding unhappy   --->  0\nCan you do that when player kills you. Then the player rank would show up. happy  --->  1\nI considered asking where that came from. :D  --->  1\nCleantha   --->  0\nTara  --->  1\nDo you want me to follow you back? If you do this tweet and I will. happy  only  --->  1\nJust delivered my Managing the Online Customer Journey keynote at the Autodesk Partner Event. Incredible event  --->  1\nBES RIP    --->  0\nYes  --->  1\nThanks for the retweets this week. Much appreciated happy   Want this? It's FREE!  --->  1\nSo many cool games and updates release today. happy  --->  1\ni havent been this early to school since last semester unhappy   --->  0\nThank you crew happy.2  --->  1\nwe don%27t talk anymore like we used to do unhappy   --->  0\nGood luck to Rich riding for great project in this Sunday. Can you donate?  --->  1\n this worked out beautifully. If you redesign the import page to suit the whole application would mak  --->  1\nkeep loving Deepika   --->  1\nThanks for the recent follow Happy to connect happy  have a great Thursday. Want this.7  --->  1\nClaaaaaaaaaaaaasse !   --->  0\nMake them feel that you are there to listen to their problems  --->  1\nWtf?! Where's the What is this boring show that's on?! When did this happen?? This is what happens when I close all week. unhappy   --->  0\nwe finally got jinyoung to wipe it for jaebum himself but their precious son blocks it for the world to witness it.1  --->  1\nThat was a FUN night! Sorry I missed last night unhappy  We really need to sync our calendars with and   --->  0\n25x25? I can go first happy  --->  1\nI'll be as strong as I can but it's hard unhappy  xxx  --->  0\nif josie  --->  1\nI miss my boo so much unhappy   --->  0\nBiggest problem for paper books is storage unhappy   --->  0\nhaha! Very good tweet mate happy  heard your a big boy account! The King shit happensould we say happy  any chance of a shit happens  --->  1\ngood morning unhappy   --->  0\ncan you say Hi Mekisha? unhappy   --->  0\nMerry Christmas everyone happy  --->  1\na little video i made for the love of my life  --->  1\ni don%27t know doesnt seem fair to me..two against one happy  --->  1\nAVI for my man :)Phone made like always wink.1  --->  1\nI'm surprised you don't use an Adblocker! happy  --->  1\nNever want to finish desperate housewives what will I do with my life unhappy   --->  0\nIssa Throwback. happy  --->  1\nthis is damn.... theres people who sincerely want to attend BH birthday party but bcs of those people who try for fun make them ca.10  --->  0\nso upsetting the abuse these kids get unhappy   3   --->  0\nclauditte  --->  1\nbase unver ajalah MINAHAES unhappy   --->  0\n so? sad  --->  0\n"
    }
   ],
   "source": [
    "i = 0\n",
    "for y in y_test:\n",
    "    print(xtest[i],\" ---> \",y)\n",
    "    i = i+1"
   ]
  },
  {
   "cell_type": "code",
   "execution_count": 85,
   "metadata": {},
   "outputs": [
    {
     "output_type": "error",
     "ename": "TypeError",
     "evalue": "'History' object is not subscriptable",
     "traceback": [
      "\u001b[0;31m---------------------------------------------------------------------------\u001b[0m",
      "\u001b[0;31mTypeError\u001b[0m                                 Traceback (most recent call last)",
      "\u001b[0;32m<ipython-input-85-09798d409a00>\u001b[0m in \u001b[0;36m<module>\u001b[0;34m\u001b[0m\n\u001b[1;32m      1\u001b[0m \u001b[0mplt\u001b[0m\u001b[0;34m.\u001b[0m\u001b[0mtitle\u001b[0m\u001b[0;34m(\u001b[0m\u001b[0;34m'Model loss'\u001b[0m\u001b[0;34m)\u001b[0m\u001b[0;34m\u001b[0m\u001b[0;34m\u001b[0m\u001b[0m\n\u001b[0;32m----> 2\u001b[0;31m \u001b[0mplt\u001b[0m\u001b[0;34m.\u001b[0m\u001b[0mplot\u001b[0m\u001b[0;34m(\u001b[0m\u001b[0mmodelo\u001b[0m\u001b[0;34m.\u001b[0m\u001b[0mhistory\u001b[0m\u001b[0;34m[\u001b[0m\u001b[0;34m'loss'\u001b[0m\u001b[0;34m]\u001b[0m\u001b[0;34m)\u001b[0m\u001b[0;34m\u001b[0m\u001b[0;34m\u001b[0m\u001b[0m\n\u001b[0m\u001b[1;32m      3\u001b[0m \u001b[0mplt\u001b[0m\u001b[0;34m.\u001b[0m\u001b[0mplot\u001b[0m\u001b[0;34m(\u001b[0m\u001b[0mmodelo\u001b[0m\u001b[0;34m.\u001b[0m\u001b[0mhistory\u001b[0m\u001b[0;34m[\u001b[0m\u001b[0;34m'val_loss'\u001b[0m\u001b[0;34m]\u001b[0m\u001b[0;34m)\u001b[0m\u001b[0;34m\u001b[0m\u001b[0;34m\u001b[0m\u001b[0m\n\u001b[1;32m      4\u001b[0m \u001b[0mplt\u001b[0m\u001b[0;34m.\u001b[0m\u001b[0mylabel\u001b[0m\u001b[0;34m(\u001b[0m\u001b[0;34m'loss'\u001b[0m\u001b[0;34m)\u001b[0m\u001b[0;34m\u001b[0m\u001b[0;34m\u001b[0m\u001b[0m\n\u001b[1;32m      5\u001b[0m \u001b[0mplt\u001b[0m\u001b[0;34m.\u001b[0m\u001b[0mxlabel\u001b[0m\u001b[0;34m(\u001b[0m\u001b[0;34m'epoch'\u001b[0m\u001b[0;34m)\u001b[0m\u001b[0;34m\u001b[0m\u001b[0;34m\u001b[0m\u001b[0m\n",
      "\u001b[0;31mTypeError\u001b[0m: 'History' object is not subscriptable"
     ]
    }
   ],
   "source": [
    "plt.title('Model loss')\n",
    "plt.plot(history.history['loss'])\n",
    "plt.plot(history.history['val_loss'])\n",
    "plt.ylabel('loss')\n",
    "plt.xlabel('epoch')\n",
    "plt.legend(['training','validation'],loc='upper right')\n",
    "plt.show()"
   ]
  },
  {
   "cell_type": "code",
   "execution_count": 86,
   "metadata": {},
   "outputs": [
    {
     "output_type": "error",
     "ename": "TypeError",
     "evalue": "'History' object is not subscriptable",
     "traceback": [
      "\u001b[0;31m---------------------------------------------------------------------------\u001b[0m",
      "\u001b[0;31mTypeError\u001b[0m                                 Traceback (most recent call last)",
      "\u001b[0;32m<ipython-input-86-015bbf2bd32d>\u001b[0m in \u001b[0;36m<module>\u001b[0;34m\u001b[0m\n\u001b[1;32m      2\u001b[0m \u001b[0mplt\u001b[0m\u001b[0;34m.\u001b[0m\u001b[0mylabel\u001b[0m\u001b[0;34m(\u001b[0m\u001b[0;34m'accuracy'\u001b[0m\u001b[0;34m)\u001b[0m\u001b[0;34m\u001b[0m\u001b[0;34m\u001b[0m\u001b[0m\n\u001b[1;32m      3\u001b[0m \u001b[0mplt\u001b[0m\u001b[0;34m.\u001b[0m\u001b[0mxlabel\u001b[0m\u001b[0;34m(\u001b[0m\u001b[0;34m'epoch'\u001b[0m\u001b[0;34m)\u001b[0m\u001b[0;34m\u001b[0m\u001b[0;34m\u001b[0m\u001b[0m\n\u001b[0;32m----> 4\u001b[0;31m \u001b[0mplt\u001b[0m\u001b[0;34m.\u001b[0m\u001b[0mplot\u001b[0m\u001b[0;34m(\u001b[0m\u001b[0mmodelo\u001b[0m\u001b[0;34m.\u001b[0m\u001b[0mhistory\u001b[0m\u001b[0;34m[\u001b[0m\u001b[0;34m'accuracy'\u001b[0m\u001b[0;34m]\u001b[0m\u001b[0;34m)\u001b[0m\u001b[0;34m\u001b[0m\u001b[0;34m\u001b[0m\u001b[0m\n\u001b[0m\u001b[1;32m      5\u001b[0m \u001b[0mplt\u001b[0m\u001b[0;34m.\u001b[0m\u001b[0mplot\u001b[0m\u001b[0;34m(\u001b[0m\u001b[0mmodelo\u001b[0m\u001b[0;34m.\u001b[0m\u001b[0mhistory\u001b[0m\u001b[0;34m[\u001b[0m\u001b[0;34m'val_accuracy'\u001b[0m\u001b[0;34m]\u001b[0m\u001b[0;34m)\u001b[0m\u001b[0;34m\u001b[0m\u001b[0;34m\u001b[0m\u001b[0m\n\u001b[1;32m      6\u001b[0m \u001b[0mplt\u001b[0m\u001b[0;34m.\u001b[0m\u001b[0mlegend\u001b[0m\u001b[0;34m(\u001b[0m\u001b[0;34m[\u001b[0m\u001b[0;34m'training'\u001b[0m\u001b[0;34m,\u001b[0m \u001b[0;34m'validation'\u001b[0m\u001b[0;34m]\u001b[0m\u001b[0;34m,\u001b[0m \u001b[0mloc\u001b[0m\u001b[0;34m=\u001b[0m\u001b[0;34m'lower right'\u001b[0m\u001b[0;34m)\u001b[0m\u001b[0;34m\u001b[0m\u001b[0;34m\u001b[0m\u001b[0m\n",
      "\u001b[0;31mTypeError\u001b[0m: 'History' object is not subscriptable"
     ]
    }
   ],
   "source": [
    "plt.title('Model accuracy')\n",
    "plt.ylabel('accuracy')\n",
    "plt.xlabel('epoch')\n",
    "plt.plot(history.history['accuracy'])\n",
    "plt.plot(history.history['val_accuracy'])\n",
    "plt.legend(['training', 'validation'], loc='lower right')\n",
    "plt.show()"
   ]
  },
  {
   "cell_type": "code",
   "execution_count": null,
   "metadata": {},
   "outputs": [],
   "source": []
  }
 ]
}