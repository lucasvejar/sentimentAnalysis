{
 "metadata": {
  "language_info": {
   "codemirror_mode": {
    "name": "ipython",
    "version": 3
   },
   "file_extension": ".py",
   "mimetype": "text/x-python",
   "name": "python",
   "nbconvert_exporter": "python",
   "pygments_lexer": "ipython3",
   "version": "3.6.9-final"
  },
  "orig_nbformat": 2,
  "kernelspec": {
   "name": "python_defaultSpec_1598301763009",
   "display_name": "Python 3.6.9 64-bit"
  }
 },
 "nbformat": 4,
 "nbformat_minor": 2,
 "cells": [
  {
   "cell_type": "code",
   "execution_count": 19,
   "metadata": {},
   "outputs": [],
   "source": [
    "from textblob import TextBlob\n",
    "import accessing_published_tweets as apt"
   ]
  },
  {
   "cell_type": "code",
   "execution_count": 20,
   "metadata": {},
   "outputs": [],
   "source": [
    "tw_client = apt.TwitterClient('adrian_twarog')\n",
    "tw_analyzer = apt.TweetAnalyzer()\n",
    "tweets = tw_client.get_user_timeline_tweets(50)\n",
    "tweets = tw_analyzer.tweets_to_data_frame(tweets)\n",
    "tweets = tweets['tweets']"
   ]
  },
  {
   "cell_type": "code",
   "execution_count": 23,
   "metadata": {
    "tags": []
   },
   "outputs": [
    {
     "output_type": "stream",
     "name": "stdout",
     "text": "tweet --->  @semiteagain React and many others  |||| sentiment --->  Sentiment(polarity=0.5, subjectivity=0.5)\ntweet --->  @abramcatalyst @HabitCode React.  |||| sentiment --->  Sentiment(polarity=0.0, subjectivity=0.0)\ntweet --->  @thakares Like a plant!  |||| sentiment --->  Sentiment(polarity=0.0, subjectivity=0.0)\ntweet --->  @dev_nuII It could fit a single line if I needed it to!  |||| sentiment --->  Sentiment(polarity=0.15535714285714286, subjectivity=0.30714285714285716)\ntweet --->  @iPariola Js!  |||| sentiment --->  Sentiment(polarity=0.0, subjectivity=0.0)\ntweet --->  @sudha_bedapudi Mine too!  |||| sentiment --->  Sentiment(polarity=0.0, subjectivity=0.0)\ntweet --->  @Fi_Rajab 🤣  |||| sentiment --->  Sentiment(polarity=0.0, subjectivity=0.0)\ntweet --->  @_Sir_hef_ ReactJS does almost everything, even can set the title for you  |||| sentiment --->  Sentiment(polarity=0.0, subjectivity=0.0)\ntweet --->  @minasa1eeb @sudo_overflow Winning!  |||| sentiment --->  Sentiment(polarity=0.625, subjectivity=0.75)\ntweet --->  @deltsandtraps Yeah it depends on what you’re doing, but it can save a heap of time!  |||| sentiment --->  Sentiment(polarity=0.0, subjectivity=0.0)\ntweet --->  @FrancescoCiull4 @shrey__tripathi Wisdom like this only comes after you’ve planted thousands of roots like this!  |||| sentiment --->  Sentiment(polarity=0.0, subjectivity=1.0)\ntweet --->  @shrey__tripathi Who needs it, a tree only needs a root to grow!  |||| sentiment --->  Sentiment(polarity=0.0, subjectivity=1.0)\ntweet --->  @h3b3rbastidas Sp-averywebsite  |||| sentiment --->  Sentiment(polarity=0.0, subjectivity=0.0)\ntweet --->  @EddyVinckk And lots of ::before ::after classes!  |||| sentiment --->  Sentiment(polarity=0.0, subjectivity=0.0)\ntweet --->  Who knew that you could have such a massive website or application in such a single, small div...\n\nWebsites these d… https://t.co/ErifS5nALd  |||| sentiment --->  Sentiment(polarity=-0.06428571428571428, subjectivity=0.5228571428571429)\ntweet --->  @tauhid22k So true  |||| sentiment --->  Sentiment(polarity=0.35, subjectivity=0.65)\ntweet --->  Humans are naturally creative explorers...\n\nFirst, we explored our countries, we built ships and sailed across the… https://t.co/0hwXjpzH6q  |||| sentiment --->  Sentiment(polarity=0.375, subjectivity=0.6666666666666666)\ntweet --->  Simplicity is key in development.\n\nThe smallest projects or ideas can be the biggest money makers...\n\nThe largest a… https://t.co/MjPwF7EWMT  |||| sentiment --->  Sentiment(polarity=0.0, subjectivity=1.0)\ntweet --->  Sometimes I miss the days we just used HTML, CSS and JS to make websites (instead of WordPress, react, and extra abstractions)  |||| sentiment --->  Sentiment(polarity=0.0, subjectivity=0.1)\ntweet --->  🤷‍♂️ Success isn’t when others tell you it happens.\n\n👨‍🎨 Success is when you tell yourself it happens.  |||| sentiment --->  Sentiment(polarity=0.3, subjectivity=0.0)\ntweet --->  🚴‍♀️🏃‍♂️Surround yourself with positive people.\n\n🤼 👊 They will support you, care, and understand you when you want… https://t.co/sVllgtv0II  |||| sentiment --->  Sentiment(polarity=0.22727272727272727, subjectivity=0.5454545454545454)\ntweet --->  There is a point to everything you learn.\n\nThings you might think are not useful, can serve you well in the future.… https://t.co/gXUg8Sucr5  |||| sentiment --->  Sentiment(polarity=-0.15, subjectivity=0.0)\ntweet --->  👋 Monday mornings are the best. \n\n🔥 We can start fresh, with new goals or fresh energy to start our goals.  |||| sentiment --->  Sentiment(polarity=0.43409090909090914, subjectivity=0.43863636363636366)\ntweet --->  @florinpop1705 To wake up! Monday is already here! Time to rise and shine!!!  |||| sentiment --->  Sentiment(polarity=0.0, subjectivity=0.0)\ntweet --->  @ossia Florin has done many things with both determination and passion. It’s awesome to see his journey and worth c… https://t.co/eogrAHn7Pw  |||| sentiment --->  Sentiment(polarity=0.6, subjectivity=0.5333333333333333)\ntweet --->  @florinpop1705 Good guy with a good book for a good price!  |||| sentiment --->  Sentiment(polarity=0.7583333333333333, subjectivity=0.6000000000000001)\ntweet --->  RT @florinpop1705: My first eBook: \"Ten++ Ways to Make Money as a Developer\" is now available for Pre-Sale at 50% discount! 🤩\n\nGet your cop…  |||| sentiment --->  Sentiment(polarity=0.25, subjectivity=0.24444444444444446)\ntweet --->  @catalinmpit This, I need more of these kinds of responses in my life!  |||| sentiment --->  Sentiment(polarity=0.625, subjectivity=0.5)\ntweet --->  @matt_healy Aussie developers for the win!  |||| sentiment --->  Sentiment(polarity=1.0, subjectivity=0.4)\ntweet --->  @GameDadMatt It’s great to hear other local developers doing hard work. I think the focus on solutions more than co… https://t.co/mq88E8Xkl9  |||| sentiment --->  Sentiment(polarity=0.17666666666666667, subjectivity=0.4333333333333333)\ntweet --->  @rachenest Congrats, it’s great to hear local Aussie developers doing well!  |||| sentiment --->  Sentiment(polarity=0.4, subjectivity=0.375)\ntweet --->  @florinpop1705 Lookin good!  |||| sentiment --->  Sentiment(polarity=0.875, subjectivity=0.6000000000000001)\ntweet --->  @mzalazar Haha I think IE is deprecated now?  |||| sentiment --->  Sentiment(polarity=0.2, subjectivity=0.3)\ntweet --->  @xarrijorge Basically :)  |||| sentiment --->  Sentiment(polarity=0.5, subjectivity=1.0)\ntweet --->  @faisalakht 🤷‍♂️👋👍  |||| sentiment --->  Sentiment(polarity=0.0, subjectivity=0.0)\ntweet --->  @tweet2sanjaydev 👍  |||| sentiment --->  Sentiment(polarity=0.0, subjectivity=0.0)\ntweet --->  @agentm831 That's great to hear, I wish more people where more themselves than trying to be someone who they aren't!  |||| sentiment --->  Sentiment(polarity=0.6416666666666667, subjectivity=0.5833333333333334)\ntweet --->  @benawad 14-hour videos are the best! (especially the processing time!)  |||| sentiment --->  Sentiment(polarity=0.5, subjectivity=0.65)\ntweet --->  😱 Conquering your fears is what many try to do...\n\n👊 But conquering your dreams, now that's something worth doing!  |||| sentiment --->  Sentiment(polarity=0.4375, subjectivity=0.3)\ntweet --->  @nileshgarg0023 Thank you!  |||| sentiment --->  Sentiment(polarity=0.0, subjectivity=0.0)\ntweet --->  It's not about being the best.\n\nIt's about being the best version of you.  |||| sentiment --->  Sentiment(polarity=1.0, subjectivity=0.3)\ntweet --->  @maahi_10 React  |||| sentiment --->  Sentiment(polarity=0.0, subjectivity=0.0)\ntweet --->  @kamalo__22 React  |||| sentiment --->  Sentiment(polarity=0.0, subjectivity=0.0)\ntweet --->  @cardotrejos :D  |||| sentiment --->  Sentiment(polarity=1.0, subjectivity=1.0)\ntweet --->  @nileshgarg0023 It's heaps of fun, especially hooks!  |||| sentiment --->  Sentiment(polarity=0.15, subjectivity=0.6)\ntweet --->  @codevickk Backend is a beast of many levels, I like to occasionally dabble in it, but not too much haha  |||| sentiment --->  Sentiment(polarity=0.2333333333333333, subjectivity=0.30833333333333335)\ntweet --->  @rumenostomia I personally think nodejs is good to start on if you are learning or know JS  |||| sentiment --->  Sentiment(polarity=0.35, subjectivity=0.45000000000000007)\ntweet --->  Trying hard to grow my youtube channel, so follows, subscribes and smashing that like button is always appreciated!… https://t.co/10sd1DBBdB  |||| sentiment --->  Sentiment(polarity=-0.2916666666666667, subjectivity=0.5416666666666666)\ntweet --->  👓 Glassdoor like CSS effects, creating cool blur's between the background and an element?\n\n🔍 Backdrop-Filter is a C… https://t.co/NuC8UKJsOY  |||| sentiment --->  Sentiment(polarity=0.35, subjectivity=0.65)\ntweet --->  Are you interested in:\n- UI 📘\n- UX 🙎‍♂️\n- CSS 💠\n- SASS 💅\n- HTML 💻\n- Animation ▶️\n- React ⚛️ \n- React Native 📱\n- Nod… https://t.co/uDIBFXsv68  |||| sentiment --->  Sentiment(polarity=0.25, subjectivity=0.5)\n"
    }
   ],
   "source": [
    "for tweet in tweets:\n",
    "    sent = TextBlob(tweet)\n",
    "    print(\"tweet:\",tweet,\", sentiment:\",sent.sentiment)"
   ]
  },
  {
   "cell_type": "code",
   "execution_count": 2,
   "metadata": {},
   "outputs": [],
   "source": [
    "sentence = TextBlob(\"I'm making progress, such a good start.\")\n",
    "                    #\"That play was boring and stupid but it was good tough.\"\n",
    "                    #\"That's the dumbiest idea ever.\"\n",
    "                    #\"You're not the brighest but I can manage it.\")"
   ]
  },
  {
   "cell_type": "code",
   "execution_count": 3,
   "metadata": {},
   "outputs": [
    {
     "output_type": "execute_result",
     "data": {
      "text/plain": "WordList(['I', \"'m\", 'making', 'progress', 'such', 'a', 'good', 'start'])"
     },
     "metadata": {},
     "execution_count": 3
    }
   ],
   "source": [
    "sentence.words"
   ]
  },
  {
   "cell_type": "code",
   "execution_count": 4,
   "metadata": {},
   "outputs": [],
   "source": [
    "sentiment = sentence.sentiment"
   ]
  },
  {
   "cell_type": "code",
   "execution_count": 5,
   "metadata": {},
   "outputs": [
    {
     "output_type": "execute_result",
     "data": {
      "text/plain": "0.35"
     },
     "metadata": {},
     "execution_count": 5
    }
   ],
   "source": [
    "sentiment.polarity"
   ]
  },
  {
   "cell_type": "code",
   "execution_count": 6,
   "metadata": {},
   "outputs": [
    {
     "output_type": "execute_result",
     "data": {
      "text/plain": "Sentiment(polarity=0.35, subjectivity=0.55, assessments=[(['such'], 0.0, 0.5, None), (['good'], 0.7, 0.6000000000000001, None)])"
     },
     "metadata": {},
     "execution_count": 6
    }
   ],
   "source": [
    "sentence.sentiment_assessments"
   ]
  },
  {
   "cell_type": "code",
   "execution_count": null,
   "metadata": {},
   "outputs": [],
   "source": []
  }
 ]
}