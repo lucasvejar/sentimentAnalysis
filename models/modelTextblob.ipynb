{
 "metadata": {
  "language_info": {
   "codemirror_mode": {
    "name": "ipython",
    "version": 3
   },
   "file_extension": ".py",
   "mimetype": "text/x-python",
   "name": "python",
   "nbconvert_exporter": "python",
   "pygments_lexer": "ipython3",
   "version": "3.6.9-final"
  },
  "orig_nbformat": 2,
  "kernelspec": {
   "name": "python_defaultSpec_1600607128831",
   "display_name": "Python 3.6.9 64-bit"
  }
 },
 "nbformat": 4,
 "nbformat_minor": 2,
 "cells": [
  {
   "cell_type": "code",
   "execution_count": 1,
   "metadata": {},
   "outputs": [],
   "source": [
    "from textblob import TextBlob\n",
    "import accessing_published_tweets as apt"
   ]
  },
  {
   "cell_type": "code",
   "execution_count": 2,
   "metadata": {},
   "outputs": [],
   "source": [
    "user = 'Luckficus'\n",
    "tw_client = apt.TwitterClient(user)\n",
    "tw_analyzer = apt.TweetAnalyzer()\n",
    "tweets = tw_client.get_user_timeline_tweets(13)\n",
    "tweets = tw_analyzer.tweets_to_data_frame(tweets)\n",
    "tweets = tweets['tweets']"
   ]
  },
  {
   "cell_type": "code",
   "execution_count": 3,
   "metadata": {
    "tags": []
   },
   "outputs": [
    {
     "output_type": "stream",
     "name": "stdout",
     "text": "@liamoreno17 Jsjajaja en ig tengo un bot que likea cosas, aca en tw todavía no tengo , sentiment: Sentiment(polarity=0.0, subjectivity=0.0)\nThe sklearn model is performing great! Happy news to me. , sentiment: Sentiment(polarity=0.9, subjectivity=0.875)\nThere is people being hurt and they don't care. , sentiment: Sentiment(polarity=0.0, subjectivity=0.0)\nAll the notebooks are really out of my reach right now. Sad moment :( , sentiment: Sentiment(polarity=-0.19107142857142856, subjectivity=0.6839285714285714)\nThe Crown is really boring, it's like watch the history Channel , sentiment: Sentiment(polarity=-1.0, subjectivity=1.0)\n@AbriltheDuchess No me cancelen, son twts d prueba , sentiment: Sentiment(polarity=0.0, subjectivity=0.0)\nI wanted to do some platzi courses but I can't. Depressed. Thanks Albert Fernández ahre , sentiment: Sentiment(polarity=0.2, subjectivity=0.2)\n@covipex Por favor , sentiment: Sentiment(polarity=0.0, subjectivity=0.0)\nBoka juniors is unhappy since 9/12/18 , sentiment: Sentiment(polarity=-0.6, subjectivity=0.9)\nMy sis cooked some good brownies , sentiment: Sentiment(polarity=0.7, subjectivity=0.6000000000000001)\nI hate all the Harry Potter movies , sentiment: Sentiment(polarity=-0.8, subjectivity=0.9)\nRiver tied with Sao Paulo, it was such a great game. Although we deserved more!! , sentiment: Sentiment(polarity=0.2953125, subjectivity=0.5375)\n@covipex Estos son twts de prueba para un proyecto que estoy haciendo jsjsjajaja , sentiment: Sentiment(polarity=0.0, subjectivity=0.0)\n"
    }
   ],
   "source": [
    "for tweet in tweets:\n",
    "    sent = TextBlob(tweet)\n",
    "    print(tweet,\", sentiment:\",sent.sentiment)"
   ]
  },
  {
   "cell_type": "code",
   "execution_count": null,
   "metadata": {},
   "outputs": [],
   "source": []
  }
 ]
}