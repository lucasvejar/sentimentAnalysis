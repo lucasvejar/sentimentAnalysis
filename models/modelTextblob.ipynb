{
 "metadata": {
  "language_info": {
   "codemirror_mode": {
    "name": "ipython",
    "version": 3
   },
   "file_extension": ".py",
   "mimetype": "text/x-python",
   "name": "python",
   "nbconvert_exporter": "python",
   "pygments_lexer": "ipython3",
   "version": "3.6.9-final"
  },
  "orig_nbformat": 2,
  "kernelspec": {
   "name": "python_defaultSpec_1600554288721",
   "display_name": "Python 3.6.9 64-bit"
  }
 },
 "nbformat": 4,
 "nbformat_minor": 2,
 "cells": [
  {
   "cell_type": "code",
   "execution_count": 1,
   "metadata": {},
   "outputs": [],
   "source": [
    "from textblob import TextBlob\n",
    "import accessing_published_tweets as apt"
   ]
  },
  {
   "cell_type": "code",
   "execution_count": 2,
   "metadata": {},
   "outputs": [],
   "source": [
    "user = 'Luckficus'\n",
    "tw_client = apt.TwitterClient(user)\n",
    "tw_analyzer = apt.TweetAnalyzer()\n",
    "tweets = tw_client.get_user_timeline_tweets(13)\n",
    "tweets = tw_analyzer.tweets_to_data_frame(tweets)\n",
    "tweets = tweets['tweets']"
   ]
  },
  {
   "cell_type": "code",
   "execution_count": 9,
   "metadata": {
    "tags": []
   },
   "outputs": [
    {
     "output_type": "stream",
     "name": "stdout",
     "text": "The sklearn model is performing great! Happy news to me. , sentiment: Sentiment(polarity=0.9, subjectivity=0.875)\nThere is people being hurt and they don't care. , sentiment: Sentiment(polarity=0.0, subjectivity=0.0)\nAll the notebooks are really out of my reach right now. Sad moment :( , sentiment: Sentiment(polarity=-0.19107142857142856, subjectivity=0.6839285714285714)\nThe Crown is really boring, it's like watch the history Channel , sentiment: Sentiment(polarity=-1.0, subjectivity=1.0)\n@AbriltheDuchess No me cancelen, son twts d prueba , sentiment: Sentiment(polarity=0.0, subjectivity=0.0)\nI wanted to do some platzi courses but I can't. Depressed. Thanks Albert Fernández ahre , sentiment: Sentiment(polarity=0.2, subjectivity=0.2)\n@covipex Por favor , sentiment: Sentiment(polarity=0.0, subjectivity=0.0)\nBoka juniors is unhappy since 9/12/18 , sentiment: Sentiment(polarity=-0.6, subjectivity=0.9)\nMy sis cooked some good brownies , sentiment: Sentiment(polarity=0.7, subjectivity=0.6000000000000001)\nI hate all the Harry Potter movies , sentiment: Sentiment(polarity=-0.8, subjectivity=0.9)\nRiver tied with Sao Paulo, it was such a great game. Although we deserved more!! , sentiment: Sentiment(polarity=0.2953125, subjectivity=0.5375)\n@covipex Estos son twts de prueba para un proyecto que estoy haciendo jsjsjajaja , sentiment: Sentiment(polarity=0.0, subjectivity=0.0)\n128 days of cuarentine, what a boomer , sentiment: Sentiment(polarity=0.0, subjectivity=0.0)\nRT @DeandraDelgadoo: Convocatoria abierta 👉 https://t.co/V5kV45oyBb https://t.co/7MwPcqNBeR , sentiment: Sentiment(polarity=0.0, subjectivity=0.0)\n@Mauro_Vasconcel Callece y aplique Modus Ponens , sentiment: Sentiment(polarity=0.0, subjectivity=0.0)\nRT @FDSoftware_: https://t.co/r6CQvv8aPl , sentiment: Sentiment(polarity=0.0, subjectivity=0.0)\nRT @BriatoreMarco: @MajoLedes Quise tratar de dar un argumento válido y me acorde de esto  😂 https://t.co/1fydvJaYue , sentiment: Sentiment(polarity=0.0, subjectivity=0.0)\nRT @fernandezpablo: Acceso gratis a muchos cursos de Coursera. Muy bueno! están los de Andrew Ng de deep learning 👌👌\n\nhttps://t.co/UzclESSP… , sentiment: Sentiment(polarity=0.0, subjectivity=0.4)\nRT @florws: ¿Netflix \"come\" dentro del cupo de US$ 200? No. Pero hay una explicación para que veas que te cobran en dólares en tu tarjeta.… , sentiment: Sentiment(polarity=0.0, subjectivity=0.0)\nRT @WLensinas: Chau servicios cloud, Hola desktop de escritorio hoy te convertis en server (?) , sentiment: Sentiment(polarity=0.0, subjectivity=0.0)\nRT @misschivito: Ustedes también esperan a un número redondo para salir de la cama o son normales???\nTipo son las 10:27 y toy esperando que… , sentiment: Sentiment(polarity=0.0, subjectivity=0.0)\n@MajoLedes Cuando le pongo relative position y se mezcla todo es tipo: porque el mio no se ve así Lisa? https://t.co/UZIRqr7yDc , sentiment: Sentiment(polarity=0.0, subjectivity=0.0)\n@MiliVe98 Ese hombre te paga la tarjeta de crédito, como te vas a enojar con el ahr , sentiment: Sentiment(polarity=0.0, subjectivity=0.0)\nRT @SofiRosas: Holiholi, me ayudarias con un rt? Muchismas gracias🤍 https://t.co/DrySouW84Y , sentiment: Sentiment(polarity=0.0, subjectivity=0.0)\nRT @Ari_Reinventada: ¡CONTRATEN JÚNIORS!\n\n#diadelprogramador , sentiment: Sentiment(polarity=0.0, subjectivity=0.0)\nRT @nerdearla: 🎉🎉 ¡Feliz día a todas las personas que programan! \nLes dejamos un regalo 🎁 que les va a encantar: ¡abrimos la inscripción pa… , sentiment: Sentiment(polarity=0.0, subjectivity=0.0)\nRT @MechiValle: LinkedIn es ahora manejado por la Coneja China https://t.co/EOS7CiBS23 , sentiment: Sentiment(polarity=0.0, subjectivity=0.0)\nRT @stuttarg: Messi // el de la 4ta de Vélez https://t.co/EK9qQb6Wji , sentiment: Sentiment(polarity=0.0, subjectivity=0.0)\n@natihelmer Te autosugiere 2839294 motos y encima todas carismas y uno apenas , sentiment: Sentiment(polarity=0.0, subjectivity=0.0)\nRT @denicmarko: Free hosting:\n\n* Netlify\n* Firebase\n* AWS\n* Heroku\n* Github Pages\n* Vercel\n* Surge\n* Render\n* Gitlab Pages\n* Stormkit\n* Azu… , sentiment: Sentiment(polarity=0.4, subjectivity=0.8)\nRT @PELI92: En Meli tamos buscando gente para agrandar el equipo, si estas interedo/a o conoces al alguien que pueda estarlo mensajenme. Bu… , sentiment: Sentiment(polarity=0.0, subjectivity=0.0)\nRT @UniverCurious: Think about it. https://t.co/bdlMhTTuF8 , sentiment: Sentiment(polarity=0.0, subjectivity=0.0)\nRT @Pilar_Rey: Bueno lávese mucho las manos para prevenir el covid \n\nComodoro: corte general de agua , sentiment: Sentiment(polarity=0.05000000000000002, subjectivity=0.5)\nRT @medicenmale_: Cuántos sujetos en extinción quedamos sin tener ningún tatuaje? 🙋🏻‍♀️ , sentiment: Sentiment(polarity=0.0, subjectivity=0.0)\nRT @__beln: Comodoro se nos caga de risa, un dia que no podemos salir y nos clava un domingo hermoso , sentiment: Sentiment(polarity=0.0, subjectivity=0.0)\nRT @fedepiri_: Messi somos todos https://t.co/DJkJUXL7Mo , sentiment: Sentiment(polarity=0.0, subjectivity=0.0)\nRT @messycatx: [Tweet importante] Estoy buscando laburo como desarrolladora frontend✨. Tengo exp en desarrollo en vue, react, html, js, css… , sentiment: Sentiment(polarity=-0.75, subjectivity=1.0)\nRT @CorralonC: Bill Gates: “Elijo a una persona perezosa para hacer un trabajo duro. Porque una persona perezosa encontrará una manera fáci… , sentiment: Sentiment(polarity=0.0, subjectivity=0.0)\n@NicooVelasquez https://t.co/QIPhKLwf7e\nTodos los días haces una tareaita con css hasta completar los 100 días , sentiment: Sentiment(polarity=0.0, subjectivity=0.0)\nQuiero hacer el reto de los 100 días de css pero estoy hace 4 días sin Internet Movistar, media pila , sentiment: Sentiment(polarity=0.0, subjectivity=0.0)\nRT @claviska: There’s an npm joke in here somewhere… https://t.co/uINjQflxKT , sentiment: Sentiment(polarity=0.0, subjectivity=0.0)\nRT @kvlly: I saw a post on LinkedIn that recommended adding an emoji at the beginning of your name because you could see who was using some… , sentiment: Sentiment(polarity=0.0, subjectivity=0.0)\n@MajoLedes Este cheatsheet es un golazo de media cancha , sentiment: Sentiment(polarity=0.0, subjectivity=0.0)\nRT @rhakes: “Alfred, play My Chemical Romance”\n#batman https://t.co/vslGlZvAlr , sentiment: Sentiment(polarity=0.0, subjectivity=0.0)\nRT @Blancojuancarl3: Infumables los dos , sentiment: Sentiment(polarity=0.0, subjectivity=0.0)\nRT @marco1889carc: Aunque me duela porque salió de acá, creo que algunos genios de Twitter tienen razón. Di María apenas es el 4to argentin… , sentiment: Sentiment(polarity=0.0, subjectivity=0.0)\nRT @N1000sh: A sincere message: https://t.co/4jYjOlWS66 , sentiment: Sentiment(polarity=0.5, subjectivity=0.5)\n@Alessandra24x Eso re contra pasa, cuando arranque informática casi todos eran chicos y habían muy pocas chicas, en… https://t.co/i7nNhBvBZz , sentiment: Sentiment(polarity=0.0, subjectivity=0.0)\nRT @malerey_: DICCIONARIO ARGENTINO\n\n\"Sí, ¿no?\"  - - -&gt; significa SÍ\n\n\"Sí, no.\" - - - &gt; significa \"entiendo lo que propones pero NO\". \n\n\"Sí… , sentiment: Sentiment(polarity=0.0, subjectivity=0.0)\nRT @realjuanruocco: nos van a exterminar. no tenemos chance. , sentiment: Sentiment(polarity=0.0, subjectivity=0.0)\n"
    }
   ],
   "source": [
    "for tweet in tweets:\n",
    "    sent = TextBlob(tweet)\n",
    "    print(tweet,\", sentiment:\",sent.sentiment)"
   ]
  },
  {
   "cell_type": "code",
   "execution_count": 4,
   "metadata": {},
   "outputs": [],
   "source": [
    "sentence = TextBlob(\"I'm making progress, such a good start.\")\n",
    "                    #\"That play was boring and stupid but it was good tough.\"\n",
    "                    #\"That's the dumbiest idea ever.\"\n",
    "                    #\"You're not the brighest but I can manage it.\")"
   ]
  },
  {
   "cell_type": "code",
   "execution_count": 5,
   "metadata": {},
   "outputs": [
    {
     "output_type": "execute_result",
     "data": {
      "text/plain": "WordList(['I', \"'m\", 'making', 'progress', 'such', 'a', 'good', 'start'])"
     },
     "metadata": {},
     "execution_count": 5
    }
   ],
   "source": [
    "sentence.words"
   ]
  },
  {
   "cell_type": "code",
   "execution_count": 6,
   "metadata": {},
   "outputs": [],
   "source": [
    "sentiment = sentence.sentiment"
   ]
  },
  {
   "cell_type": "code",
   "execution_count": 7,
   "metadata": {},
   "outputs": [
    {
     "output_type": "execute_result",
     "data": {
      "text/plain": "0.35"
     },
     "metadata": {},
     "execution_count": 7
    }
   ],
   "source": [
    "sentiment.polarity"
   ]
  },
  {
   "cell_type": "code",
   "execution_count": 8,
   "metadata": {},
   "outputs": [
    {
     "output_type": "execute_result",
     "data": {
      "text/plain": "Sentiment(polarity=0.35, subjectivity=0.55, assessments=[(['such'], 0.0, 0.5, None), (['good'], 0.7, 0.6000000000000001, None)])"
     },
     "metadata": {},
     "execution_count": 8
    }
   ],
   "source": [
    "sentence.sentiment_assessments"
   ]
  },
  {
   "cell_type": "code",
   "execution_count": null,
   "metadata": {},
   "outputs": [],
   "source": []
  }
 ]
}