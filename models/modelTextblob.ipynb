{
 "metadata": {
  "language_info": {
   "codemirror_mode": {
    "name": "ipython",
    "version": 3
   },
   "file_extension": ".py",
   "mimetype": "text/x-python",
   "name": "python",
   "nbconvert_exporter": "python",
   "pygments_lexer": "ipython3",
   "version": "3.6.9-final"
  },
  "orig_nbformat": 2,
  "kernelspec": {
   "name": "python_defaultSpec_1600701900114",
   "display_name": "Python 3.6.9 64-bit"
  }
 },
 "nbformat": 4,
 "nbformat_minor": 2,
 "cells": [
  {
   "cell_type": "code",
   "execution_count": 1,
   "metadata": {},
   "outputs": [],
   "source": [
    "from textblob import TextBlob\n",
    "import accessing_published_tweets as apt"
   ]
  },
  {
   "cell_type": "code",
   "execution_count": 2,
   "metadata": {},
   "outputs": [],
   "source": [
    "user = 'Luckficus'\n",
    "tw_client = apt.TwitterClient(user)\n",
    "tw_analyzer = apt.TweetAnalyzer()\n",
    "tweets = tw_client.get_user_timeline_tweets(15)\n",
    "tweets = tw_analyzer.tweets_to_data_frame(tweets)\n",
    "tweets = tweets['tweets']"
   ]
  },
  {
   "cell_type": "code",
   "execution_count": 3,
   "metadata": {
    "tags": []
   },
   "outputs": [
    {
     "output_type": "stream",
     "name": "stdout",
     "text": "RT @ornellavezzoso: #comodoro El clima con nosotros ya tiene algo personal. Confirmadisimo! https://t.co/EjMN3FePx2 , sentiment: Positive\n@liamoreno17 Jsjajaja en ig tengo un bot que likea cosas, aca en tw todavía no tengo , sentiment: Positive\nThe sklearn model is performing great! Happy news to me. , sentiment: Positive\nThere is people being hurt and they don't care. , sentiment: Positive\nAll the notebooks are really out of my reach right now. Sad moment :( , sentiment: Negative\nThe Crown is really boring, it's like watch the history Channel , sentiment: Negative\n@AbriltheDuchess No me cancelen, son twts d prueba , sentiment: Positive\nI wanted to do some platzi courses but I can't. Depressed. Thanks Albert Fernández ahre , sentiment: Positive\n@covipex Por favor , sentiment: Positive\nBoka juniors is unhappy since 9/12/18 , sentiment: Negative\nMy sis cooked some good brownies , sentiment: Positive\nI hate all the Harry Potter movies , sentiment: Negative\nRiver tied with Sao Paulo, it was such a great game. Although we deserved more!! , sentiment: Positive\n@covipex Estos son twts de prueba para un proyecto que estoy haciendo jsjsjajaja , sentiment: Positive\n128 days of cuarentine, what a boomer , sentiment: Positive\n"
    }
   ],
   "source": [
    "for tweet in tweets:\n",
    "    sent = TextBlob(tweet)\n",
    "    sent = 'Positive' if sent.sentiment.polarity >= 0 else 'Negative'\n",
    "    print(tweet,\", sentiment:\",sent)"
   ]
  },
  {
   "cell_type": "code",
   "execution_count": null,
   "metadata": {},
   "outputs": [],
   "source": []
  }
 ]
}