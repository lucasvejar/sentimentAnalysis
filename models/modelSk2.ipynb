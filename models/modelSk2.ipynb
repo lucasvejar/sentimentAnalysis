{
 "cells": [
  {
   "cell_type": "code",
   "execution_count": 15,
   "metadata": {},
   "outputs": [],
   "source": [
    "import numpy as np\n",
    "import pandas as pd\n",
    "import matplotlib.pyplot as plt\n",
    "import pathlib\n",
    "\n",
    "import spacy\n",
    "from spacy.lang.en import English\n",
    "from spacy.lang.en.stop_words import STOP_WORDS\n",
    "from string import punctuation\n",
    "\n",
    "# Classifiers\n",
    "from sklearn.linear_model import LogisticRegression\n",
    "from sklearn.ensemble import RandomForestClassifier\n",
    "from sklearn.naive_bayes import MultinomialNB\n",
    "from sklearn.svm import LinearSVC\n",
    "\n",
    "from sklearn.feature_extraction.text import CountVectorizer\n",
    "from sklearn.model_selection import train_test_split\n",
    "from sklearn.metrics import classification_report, confusion_matrix, accuracy_score\n",
    "\n",
    "import accessing_published_tweets, cleaningTweets"
   ]
  },
  {
   "cell_type": "code",
   "execution_count": 16,
   "metadata": {
    "tags": []
   },
   "outputs": [],
   "source": [
    "# Loading the dataset \n",
    "data_dir = pathlib.Path('/home/lv11/Documents/ProyectosPython/sentimentAnalysis/train')\n",
    "nf = pd.read_csv(data_dir / 'tweetsDataset1.csv',skiprows=1,names=['Message','Target'])\n",
    "#print(nf.head(20))"
   ]
  },
  {
   "cell_type": "code",
   "execution_count": 17,
   "metadata": {
    "tags": []
   },
   "outputs": [],
   "source": [
    "nlp = English()\n",
    "stop_words = list(STOP_WORDS)\n",
    "#print(stop_words)"
   ]
  },
  {
   "cell_type": "code",
   "execution_count": 18,
   "metadata": {},
   "outputs": [
    {
     "output_type": "execute_result",
     "data": {
      "text/plain": "CountVectorizer(analyzer='word', binary=False, decode_error='strict',\n                dtype=<class 'numpy.int64'>, encoding='utf-8', input='content',\n                lowercase=False, max_df=1.0, max_features=None, min_df=0,\n                ngram_range=(1, 1), preprocessor=None, stop_words=None,\n                strip_accents=None, token_pattern='(?u)\\\\b\\\\w\\\\w+\\\\b',\n                tokenizer=None, vocabulary=None)"
     },
     "metadata": {},
     "execution_count": 18
    }
   ],
   "source": [
    "vectorizer = CountVectorizer(min_df=0, lowercase=False)\n",
    "vectorizer.fit(nf['Message'])\n",
    "#vectorizer.vocabulary_"
   ]
  },
  {
   "cell_type": "code",
   "execution_count": 19,
   "metadata": {},
   "outputs": [
    {
     "output_type": "execute_result",
     "data": {
      "text/plain": "array([[0, 0, 0, ..., 0, 0, 0],\n       [0, 0, 0, ..., 0, 0, 0],\n       [0, 0, 0, ..., 0, 0, 0],\n       ...,\n       [0, 0, 0, ..., 0, 0, 0],\n       [0, 0, 0, ..., 0, 0, 0],\n       [0, 0, 0, ..., 0, 0, 0]])"
     },
     "metadata": {},
     "execution_count": 19
    }
   ],
   "source": [
    "vectorizer.transform(nf['Message']).toarray()"
   ]
  },
  {
   "cell_type": "code",
   "execution_count": 20,
   "metadata": {},
   "outputs": [],
   "source": [
    "messages = nf['Message']\n",
    "labels = nf['Target']"
   ]
  },
  {
   "cell_type": "code",
   "execution_count": 21,
   "metadata": {},
   "outputs": [],
   "source": [
    "x_train, x_test, y_train, y_test = train_test_split(messages, labels, test_size=0.25, random_state=1000, shuffle=True)"
   ]
  },
  {
   "cell_type": "code",
   "execution_count": 22,
   "metadata": {},
   "outputs": [
    {
     "output_type": "execute_result",
     "data": {
      "text/plain": "<1727x3749 sparse matrix of type '<class 'numpy.int64'>'\n\twith 15512 stored elements in Compressed Sparse Row format>"
     },
     "metadata": {},
     "execution_count": 22
    }
   ],
   "source": [
    "vectorizer.fit(x_train)\n",
    "\n",
    "X_train = vectorizer.transform(x_train)\n",
    "X_test = vectorizer.transform(x_test)\n",
    "X_train"
   ]
  },
  {
   "cell_type": "code",
   "execution_count": 23,
   "metadata": {},
   "outputs": [
    {
     "output_type": "execute_result",
     "data": {
      "text/plain": "RandomForestClassifier(bootstrap=True, ccp_alpha=0.0, class_weight=None,\n                       criterion='gini', max_depth=None, max_features='auto',\n                       max_leaf_nodes=None, max_samples=None,\n                       min_impurity_decrease=0.0, min_impurity_split=None,\n                       min_samples_leaf=1, min_samples_split=2,\n                       min_weight_fraction_leaf=0.0, n_estimators=200,\n                       n_jobs=None, oob_score=False, random_state=None,\n                       verbose=0, warm_start=False)"
     },
     "metadata": {},
     "execution_count": 23
    }
   ],
   "source": [
    "classifier = LinearSVC(dual=False) #LinearSVC(dual=False) #MultinomialNB() # RandomForestClassifier(n_estimators=200) #LogisticRegression()\n",
    "classifier.fit(X_train, y_train)"
   ]
  },
  {
   "cell_type": "code",
   "execution_count": 24,
   "metadata": {
    "tags": [
     "outputPrepend"
    ]
   },
   "outputs": [
    {
     "output_type": "stream",
     "name": "stdout",
     "text": "jimin to yoongi unhappy  .4  PREDICTION ====>  0\nrealized i havent eaten rice maghapon because i finished 3 packs of spicy seafood noodles + to  extra big chilimansi :(acid attack right now  PREDICTION ====>  0\nclauditte  PREDICTION ====>  0\nI used to like my neighbours  PREDICTION ====>  1\n had chopsuey before that unhappy  laughing my ass off humble feeds are always the bomb!  PREDICTION ====>  0\nKissWard tagline:tweet with us Pans :)NoOneCanSTOP KissWard  PREDICTION ====>  1\nI check Beautiful News every single day  PREDICTION ====>  1\n- Thank you tons.1  PREDICTION ====>  1\nHow can I set an alarm for 9am and snooze it until 12 unhappy   PREDICTION ====>  0\nGreat! You're welcome Josh happy  ^Adam  PREDICTION ====>  1\n32- for the love of a daughter crying    PREDICTION ====>  1\nfailed unhappy  .g hehe  PREDICTION ====>  0\nI miss it already unhappy   PREDICTION ====>  0\nMy bed is so comfortable I don't want to get up unhappy   PREDICTION ====>  0\nI wish my dogs knew how much I hyped them up on snap chat unhappy   PREDICTION ====>  0\n it's just got 3 years longer unhappy     PREDICTION ====>  0\nso sorry I havent been checking my tweets unhappy  We are all here for you!  PREDICTION ====>  0\nAlright. Looks like back to chores behind the scenes. My page hits drop to 1K daily when I don't visit and post. unhappy   PREDICTION ====>  0\ncome back callie  gabbie d ghost unhappy  i love you both  PREDICTION ====>  0\nunhappy  :/ unhappy   feeling sick  PREDICTION ====>  0\nsame unhappy    PREDICTION ====>  0\nThanks for the recent follow Happy to connect happy  have a great Thursday..10  PREDICTION ====>  1\nKoalas are dying of thirst  and it's all because of us unhappy  .8  PREDICTION ====>  0\nDefinitely my arms unhappy  .14  PREDICTION ====>  0\nunhappy  oh man..  PREDICTION ====>  0\ngood crying with joy  i love you so much  PREDICTION ====>  1\nGuess who's not getting a unicorn frappuccino because they're sold out unhappy .1  PREDICTION ====>  0\n the Mini and the Campervan happy  PREDICTION ====>  1\nit feels kind of empty w/o youngjae at the venue.. unhappy   PREDICTION ====>  0\nWell that's my weekend viewing plans changed! unhappy   PREDICTION ====>  0\ni hope this little beaand is andot overworkiandg himself and gettiandg at least some rest unhappy    PREDICTION ====>  0\nminah starts crying because of the fans and yura  hyeri make her laugh to cheer her up.. I can't crying with joy  PREDICTION ====>  1\ntonight 7pm.1  PREDICTION ====>  1\nRavel Morrison unhappy    PREDICTION ====>  0\nKoalas are dying of thirst  and it's all because of us unhappy  .4  PREDICTION ====>  0\ntalking to my over driver about where I'm goinghe said he'd love to go to New York too but since Trump it's probably not.6  PREDICTION ====>  0\nMy new video for happy  I hope you like ithappy  PREDICTION ====>  1\n you've got the message happy  PREDICTION ====>  1\nit's just a cut during one of my kitchen experiments happy  PREDICTION ====>  1\n Give a little for her happy  PREDICTION ====>  1\nthanks for the recent follow. Much appreciated happy  PREDICTION ====>  1\nNOOOO in here is 6.45 ;_; I have classes at that time unhappy   PREDICTION ====>  0\nI've tried resetting everything  PREDICTION ====>  0\nmata_tytan: almightyTANNER: good evening everyone happy  join our twitter party tonight. official tagline:TANN  PREDICTION ====>  1\nYou deserve better . Hope you'll be okay unhappy    PREDICTION ====>  0\nhow about me unhappy   PREDICTION ====>  0\ninstant message still bored unhappy   PREDICTION ====>  0\nI wish I was meeting OA again unhappy   PREDICTION ====>  0\nThat would be a great trick happy.1  PREDICTION ====>  1\nHave you ever been to AUSTRALIA! :D Love your vids. Lovo on youtube :D  PREDICTION ====>  1\noh my god not laurie penny unhappy   PREDICTION ====>  0\ni miss you huhu so busy unhappy   PREDICTION ====>  0\nYou know what really upsets me? When a stranger on the internet isn't satisfied with the entertainment I provide him for  PREDICTION ====>  1\nHellooo.. happy  pussy (creepz_x)  PREDICTION ====>  1\n DM us happy  S  PREDICTION ====>  1\nWow  PREDICTION ====>  0\nOh that feel when you have 10 gems :D  PREDICTION ====>  0\nI suppose they are waiting for you happy  PREDICTION ====>  1\nThere're time we shcj do/did something that dissapointed ot6  PREDICTION ====>  1\n if i get 900 retweets and 900 likes. help me :(un.2  PREDICTION ====>  0\nOk will do! I never had any problems with the old ticket app  PREDICTION ====>  1\nusually a speedboat behind any we get here on the river unhappy    PREDICTION ====>  0\n have a great  PREDICTION ====>  1\nthanks for the recent follow. Much appreciated happy  Want this.1  PREDICTION ====>  1\ni miss so much unhappy   PREDICTION ====>  0\nit can't be over unhappy   PREDICTION ====>  0\nNew twitter account piss off no idea MAJA SALVADOR is Follow not applicable guys happy  PREDICTION ====>  1\nfuck unhappy   PREDICTION ====>  0\n Who hacked me unhappy   PREDICTION ====>  0\n but in reality they're just patches of dusty dirt unhappy   PREDICTION ====>  0\n but not your career. unhappy   PREDICTION ====>  0\nHi! We tried to call your number but got no response unhappy  Please share another suitable time and an alternate number for us to.. cont1  PREDICTION ====>  0\ncongratulations David! Well done Mrs V! Welcome Jessica! happy  PREDICTION ====>  1\nunhappy  how come people like this have children where's the state intervention   PREDICTION ====>  0\nExaseetly what's happening in TN Politisees. This is not to get BJP at all to TN. Game is different. Again.1  PREDICTION ====>  1\nWould really like it if the coandsole versioands and got the update to makr it like the Steam versioand. =(  PREDICTION ====>  0\nThat would be a great trick happy.3  PREDICTION ====>  1\n I bet The media's one-sided view of Tim Tams surprisingly was the alt-right roar extreme droll Fad unhappy   PREDICTION ====>  0\nHappy belated birthday :)Another duet of you and Amaal is much needed  PREDICTION ====>  1\nOne table last night told me I look like a graceful ballerina gliding through tables- then another told me I looked like a flash dancer unhappy   PREDICTION ====>  0\nWell that's not good unhappy   PREDICTION ====>  0\ni left my headphones at home unhappy  kms  PREDICTION ====>  0\nAnother great song  Have a listen. Its good! You may well like it happy  PREDICTION ====>  1\nAs in most used. Stats don't care about motivation happy  PREDICTION ====>  1\nI wish I could say the gangs all here but Daniel's not in this picture. unhappy   Rantoul Twp High   PREDICTION ====>  0\nYeah did update to 16.04   PREDICTION ====>  0\nRight I seriously need a decent Butterfly Tattoo design  PREDICTION ====>  0\nSuperstar thanks so much for the kind words! Look forward to seeing you soon buddy smile  PREDICTION ====>  1\ntalking to my over driver about where I'm goinghe said he'd love to go to New York too but since Trump it's probably not.3  PREDICTION ====>  0\nIs that store still in use? If so  PREDICTION ====>  1\nCan I pop in a request for assassin shower gel? happy  PREDICTION ====>  1\nThats grim unhappy   PREDICTION ====>  0\ninstant message so jealous okay unhappy  but never mind haha bruno can wait finals first  PREDICTION ====>  0\nmom please stop making cookies  PREDICTION ====>  1\n Mike. Blessings to you. happy  PREDICTION ====>  1\nright i don%27t see how people can just do shit like this   PREDICTION ====>  0\ndon't rt to save a guy's life   PREDICTION ====>  1\n rocks. next question - where is my astro unhappy  ?   PREDICTION ====>  0\nHer back unhappy    PREDICTION ====>  0\nonly way to make sense of those crazy edge cases is the idea of sharing revenue was offensive  PREDICTION ====>  0\n you need a direct coffee feed to Starbucks happy  PREDICTION ====>  1\n still strict  PREDICTION ====>  0\nplease meeeee you have followed me for almost to  years now unhappy   PREDICTION ====>  0\nSomeone asked me Hows life? I just smiled and replied  PREDICTION ====>  0\n or SHIT for short :)*Thanks to my friend maddy over at  PREDICTION ====>  1\ni really feel for that lamp unhappy   PREDICTION ====>  0\n huh? happy  PREDICTION ====>  1\nally unhappy  I can't make a poem about being cute   PREDICTION ====>  0\nstay cool   PREDICTION ====>  1\nOne by one Allah ease my problem . Lot of thanks to Him crying with joy  PREDICTION ====>  1\n when you have to do things like this happy  PREDICTION ====>  1\nYesterday's faci so cute! But he 30+ :(Today's faci is old eeyer  PREDICTION ====>  0\n owner told me about it (as in article) smile  PREDICTION ====>  1\n I can't wait to actually see a copy smile  PREDICTION ====>  1\noh yes happy  PREDICTION ====>  1\nI miss snsd. I miss my girls unhappy   PREDICTION ====>  0\nThanks for sharing happy  PREDICTION ====>  1\n I really liked  happy  PREDICTION ====>  1\nI'm not lost  PREDICTION ====>  0\nI miss you crying   PREDICTION ====>  0\neaster has flown unhappy  I'm not ready to give up home luxuries like branded cereal  PREDICTION ====>  0\nNooo your hair color is pretty   PREDICTION ====>  1\nI love laying in a meadow of flowers listening to Mellow's music ...a great way to relax smile  PREDICTION ====>  1\nThe biblical lectures are coming. More notification soon. Tomorrow  PREDICTION ====>  1\nI'm scared unhappy  I mean. Why the heck did I decide to do laundry at 7:30 pm? What is wrong with me. Did I mention how dark it is. FML  PREDICTION ====>  0\na little video i made for the love of my life  PREDICTION ====>  1\nDon't say that unhappy   PREDICTION ====>  0\ni miss hoseok unhappy    PREDICTION ====>  0\nAm bored and kandowiandg I have ando plaands for today is makiandg me eveand more bored unhappy   PREDICTION ====>  0\nMore than just a picture unhappy    PREDICTION ====>  0\n the new one just seems a bit unstable unhappy   PREDICTION ====>  0\nStats for the day have arrived. 1 new follower and NO unfollowers happy  via  PREDICTION ====>  1\nGood morning every one.2  PREDICTION ====>  1\n[thinks about how tfp soundwave is forever trapped in the void realm] unhappy .1  PREDICTION ====>  0\nI understand that look sad   PREDICTION ====>  0\ni hope this little beaand is andot overworkiandg himself and gettiandg at least some rest unhappy  .1  PREDICTION ====>  0\nMissing in crying  Seaside area.   PREDICTION ====>  0\nKoalas are dying of thirst  and it's all because of us unhappy  .7  PREDICTION ====>  0\nHey Tony  PREDICTION ====>  1\nme everything and anything these days  PREDICTION ====>  1\nJyoust a reminder... thank you for this happy  PREDICTION ====>  1\n i don%27t know if you saw my comment yet  PREDICTION ====>  1\nno one is selling vhope banners what?  sad   PREDICTION ====>  0\n515 SUBSCRIBERS!!!! :DTHE CONTINUES!  PREDICTION ====>  0\nAlso please send prayers and sympathy because my favorite ball dress doesn't fit my boobs crying    PREDICTION ====>  0\n3. That's a lot cheaper and easier than make your own. My schematic needs special cables that doesn't come easy. unhappy   PREDICTION ====>  0\n dealer said loads of cars were returning due to disabled losing them sad   PREDICTION ====>  0\nThanks for up-voting us on PH happy.1  PREDICTION ====>  1\nYG should have sent them to MCD. I want to see them holding the trophy unhappy  anyways   PREDICTION ====>  0\nRose come to him! He's really your enthusiast :-D using SO MUCH not SO MAY!  :-)~~~  PREDICTION ====>  0\nHi Mr. Yen! Will you be doing any signings in New York some day? Your a great role model happy  PREDICTION ====>  1\ni am if you're still looking for one happy  PREDICTION ====>  1\nI've had it since December  my hairs stopped snapping off! It's made a massive difference! Get the  PREDICTION ====>  0\nMerry Christmas everyone happy  PREDICTION ====>  1\nHey thanks for being my top new followers this week! Much appreciated happy   Want this ?  PREDICTION ====>  1\nWe bought a 523 litre fridge. I am applying for cold storage license in Bhayander West :D  PREDICTION ====>  1\nCheers :D  PREDICTION ====>  0\nlast to  things i've bought from you no sweets unhappy   PREDICTION ====>  0\nLet's have dinneeeer please unhappy   PREDICTION ====>  0\nThanks for the recent follow Happy to connect happy  have a great Thursday..32  PREDICTION ====>  1\nOPENING UP TO YOU LOT!RT LIKES WOULD BE LAAAAAVERLY :D .xxENJOY.1  PREDICTION ====>  1\nHAPPY BIRTHDAY KATRIKA  I miss you though unhappy  miss having you in our group and all haih  anyway  PREDICTION ====>  0\nMa de tonight i don%27t really care crying with joy  PREDICTION ====>  1\nI hate when my mom ask so you going or no? Bc then I want to stay home but i missed too much school already unhappy   PREDICTION ====>  0\nRoc Boyz sad    PREDICTION ====>  0\n this freaking chapter of One Piece!! It's definitely a good one! :D  PREDICTION ====>  1\nHer back unhappy  .2  PREDICTION ====>  0\nthis is damn.... theres people who sincerely want to attend BH birthday party but bcs of those people who try for fun make them ca.16  PREDICTION ====>  0\nThanks for the recent follow Happy to connect happy  (Want this? It's FREE!  PREDICTION ====>  1\nYe... I will miss you unhappy   PREDICTION ====>  0\ni tried fixing my choristers dress hem that came undone by taping it with fabric tape but i put it on wrong and its even more ruined unhappy   PREDICTION ====>  0\nGuys please help me retweet unhappy    PREDICTION ====>  0\nWUT I TOTALLY MISSED YOUR BDAY unhappy  Happy belated Birthday sweetheart  PREDICTION ====>  0\nFollow  to a Saga diary and a year's worth of Saga pens :)TCs  PREDICTION ====>  1\nMmmm... the blood of my enemies... happy  PREDICTION ====>  1\ni can't continue this right now because the lighting is shitty as f i swear sorry sad   PREDICTION ====>  0\n I have a cold unhappy  we'll see how I feel today!  PREDICTION ====>  0\ni want harry's phonecase sad   PREDICTION ====>  0\nDid you notice? There is no killings of RSS / BJP workers in another Southern State? CM is dismantling Xtian infra in Munnar?  PREDICTION ====>  1\nThat would be a great trick happy.9  PREDICTION ====>  1\nWtf?! Where's the What is this boring show that's on?! When did this happen?? This is what happens when I close all week. unhappy   PREDICTION ====>  0\ntell me unhappy  why  PREDICTION ====>  0\n man. : (   PREDICTION ====>  0\nNew Upcoming Heroes REVEALED! WUKONG  PREDICTION ====>  0\nPerfect  PREDICTION ====>  0\nThanks for the recent follow Happy to connect happy  have a great Thursday.  Want this.3  PREDICTION ====>  1\nOffline  unhappy   PREDICTION ====>  0\n instead of just money  PREDICTION ====>  0\nNothing could be better happy  PREDICTION ====>  1\nThey stopped having them when they got rid of the toy surprises at the bottom unhappy   PREDICTION ====>  0\nA Chub bun because its Easter! Happy Easter!  His name is Almond! :D  PREDICTION ====>  1\ngood morning i had a nightmare and i'm still wondering why maddie hates me. this is only the beginning of the day unhappy   PREDICTION ====>  0\n oh no unhappy  Could you please tell me a little more about your issue? Im following if youd prefer to DM. Amanda  PREDICTION ====>  0\nDo It Like It's Legal sweaters  ..More designs available at  PREDICTION ====>  0\n Anne! happy  PREDICTION ====>  1\n yes it would have if it hadn't been for those meddling clouds smile  PREDICTION ====>  1\ntoday hasn't been great unhappy    PREDICTION ====>  0\n congratulations to both of you. happy  PREDICTION ====>  1\nSixth spot not applicable Team! Higher pa! :)KISSES TheFashionIcon.1  PREDICTION ====>  1\nhow do we book the cars service for the swards tommorow :D  PREDICTION ====>  1\n I'm a joke unhappy   PREDICTION ====>  0\nHello everyone  PREDICTION ====>  1\n Keep  PREDICTION ====>  0\n hindi close friend? unhappy  PREDICTION ====>  0\nplease just stop confining animals in zoos unhappy    PREDICTION ====>  0\nsadly I'm not unhappy   PREDICTION ====>  0\nAwesome! makes a good nurse maid  PREDICTION ====>  1\nI miss Louis' tweets unhappy   PREDICTION ====>  0\nfriendly fire to wings tour unhappy   PREDICTION ====>  0\n rather  PREDICTION ====>  0\ni wasn't saying i read a book today.1  PREDICTION ====>  1\nSwear I just walked past haha  PREDICTION ====>  0\nHi Carlo! I'm okay nmn. Howdy? happy  PREDICTION ====>  1\n I really appreciate it. Hope you have a brilliant day happy  PREDICTION ====>  1\n we've invited 24 people to propose visions of the future. Jom happy  PREDICTION ====>  1\nThat would be a great trick happy  PREDICTION ====>  1\nNothing could be better happy.3  PREDICTION ====>  1\ni miss them already unhappy    PREDICTION ====>  0\nCongratulations very impressive happy  PREDICTION ====>  1\n that's Europe  PREDICTION ====>  1\nAVI for my man :)Phone made like always wink.1  PREDICTION ====>  1\nZac farro is back By the way hehehe So sad Jeremy is not unhappy   PREDICTION ====>  0\nDammit the effect of the linearts doesn't show so nicely on twitter unhappy   PREDICTION ====>  0\nthe email I was hoping I'd get today  PREDICTION ====>  0\nwhy are your campervan tickets so expensive? unhappy   PREDICTION ====>  0\nFri or Thu? I'm going to the Friday showing :D  PREDICTION ====>  1\nSHOULD I STAY ? SHOULD I GO ? NOBODY KNOWS happy  PREDICTION ====>  1\nClaaaaaaaaaaaaasse !   PREDICTION ====>  0\nShihaaaa help me on my bishie hunttt equals  ^ equals )  PREDICTION ====>  0\n i got goosebumps   PREDICTION ====>  0\nHi ! I want to speak to you about a business partnership. happy  PREDICTION ====>  1\n much appreciated happy  PREDICTION ====>  1\nwowwow these are all so cute unhappy  i wantt .1  PREDICTION ====>  0\nOk. Just please read the replies on this....  PREDICTION ====>  1\nThanks Lala.. Much needed happy  PREDICTION ====>  1\nBut  PREDICTION ====>  0\nThink it would drive me mad once the synths and other robots turned up. unhappy   PREDICTION ====>  0\nI'm a building a LLVM backend so  PREDICTION ====>  0\nOh no Andy unhappy   PREDICTION ====>  0\n much appreciated happy   Want this.1  PREDICTION ====>  1\nphilippines? unhappy    PREDICTION ====>  0\n isn't it? smile  Britain co  PREDICTION ====>  1\nPlease follow me . I have been trying to get your follow for a long time unhappy  .   PREDICTION ====>  0\nPs4 mate  PREDICTION ====>  0\nWill you do before and after pictures? I always enjoy your swanky hair happy  PREDICTION ====>  1\nThis is so damn touching. unhappy    PREDICTION ====>  0\nCan't :(Tello  PREDICTION ====>  0\nTara  PREDICTION ====>  0\nthis is jimin to yoongi unhappy  .7  PREDICTION ====>  0\n I guess it's a good thing then to bring it right to the foreground and put it right in their face  PREDICTION ====>  0\nhappy birthday ! happy  hope you have a good one  PREDICTION ====>  1\nSurround yourself with positivity happy.1  PREDICTION ====>  1\nwhy am i not in aus with alisha unhappy  imagine the things we could be doing  PREDICTION ====>  0\nbut like HOW LONG IS A WHILE?! i didn't want him to be back but he puts me in such a good mood so i don't want him   PREDICTION ====>  0\nthis is damn.... theres people who sincerely want to attend BH birthday party but bcs of those people who try for fun make them ca.7  PREDICTION ====>  0\nthanks for the recent follow. Much appreciated happy   Want this  PREDICTION ====>  1\nSo I may be one of those workers who are not properly compensated unhappy   PREDICTION ====>  0\n find out more and sign up at  PREDICTION ====>  0\n Thank you happy  PREDICTION ====>  1\nWho wants some good vibes? Watch this on YouTube or TV100 application now for FREE happy.3  PREDICTION ====>  1\nThanks for the recent follow Happy to connect happy  have a great Thursday..29  PREDICTION ====>  1\n it's been so much fun and I absolutely love the kids!! Don't want it to be over so soon unhappy   PREDICTION ====>  0\n.I can't believe this hasn't been fixed yet  PREDICTION ====>  0\nare dying of thirst  and it's all because of us unhappy   .1  PREDICTION ====>  0\nthanks for the recent follow. Much appreciated happy   Want this ?.3  PREDICTION ====>  1\nbecause you are one happy  PREDICTION ====>  1\nThat was a FUN night! Sorry I missed last night unhappy  We really need to sync our calendars with and   PREDICTION ====>  0\n much appreciated happy   Want this ?  PREDICTION ====>  1\n"
    }
   ],
   "source": [
    "test_prediction = classifier.predict(X_test)\n",
    "\n",
    "for (sample, prediction) in zip(x_test, test_prediction):\n",
    "    print(sample,\" PREDICTION ====> \", prediction)"
   ]
  },
  {
   "cell_type": "code",
   "execution_count": 25,
   "metadata": {
    "tags": []
   },
   "outputs": [
    {
     "output_type": "stream",
     "name": "stdout",
     "text": "Accuracy:  0.8802083333333334\nAccuracy test:  0.8802083333333334\nAccuracy train:  1.0\nConfusion matrix ---\n[[266  22]\n [ 47 241]]\nClassification report ---\n              precision    recall  f1-score   support\n\n           0       0.85      0.92      0.89       288\n           1       0.92      0.84      0.87       288\n\n    accuracy                           0.88       576\n   macro avg       0.88      0.88      0.88       576\nweighted avg       0.88      0.88      0.88       576\n\n0.8802083333333334\n"
    }
   ],
   "source": [
    "result = classifier.score(X_test, y_test)\n",
    "print('Accuracy: ', result)\n",
    "\n",
    "print(\"Accuracy test: \",classifier.score(X_test,y_test))\n",
    "print(\"Accuracy train: \",classifier.score(X_train,y_train))\n",
    "\n",
    "print(\"Confusion matrix ---\")\n",
    "print(confusion_matrix(y_test, test_prediction))\n",
    "print(\"Classification report ---\")\n",
    "print(classification_report(y_test, test_prediction))\n",
    "print(accuracy_score(y_test, test_prediction))"
   ]
  },
  {
   "cell_type": "code",
   "execution_count": 26,
   "metadata": {},
   "outputs": [
    {
     "output_type": "execute_result",
     "data": {
      "text/plain": "array([0, 1, 0, 1])"
     },
     "metadata": {},
     "execution_count": 26
    }
   ],
   "source": [
    "vec = vectorizer.transform([\"That play was boring and stupid but it was good tough\",\"that's the dumbiest idea ever\",\"you're not the brighest but I can manage it\",\"i hate the oranges\"])\n",
    "some = classifier.predict(vec)\n",
    "some"
   ]
  },
  {
   "cell_type": "code",
   "execution_count": 27,
   "metadata": {},
   "outputs": [
    {
     "output_type": "execute_result",
     "data": {
      "text/plain": "0     RT @ornellavezzoso: #comodoro El clima con nos...\n1     @liamoreno17 Jsjajaja en ig tengo un bot que l...\n2     The sklearn model is performing great! Happy n...\n3       There is people being hurt and they don't care.\n4     All the notebooks are really out of my reach r...\n5     The Crown is really boring, it's like watch th...\n6     @AbriltheDuchess No me cancelen, son twts d pr...\n7     I wanted to do some platzi courses but I can't...\n8                                    @covipex Por favor\n9                 Boka juniors is unhappy since 9/12/18\n10                     My sis cooked some good brownies\n11                   I hate all the Harry Potter movies\n12    River tied with Sao Paulo, it was such a great...\nName: tweets, dtype: object"
     },
     "metadata": {},
     "execution_count": 27
    }
   ],
   "source": [
    "user = 'Luckficus'\n",
    "twitterClient = accessing_published_tweets.TwitterClient(user)\n",
    "tweetAnalyzer = accessing_published_tweets.TweetAnalyzer()\n",
    "\n",
    "tweets = twitterClient.get_user_timeline_tweets(13)\n",
    "tweets = tweetAnalyzer.tweets_to_data_frame(tweets)\n",
    "\n",
    "tweets['tweets']"
   ]
  },
  {
   "cell_type": "code",
   "execution_count": 28,
   "metadata": {
    "tags": []
   },
   "outputs": [
    {
     "output_type": "stream",
     "name": "stdout",
     "text": "RT @ornellavezzoso: #comodoro El clima con nosotros ya tiene algo personal. Confirmadisimo! https://t.co/EjMN3FePx2 , sentiment:  Happy\n@liamoreno17 Jsjajaja en ig tengo un bot que likea cosas, aca en tw todavía no tengo , sentiment:  Unhappy\nThe sklearn model is performing great! Happy news to me. , sentiment:  Happy\nThere is people being hurt and they don't care. , sentiment:  Happy\nAll the notebooks are really out of my reach right now. Sad moment :( , sentiment:  Happy\nThe Crown is really boring, it's like watch the history Channel , sentiment:  Happy\n@AbriltheDuchess No me cancelen, son twts d prueba , sentiment:  Unhappy\nI wanted to do some platzi courses but I can't. Depressed. Thanks Albert Fernández ahre , sentiment:  Unhappy\n@covipex Por favor , sentiment:  Unhappy\nBoka juniors is unhappy since 9/12/18 , sentiment:  Unhappy\nMy sis cooked some good brownies , sentiment:  Unhappy\nI hate all the Harry Potter movies , sentiment:  Happy\nRiver tied with Sao Paulo, it was such a great game. Although we deserved more!! , sentiment:  Unhappy\n"
    }
   ],
   "source": [
    "for tweet in tweets['tweets']:\n",
    "    sentiment = 'Unhappy' if classifier.predict(vectorizer.transform([tweet]).toarray()) == 0 else 'Happy'\n",
    "    print(tweet,\", sentiment: \",sentiment)"
   ]
  },
  {
   "cell_type": "code",
   "execution_count": null,
   "metadata": {},
   "outputs": [],
   "source": []
  }
 ],
 "metadata": {
  "kernelspec": {
   "display_name": "Python 3.6.9 64-bit ('conda-env': venv)",
   "language": "python",
   "name": "python36964bitcondaenvvenv7826cefca42d4575bfa69ede04b4b777"
  },
  "language_info": {
   "codemirror_mode": {
    "name": "ipython",
    "version": 3
   },
   "file_extension": ".py",
   "mimetype": "text/x-python",
   "name": "python",
   "nbconvert_exporter": "python",
   "pygments_lexer": "ipython3",
   "version": "3.6.9-final"
  }
 },
 "nbformat": 4,
 "nbformat_minor": 2
}